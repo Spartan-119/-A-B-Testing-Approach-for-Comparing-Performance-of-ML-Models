{
  "nbformat": 4,
  "nbformat_minor": 0,
  "metadata": {
    "colab": {
      "provenance": [],
      "authorship_tag": "ABX9TyOs9d/to+ge3r5ZRmd4Oz8+",
      "include_colab_link": true
    },
    "kernelspec": {
      "name": "python3",
      "display_name": "Python 3"
    },
    "language_info": {
      "name": "python"
    },
    "widgets": {
      "application/vnd.jupyter.widget-state+json": {
        "d3c172ef7efa4fe7b25ce43085d0efc9": {
          "model_module": "@jupyter-widgets/controls",
          "model_name": "HBoxModel",
          "model_module_version": "1.5.0",
          "state": {
            "_dom_classes": [],
            "_model_module": "@jupyter-widgets/controls",
            "_model_module_version": "1.5.0",
            "_model_name": "HBoxModel",
            "_view_count": null,
            "_view_module": "@jupyter-widgets/controls",
            "_view_module_version": "1.5.0",
            "_view_name": "HBoxView",
            "box_style": "",
            "children": [
              "IPY_MODEL_5e2ae1d0952540b38622e3cba105d7b7",
              "IPY_MODEL_c8a04dccc65746508347f9f6ed318a9f",
              "IPY_MODEL_d2d78712227f4d8584f9608ab86ab453"
            ],
            "layout": "IPY_MODEL_2ab208c9bb0c43b8942c6967fbf95caf"
          }
        },
        "5e2ae1d0952540b38622e3cba105d7b7": {
          "model_module": "@jupyter-widgets/controls",
          "model_name": "HTMLModel",
          "model_module_version": "1.5.0",
          "state": {
            "_dom_classes": [],
            "_model_module": "@jupyter-widgets/controls",
            "_model_module_version": "1.5.0",
            "_model_name": "HTMLModel",
            "_view_count": null,
            "_view_module": "@jupyter-widgets/controls",
            "_view_module_version": "1.5.0",
            "_view_name": "HTMLView",
            "description": "",
            "description_tooltip": null,
            "layout": "IPY_MODEL_8c3982f5e21d4473a10f894df6441412",
            "placeholder": "​",
            "style": "IPY_MODEL_84f604bc276a4e9e9b79de06722e6194",
            "value": "Downloading (…)okenizer_config.json: 100%"
          }
        },
        "c8a04dccc65746508347f9f6ed318a9f": {
          "model_module": "@jupyter-widgets/controls",
          "model_name": "FloatProgressModel",
          "model_module_version": "1.5.0",
          "state": {
            "_dom_classes": [],
            "_model_module": "@jupyter-widgets/controls",
            "_model_module_version": "1.5.0",
            "_model_name": "FloatProgressModel",
            "_view_count": null,
            "_view_module": "@jupyter-widgets/controls",
            "_view_module_version": "1.5.0",
            "_view_name": "ProgressView",
            "bar_style": "success",
            "description": "",
            "description_tooltip": null,
            "layout": "IPY_MODEL_b3129fe88dc348388c380a862baffa91",
            "max": 39,
            "min": 0,
            "orientation": "horizontal",
            "style": "IPY_MODEL_d6e93c40c5274d2bbe3849cd22a8d47d",
            "value": 39
          }
        },
        "d2d78712227f4d8584f9608ab86ab453": {
          "model_module": "@jupyter-widgets/controls",
          "model_name": "HTMLModel",
          "model_module_version": "1.5.0",
          "state": {
            "_dom_classes": [],
            "_model_module": "@jupyter-widgets/controls",
            "_model_module_version": "1.5.0",
            "_model_name": "HTMLModel",
            "_view_count": null,
            "_view_module": "@jupyter-widgets/controls",
            "_view_module_version": "1.5.0",
            "_view_name": "HTMLView",
            "description": "",
            "description_tooltip": null,
            "layout": "IPY_MODEL_a01bc84335ab46f19604b2fb9efe90a4",
            "placeholder": "​",
            "style": "IPY_MODEL_4511598da1ea451ea6ed1210d155a0df",
            "value": " 39.0/39.0 [00:00&lt;00:00, 1.51kB/s]"
          }
        },
        "2ab208c9bb0c43b8942c6967fbf95caf": {
          "model_module": "@jupyter-widgets/base",
          "model_name": "LayoutModel",
          "model_module_version": "1.2.0",
          "state": {
            "_model_module": "@jupyter-widgets/base",
            "_model_module_version": "1.2.0",
            "_model_name": "LayoutModel",
            "_view_count": null,
            "_view_module": "@jupyter-widgets/base",
            "_view_module_version": "1.2.0",
            "_view_name": "LayoutView",
            "align_content": null,
            "align_items": null,
            "align_self": null,
            "border": null,
            "bottom": null,
            "display": null,
            "flex": null,
            "flex_flow": null,
            "grid_area": null,
            "grid_auto_columns": null,
            "grid_auto_flow": null,
            "grid_auto_rows": null,
            "grid_column": null,
            "grid_gap": null,
            "grid_row": null,
            "grid_template_areas": null,
            "grid_template_columns": null,
            "grid_template_rows": null,
            "height": null,
            "justify_content": null,
            "justify_items": null,
            "left": null,
            "margin": null,
            "max_height": null,
            "max_width": null,
            "min_height": null,
            "min_width": null,
            "object_fit": null,
            "object_position": null,
            "order": null,
            "overflow": null,
            "overflow_x": null,
            "overflow_y": null,
            "padding": null,
            "right": null,
            "top": null,
            "visibility": null,
            "width": null
          }
        },
        "8c3982f5e21d4473a10f894df6441412": {
          "model_module": "@jupyter-widgets/base",
          "model_name": "LayoutModel",
          "model_module_version": "1.2.0",
          "state": {
            "_model_module": "@jupyter-widgets/base",
            "_model_module_version": "1.2.0",
            "_model_name": "LayoutModel",
            "_view_count": null,
            "_view_module": "@jupyter-widgets/base",
            "_view_module_version": "1.2.0",
            "_view_name": "LayoutView",
            "align_content": null,
            "align_items": null,
            "align_self": null,
            "border": null,
            "bottom": null,
            "display": null,
            "flex": null,
            "flex_flow": null,
            "grid_area": null,
            "grid_auto_columns": null,
            "grid_auto_flow": null,
            "grid_auto_rows": null,
            "grid_column": null,
            "grid_gap": null,
            "grid_row": null,
            "grid_template_areas": null,
            "grid_template_columns": null,
            "grid_template_rows": null,
            "height": null,
            "justify_content": null,
            "justify_items": null,
            "left": null,
            "margin": null,
            "max_height": null,
            "max_width": null,
            "min_height": null,
            "min_width": null,
            "object_fit": null,
            "object_position": null,
            "order": null,
            "overflow": null,
            "overflow_x": null,
            "overflow_y": null,
            "padding": null,
            "right": null,
            "top": null,
            "visibility": null,
            "width": null
          }
        },
        "84f604bc276a4e9e9b79de06722e6194": {
          "model_module": "@jupyter-widgets/controls",
          "model_name": "DescriptionStyleModel",
          "model_module_version": "1.5.0",
          "state": {
            "_model_module": "@jupyter-widgets/controls",
            "_model_module_version": "1.5.0",
            "_model_name": "DescriptionStyleModel",
            "_view_count": null,
            "_view_module": "@jupyter-widgets/base",
            "_view_module_version": "1.2.0",
            "_view_name": "StyleView",
            "description_width": ""
          }
        },
        "b3129fe88dc348388c380a862baffa91": {
          "model_module": "@jupyter-widgets/base",
          "model_name": "LayoutModel",
          "model_module_version": "1.2.0",
          "state": {
            "_model_module": "@jupyter-widgets/base",
            "_model_module_version": "1.2.0",
            "_model_name": "LayoutModel",
            "_view_count": null,
            "_view_module": "@jupyter-widgets/base",
            "_view_module_version": "1.2.0",
            "_view_name": "LayoutView",
            "align_content": null,
            "align_items": null,
            "align_self": null,
            "border": null,
            "bottom": null,
            "display": null,
            "flex": null,
            "flex_flow": null,
            "grid_area": null,
            "grid_auto_columns": null,
            "grid_auto_flow": null,
            "grid_auto_rows": null,
            "grid_column": null,
            "grid_gap": null,
            "grid_row": null,
            "grid_template_areas": null,
            "grid_template_columns": null,
            "grid_template_rows": null,
            "height": null,
            "justify_content": null,
            "justify_items": null,
            "left": null,
            "margin": null,
            "max_height": null,
            "max_width": null,
            "min_height": null,
            "min_width": null,
            "object_fit": null,
            "object_position": null,
            "order": null,
            "overflow": null,
            "overflow_x": null,
            "overflow_y": null,
            "padding": null,
            "right": null,
            "top": null,
            "visibility": null,
            "width": null
          }
        },
        "d6e93c40c5274d2bbe3849cd22a8d47d": {
          "model_module": "@jupyter-widgets/controls",
          "model_name": "ProgressStyleModel",
          "model_module_version": "1.5.0",
          "state": {
            "_model_module": "@jupyter-widgets/controls",
            "_model_module_version": "1.5.0",
            "_model_name": "ProgressStyleModel",
            "_view_count": null,
            "_view_module": "@jupyter-widgets/base",
            "_view_module_version": "1.2.0",
            "_view_name": "StyleView",
            "bar_color": null,
            "description_width": ""
          }
        },
        "a01bc84335ab46f19604b2fb9efe90a4": {
          "model_module": "@jupyter-widgets/base",
          "model_name": "LayoutModel",
          "model_module_version": "1.2.0",
          "state": {
            "_model_module": "@jupyter-widgets/base",
            "_model_module_version": "1.2.0",
            "_model_name": "LayoutModel",
            "_view_count": null,
            "_view_module": "@jupyter-widgets/base",
            "_view_module_version": "1.2.0",
            "_view_name": "LayoutView",
            "align_content": null,
            "align_items": null,
            "align_self": null,
            "border": null,
            "bottom": null,
            "display": null,
            "flex": null,
            "flex_flow": null,
            "grid_area": null,
            "grid_auto_columns": null,
            "grid_auto_flow": null,
            "grid_auto_rows": null,
            "grid_column": null,
            "grid_gap": null,
            "grid_row": null,
            "grid_template_areas": null,
            "grid_template_columns": null,
            "grid_template_rows": null,
            "height": null,
            "justify_content": null,
            "justify_items": null,
            "left": null,
            "margin": null,
            "max_height": null,
            "max_width": null,
            "min_height": null,
            "min_width": null,
            "object_fit": null,
            "object_position": null,
            "order": null,
            "overflow": null,
            "overflow_x": null,
            "overflow_y": null,
            "padding": null,
            "right": null,
            "top": null,
            "visibility": null,
            "width": null
          }
        },
        "4511598da1ea451ea6ed1210d155a0df": {
          "model_module": "@jupyter-widgets/controls",
          "model_name": "DescriptionStyleModel",
          "model_module_version": "1.5.0",
          "state": {
            "_model_module": "@jupyter-widgets/controls",
            "_model_module_version": "1.5.0",
            "_model_name": "DescriptionStyleModel",
            "_view_count": null,
            "_view_module": "@jupyter-widgets/base",
            "_view_module_version": "1.2.0",
            "_view_name": "StyleView",
            "description_width": ""
          }
        },
        "fce301c28e8e47f193810d10447c6e5b": {
          "model_module": "@jupyter-widgets/controls",
          "model_name": "HBoxModel",
          "model_module_version": "1.5.0",
          "state": {
            "_dom_classes": [],
            "_model_module": "@jupyter-widgets/controls",
            "_model_module_version": "1.5.0",
            "_model_name": "HBoxModel",
            "_view_count": null,
            "_view_module": "@jupyter-widgets/controls",
            "_view_module_version": "1.5.0",
            "_view_name": "HBoxView",
            "box_style": "",
            "children": [
              "IPY_MODEL_4f3ac77f502747c4b9e1c5a96e6f713a",
              "IPY_MODEL_a4f3af03a6014dc8935e38a5d6eceb4e",
              "IPY_MODEL_4d9aaa8cc999461291709c5a7702131e"
            ],
            "layout": "IPY_MODEL_a05069c942a34127a903049911db51f0"
          }
        },
        "4f3ac77f502747c4b9e1c5a96e6f713a": {
          "model_module": "@jupyter-widgets/controls",
          "model_name": "HTMLModel",
          "model_module_version": "1.5.0",
          "state": {
            "_dom_classes": [],
            "_model_module": "@jupyter-widgets/controls",
            "_model_module_version": "1.5.0",
            "_model_name": "HTMLModel",
            "_view_count": null,
            "_view_module": "@jupyter-widgets/controls",
            "_view_module_version": "1.5.0",
            "_view_name": "HTMLView",
            "description": "",
            "description_tooltip": null,
            "layout": "IPY_MODEL_cba6eecadec24ddaac2fbf7b63827ef0",
            "placeholder": "​",
            "style": "IPY_MODEL_0249879e58354cb0aafb2d127d2e6673",
            "value": "Downloading (…)lve/main/config.json: 100%"
          }
        },
        "a4f3af03a6014dc8935e38a5d6eceb4e": {
          "model_module": "@jupyter-widgets/controls",
          "model_name": "FloatProgressModel",
          "model_module_version": "1.5.0",
          "state": {
            "_dom_classes": [],
            "_model_module": "@jupyter-widgets/controls",
            "_model_module_version": "1.5.0",
            "_model_name": "FloatProgressModel",
            "_view_count": null,
            "_view_module": "@jupyter-widgets/controls",
            "_view_module_version": "1.5.0",
            "_view_name": "ProgressView",
            "bar_style": "success",
            "description": "",
            "description_tooltip": null,
            "layout": "IPY_MODEL_334196080b2f49ba84ad1c0acba3109c",
            "max": 465,
            "min": 0,
            "orientation": "horizontal",
            "style": "IPY_MODEL_dabce9bd46704412aa683bab949ccd26",
            "value": 465
          }
        },
        "4d9aaa8cc999461291709c5a7702131e": {
          "model_module": "@jupyter-widgets/controls",
          "model_name": "HTMLModel",
          "model_module_version": "1.5.0",
          "state": {
            "_dom_classes": [],
            "_model_module": "@jupyter-widgets/controls",
            "_model_module_version": "1.5.0",
            "_model_name": "HTMLModel",
            "_view_count": null,
            "_view_module": "@jupyter-widgets/controls",
            "_view_module_version": "1.5.0",
            "_view_name": "HTMLView",
            "description": "",
            "description_tooltip": null,
            "layout": "IPY_MODEL_f705d2f6c6c244a28a91dc865ef085d1",
            "placeholder": "​",
            "style": "IPY_MODEL_f4cebadd85ec4f1588cc1d8299596dea",
            "value": " 465/465 [00:00&lt;00:00, 37.0kB/s]"
          }
        },
        "a05069c942a34127a903049911db51f0": {
          "model_module": "@jupyter-widgets/base",
          "model_name": "LayoutModel",
          "model_module_version": "1.2.0",
          "state": {
            "_model_module": "@jupyter-widgets/base",
            "_model_module_version": "1.2.0",
            "_model_name": "LayoutModel",
            "_view_count": null,
            "_view_module": "@jupyter-widgets/base",
            "_view_module_version": "1.2.0",
            "_view_name": "LayoutView",
            "align_content": null,
            "align_items": null,
            "align_self": null,
            "border": null,
            "bottom": null,
            "display": null,
            "flex": null,
            "flex_flow": null,
            "grid_area": null,
            "grid_auto_columns": null,
            "grid_auto_flow": null,
            "grid_auto_rows": null,
            "grid_column": null,
            "grid_gap": null,
            "grid_row": null,
            "grid_template_areas": null,
            "grid_template_columns": null,
            "grid_template_rows": null,
            "height": null,
            "justify_content": null,
            "justify_items": null,
            "left": null,
            "margin": null,
            "max_height": null,
            "max_width": null,
            "min_height": null,
            "min_width": null,
            "object_fit": null,
            "object_position": null,
            "order": null,
            "overflow": null,
            "overflow_x": null,
            "overflow_y": null,
            "padding": null,
            "right": null,
            "top": null,
            "visibility": null,
            "width": null
          }
        },
        "cba6eecadec24ddaac2fbf7b63827ef0": {
          "model_module": "@jupyter-widgets/base",
          "model_name": "LayoutModel",
          "model_module_version": "1.2.0",
          "state": {
            "_model_module": "@jupyter-widgets/base",
            "_model_module_version": "1.2.0",
            "_model_name": "LayoutModel",
            "_view_count": null,
            "_view_module": "@jupyter-widgets/base",
            "_view_module_version": "1.2.0",
            "_view_name": "LayoutView",
            "align_content": null,
            "align_items": null,
            "align_self": null,
            "border": null,
            "bottom": null,
            "display": null,
            "flex": null,
            "flex_flow": null,
            "grid_area": null,
            "grid_auto_columns": null,
            "grid_auto_flow": null,
            "grid_auto_rows": null,
            "grid_column": null,
            "grid_gap": null,
            "grid_row": null,
            "grid_template_areas": null,
            "grid_template_columns": null,
            "grid_template_rows": null,
            "height": null,
            "justify_content": null,
            "justify_items": null,
            "left": null,
            "margin": null,
            "max_height": null,
            "max_width": null,
            "min_height": null,
            "min_width": null,
            "object_fit": null,
            "object_position": null,
            "order": null,
            "overflow": null,
            "overflow_x": null,
            "overflow_y": null,
            "padding": null,
            "right": null,
            "top": null,
            "visibility": null,
            "width": null
          }
        },
        "0249879e58354cb0aafb2d127d2e6673": {
          "model_module": "@jupyter-widgets/controls",
          "model_name": "DescriptionStyleModel",
          "model_module_version": "1.5.0",
          "state": {
            "_model_module": "@jupyter-widgets/controls",
            "_model_module_version": "1.5.0",
            "_model_name": "DescriptionStyleModel",
            "_view_count": null,
            "_view_module": "@jupyter-widgets/base",
            "_view_module_version": "1.2.0",
            "_view_name": "StyleView",
            "description_width": ""
          }
        },
        "334196080b2f49ba84ad1c0acba3109c": {
          "model_module": "@jupyter-widgets/base",
          "model_name": "LayoutModel",
          "model_module_version": "1.2.0",
          "state": {
            "_model_module": "@jupyter-widgets/base",
            "_model_module_version": "1.2.0",
            "_model_name": "LayoutModel",
            "_view_count": null,
            "_view_module": "@jupyter-widgets/base",
            "_view_module_version": "1.2.0",
            "_view_name": "LayoutView",
            "align_content": null,
            "align_items": null,
            "align_self": null,
            "border": null,
            "bottom": null,
            "display": null,
            "flex": null,
            "flex_flow": null,
            "grid_area": null,
            "grid_auto_columns": null,
            "grid_auto_flow": null,
            "grid_auto_rows": null,
            "grid_column": null,
            "grid_gap": null,
            "grid_row": null,
            "grid_template_areas": null,
            "grid_template_columns": null,
            "grid_template_rows": null,
            "height": null,
            "justify_content": null,
            "justify_items": null,
            "left": null,
            "margin": null,
            "max_height": null,
            "max_width": null,
            "min_height": null,
            "min_width": null,
            "object_fit": null,
            "object_position": null,
            "order": null,
            "overflow": null,
            "overflow_x": null,
            "overflow_y": null,
            "padding": null,
            "right": null,
            "top": null,
            "visibility": null,
            "width": null
          }
        },
        "dabce9bd46704412aa683bab949ccd26": {
          "model_module": "@jupyter-widgets/controls",
          "model_name": "ProgressStyleModel",
          "model_module_version": "1.5.0",
          "state": {
            "_model_module": "@jupyter-widgets/controls",
            "_model_module_version": "1.5.0",
            "_model_name": "ProgressStyleModel",
            "_view_count": null,
            "_view_module": "@jupyter-widgets/base",
            "_view_module_version": "1.2.0",
            "_view_name": "StyleView",
            "bar_color": null,
            "description_width": ""
          }
        },
        "f705d2f6c6c244a28a91dc865ef085d1": {
          "model_module": "@jupyter-widgets/base",
          "model_name": "LayoutModel",
          "model_module_version": "1.2.0",
          "state": {
            "_model_module": "@jupyter-widgets/base",
            "_model_module_version": "1.2.0",
            "_model_name": "LayoutModel",
            "_view_count": null,
            "_view_module": "@jupyter-widgets/base",
            "_view_module_version": "1.2.0",
            "_view_name": "LayoutView",
            "align_content": null,
            "align_items": null,
            "align_self": null,
            "border": null,
            "bottom": null,
            "display": null,
            "flex": null,
            "flex_flow": null,
            "grid_area": null,
            "grid_auto_columns": null,
            "grid_auto_flow": null,
            "grid_auto_rows": null,
            "grid_column": null,
            "grid_gap": null,
            "grid_row": null,
            "grid_template_areas": null,
            "grid_template_columns": null,
            "grid_template_rows": null,
            "height": null,
            "justify_content": null,
            "justify_items": null,
            "left": null,
            "margin": null,
            "max_height": null,
            "max_width": null,
            "min_height": null,
            "min_width": null,
            "object_fit": null,
            "object_position": null,
            "order": null,
            "overflow": null,
            "overflow_x": null,
            "overflow_y": null,
            "padding": null,
            "right": null,
            "top": null,
            "visibility": null,
            "width": null
          }
        },
        "f4cebadd85ec4f1588cc1d8299596dea": {
          "model_module": "@jupyter-widgets/controls",
          "model_name": "DescriptionStyleModel",
          "model_module_version": "1.5.0",
          "state": {
            "_model_module": "@jupyter-widgets/controls",
            "_model_module_version": "1.5.0",
            "_model_name": "DescriptionStyleModel",
            "_view_count": null,
            "_view_module": "@jupyter-widgets/base",
            "_view_module_version": "1.2.0",
            "_view_name": "StyleView",
            "description_width": ""
          }
        },
        "e3dc0055dd5a4e12a4d1f45bba3b9778": {
          "model_module": "@jupyter-widgets/controls",
          "model_name": "HBoxModel",
          "model_module_version": "1.5.0",
          "state": {
            "_dom_classes": [],
            "_model_module": "@jupyter-widgets/controls",
            "_model_module_version": "1.5.0",
            "_model_name": "HBoxModel",
            "_view_count": null,
            "_view_module": "@jupyter-widgets/controls",
            "_view_module_version": "1.5.0",
            "_view_name": "HBoxView",
            "box_style": "",
            "children": [
              "IPY_MODEL_32d7899aebf54d9294d07a542e743edf",
              "IPY_MODEL_d0c28766de394a1f9e91ba2b169190e1",
              "IPY_MODEL_9dbf94c108794b77bbc1a81398339eb2"
            ],
            "layout": "IPY_MODEL_8813b5d2d8c64096903ff582a2880ef0"
          }
        },
        "32d7899aebf54d9294d07a542e743edf": {
          "model_module": "@jupyter-widgets/controls",
          "model_name": "HTMLModel",
          "model_module_version": "1.5.0",
          "state": {
            "_dom_classes": [],
            "_model_module": "@jupyter-widgets/controls",
            "_model_module_version": "1.5.0",
            "_model_name": "HTMLModel",
            "_view_count": null,
            "_view_module": "@jupyter-widgets/controls",
            "_view_module_version": "1.5.0",
            "_view_name": "HTMLView",
            "description": "",
            "description_tooltip": null,
            "layout": "IPY_MODEL_63336170f5804b9baf88e5aea478484a",
            "placeholder": "​",
            "style": "IPY_MODEL_9def99ed4e32435899b937d5ff1d6d34",
            "value": "Downloading (…)solve/main/vocab.txt: 100%"
          }
        },
        "d0c28766de394a1f9e91ba2b169190e1": {
          "model_module": "@jupyter-widgets/controls",
          "model_name": "FloatProgressModel",
          "model_module_version": "1.5.0",
          "state": {
            "_dom_classes": [],
            "_model_module": "@jupyter-widgets/controls",
            "_model_module_version": "1.5.0",
            "_model_name": "FloatProgressModel",
            "_view_count": null,
            "_view_module": "@jupyter-widgets/controls",
            "_view_module_version": "1.5.0",
            "_view_name": "ProgressView",
            "bar_style": "success",
            "description": "",
            "description_tooltip": null,
            "layout": "IPY_MODEL_4f9910a87afd4317a09c2f95f733899a",
            "max": 231508,
            "min": 0,
            "orientation": "horizontal",
            "style": "IPY_MODEL_5d56a517ae724717bf35119e5546044d",
            "value": 231508
          }
        },
        "9dbf94c108794b77bbc1a81398339eb2": {
          "model_module": "@jupyter-widgets/controls",
          "model_name": "HTMLModel",
          "model_module_version": "1.5.0",
          "state": {
            "_dom_classes": [],
            "_model_module": "@jupyter-widgets/controls",
            "_model_module_version": "1.5.0",
            "_model_name": "HTMLModel",
            "_view_count": null,
            "_view_module": "@jupyter-widgets/controls",
            "_view_module_version": "1.5.0",
            "_view_name": "HTMLView",
            "description": "",
            "description_tooltip": null,
            "layout": "IPY_MODEL_b17124a124e343b585256071c4d79201",
            "placeholder": "​",
            "style": "IPY_MODEL_4768ffea3da2471ebf08db1e72dbaa1c",
            "value": " 232k/232k [00:00&lt;00:00, 3.21MB/s]"
          }
        },
        "8813b5d2d8c64096903ff582a2880ef0": {
          "model_module": "@jupyter-widgets/base",
          "model_name": "LayoutModel",
          "model_module_version": "1.2.0",
          "state": {
            "_model_module": "@jupyter-widgets/base",
            "_model_module_version": "1.2.0",
            "_model_name": "LayoutModel",
            "_view_count": null,
            "_view_module": "@jupyter-widgets/base",
            "_view_module_version": "1.2.0",
            "_view_name": "LayoutView",
            "align_content": null,
            "align_items": null,
            "align_self": null,
            "border": null,
            "bottom": null,
            "display": null,
            "flex": null,
            "flex_flow": null,
            "grid_area": null,
            "grid_auto_columns": null,
            "grid_auto_flow": null,
            "grid_auto_rows": null,
            "grid_column": null,
            "grid_gap": null,
            "grid_row": null,
            "grid_template_areas": null,
            "grid_template_columns": null,
            "grid_template_rows": null,
            "height": null,
            "justify_content": null,
            "justify_items": null,
            "left": null,
            "margin": null,
            "max_height": null,
            "max_width": null,
            "min_height": null,
            "min_width": null,
            "object_fit": null,
            "object_position": null,
            "order": null,
            "overflow": null,
            "overflow_x": null,
            "overflow_y": null,
            "padding": null,
            "right": null,
            "top": null,
            "visibility": null,
            "width": null
          }
        },
        "63336170f5804b9baf88e5aea478484a": {
          "model_module": "@jupyter-widgets/base",
          "model_name": "LayoutModel",
          "model_module_version": "1.2.0",
          "state": {
            "_model_module": "@jupyter-widgets/base",
            "_model_module_version": "1.2.0",
            "_model_name": "LayoutModel",
            "_view_count": null,
            "_view_module": "@jupyter-widgets/base",
            "_view_module_version": "1.2.0",
            "_view_name": "LayoutView",
            "align_content": null,
            "align_items": null,
            "align_self": null,
            "border": null,
            "bottom": null,
            "display": null,
            "flex": null,
            "flex_flow": null,
            "grid_area": null,
            "grid_auto_columns": null,
            "grid_auto_flow": null,
            "grid_auto_rows": null,
            "grid_column": null,
            "grid_gap": null,
            "grid_row": null,
            "grid_template_areas": null,
            "grid_template_columns": null,
            "grid_template_rows": null,
            "height": null,
            "justify_content": null,
            "justify_items": null,
            "left": null,
            "margin": null,
            "max_height": null,
            "max_width": null,
            "min_height": null,
            "min_width": null,
            "object_fit": null,
            "object_position": null,
            "order": null,
            "overflow": null,
            "overflow_x": null,
            "overflow_y": null,
            "padding": null,
            "right": null,
            "top": null,
            "visibility": null,
            "width": null
          }
        },
        "9def99ed4e32435899b937d5ff1d6d34": {
          "model_module": "@jupyter-widgets/controls",
          "model_name": "DescriptionStyleModel",
          "model_module_version": "1.5.0",
          "state": {
            "_model_module": "@jupyter-widgets/controls",
            "_model_module_version": "1.5.0",
            "_model_name": "DescriptionStyleModel",
            "_view_count": null,
            "_view_module": "@jupyter-widgets/base",
            "_view_module_version": "1.2.0",
            "_view_name": "StyleView",
            "description_width": ""
          }
        },
        "4f9910a87afd4317a09c2f95f733899a": {
          "model_module": "@jupyter-widgets/base",
          "model_name": "LayoutModel",
          "model_module_version": "1.2.0",
          "state": {
            "_model_module": "@jupyter-widgets/base",
            "_model_module_version": "1.2.0",
            "_model_name": "LayoutModel",
            "_view_count": null,
            "_view_module": "@jupyter-widgets/base",
            "_view_module_version": "1.2.0",
            "_view_name": "LayoutView",
            "align_content": null,
            "align_items": null,
            "align_self": null,
            "border": null,
            "bottom": null,
            "display": null,
            "flex": null,
            "flex_flow": null,
            "grid_area": null,
            "grid_auto_columns": null,
            "grid_auto_flow": null,
            "grid_auto_rows": null,
            "grid_column": null,
            "grid_gap": null,
            "grid_row": null,
            "grid_template_areas": null,
            "grid_template_columns": null,
            "grid_template_rows": null,
            "height": null,
            "justify_content": null,
            "justify_items": null,
            "left": null,
            "margin": null,
            "max_height": null,
            "max_width": null,
            "min_height": null,
            "min_width": null,
            "object_fit": null,
            "object_position": null,
            "order": null,
            "overflow": null,
            "overflow_x": null,
            "overflow_y": null,
            "padding": null,
            "right": null,
            "top": null,
            "visibility": null,
            "width": null
          }
        },
        "5d56a517ae724717bf35119e5546044d": {
          "model_module": "@jupyter-widgets/controls",
          "model_name": "ProgressStyleModel",
          "model_module_version": "1.5.0",
          "state": {
            "_model_module": "@jupyter-widgets/controls",
            "_model_module_version": "1.5.0",
            "_model_name": "ProgressStyleModel",
            "_view_count": null,
            "_view_module": "@jupyter-widgets/base",
            "_view_module_version": "1.2.0",
            "_view_name": "StyleView",
            "bar_color": null,
            "description_width": ""
          }
        },
        "b17124a124e343b585256071c4d79201": {
          "model_module": "@jupyter-widgets/base",
          "model_name": "LayoutModel",
          "model_module_version": "1.2.0",
          "state": {
            "_model_module": "@jupyter-widgets/base",
            "_model_module_version": "1.2.0",
            "_model_name": "LayoutModel",
            "_view_count": null,
            "_view_module": "@jupyter-widgets/base",
            "_view_module_version": "1.2.0",
            "_view_name": "LayoutView",
            "align_content": null,
            "align_items": null,
            "align_self": null,
            "border": null,
            "bottom": null,
            "display": null,
            "flex": null,
            "flex_flow": null,
            "grid_area": null,
            "grid_auto_columns": null,
            "grid_auto_flow": null,
            "grid_auto_rows": null,
            "grid_column": null,
            "grid_gap": null,
            "grid_row": null,
            "grid_template_areas": null,
            "grid_template_columns": null,
            "grid_template_rows": null,
            "height": null,
            "justify_content": null,
            "justify_items": null,
            "left": null,
            "margin": null,
            "max_height": null,
            "max_width": null,
            "min_height": null,
            "min_width": null,
            "object_fit": null,
            "object_position": null,
            "order": null,
            "overflow": null,
            "overflow_x": null,
            "overflow_y": null,
            "padding": null,
            "right": null,
            "top": null,
            "visibility": null,
            "width": null
          }
        },
        "4768ffea3da2471ebf08db1e72dbaa1c": {
          "model_module": "@jupyter-widgets/controls",
          "model_name": "DescriptionStyleModel",
          "model_module_version": "1.5.0",
          "state": {
            "_model_module": "@jupyter-widgets/controls",
            "_model_module_version": "1.5.0",
            "_model_name": "DescriptionStyleModel",
            "_view_count": null,
            "_view_module": "@jupyter-widgets/base",
            "_view_module_version": "1.2.0",
            "_view_name": "StyleView",
            "description_width": ""
          }
        },
        "3c654f9c3f3a43118798ebe8606b2d46": {
          "model_module": "@jupyter-widgets/controls",
          "model_name": "HBoxModel",
          "model_module_version": "1.5.0",
          "state": {
            "_dom_classes": [],
            "_model_module": "@jupyter-widgets/controls",
            "_model_module_version": "1.5.0",
            "_model_name": "HBoxModel",
            "_view_count": null,
            "_view_module": "@jupyter-widgets/controls",
            "_view_module_version": "1.5.0",
            "_view_name": "HBoxView",
            "box_style": "",
            "children": [
              "IPY_MODEL_5d191894c7a94d84a007b661955f35fe",
              "IPY_MODEL_5ff9590a60614925afd7dcd570f8a189",
              "IPY_MODEL_4c5d66099f9b4f729971db57110e1fb3"
            ],
            "layout": "IPY_MODEL_b5b234675bac4b979c3cdee97a2a17ce"
          }
        },
        "5d191894c7a94d84a007b661955f35fe": {
          "model_module": "@jupyter-widgets/controls",
          "model_name": "HTMLModel",
          "model_module_version": "1.5.0",
          "state": {
            "_dom_classes": [],
            "_model_module": "@jupyter-widgets/controls",
            "_model_module_version": "1.5.0",
            "_model_name": "HTMLModel",
            "_view_count": null,
            "_view_module": "@jupyter-widgets/controls",
            "_view_module_version": "1.5.0",
            "_view_name": "HTMLView",
            "description": "",
            "description_tooltip": null,
            "layout": "IPY_MODEL_4939cb584a754033a151243a7717848f",
            "placeholder": "​",
            "style": "IPY_MODEL_e6988a6a52c147c9991c7c749a1ada29",
            "value": "Downloading (…)cial_tokens_map.json: 100%"
          }
        },
        "5ff9590a60614925afd7dcd570f8a189": {
          "model_module": "@jupyter-widgets/controls",
          "model_name": "FloatProgressModel",
          "model_module_version": "1.5.0",
          "state": {
            "_dom_classes": [],
            "_model_module": "@jupyter-widgets/controls",
            "_model_module_version": "1.5.0",
            "_model_name": "FloatProgressModel",
            "_view_count": null,
            "_view_module": "@jupyter-widgets/controls",
            "_view_module_version": "1.5.0",
            "_view_name": "ProgressView",
            "bar_style": "success",
            "description": "",
            "description_tooltip": null,
            "layout": "IPY_MODEL_d8e06e0e667a48059cf1234b857e87c0",
            "max": 112,
            "min": 0,
            "orientation": "horizontal",
            "style": "IPY_MODEL_bd6d955b9c4f4df5884d6704291ccd56",
            "value": 112
          }
        },
        "4c5d66099f9b4f729971db57110e1fb3": {
          "model_module": "@jupyter-widgets/controls",
          "model_name": "HTMLModel",
          "model_module_version": "1.5.0",
          "state": {
            "_dom_classes": [],
            "_model_module": "@jupyter-widgets/controls",
            "_model_module_version": "1.5.0",
            "_model_name": "HTMLModel",
            "_view_count": null,
            "_view_module": "@jupyter-widgets/controls",
            "_view_module_version": "1.5.0",
            "_view_name": "HTMLView",
            "description": "",
            "description_tooltip": null,
            "layout": "IPY_MODEL_8fa19e09874a413ba9e78a8a0943ad80",
            "placeholder": "​",
            "style": "IPY_MODEL_a1c3b714b8344d778945553fca332f9a",
            "value": " 112/112 [00:00&lt;00:00, 10.3kB/s]"
          }
        },
        "b5b234675bac4b979c3cdee97a2a17ce": {
          "model_module": "@jupyter-widgets/base",
          "model_name": "LayoutModel",
          "model_module_version": "1.2.0",
          "state": {
            "_model_module": "@jupyter-widgets/base",
            "_model_module_version": "1.2.0",
            "_model_name": "LayoutModel",
            "_view_count": null,
            "_view_module": "@jupyter-widgets/base",
            "_view_module_version": "1.2.0",
            "_view_name": "LayoutView",
            "align_content": null,
            "align_items": null,
            "align_self": null,
            "border": null,
            "bottom": null,
            "display": null,
            "flex": null,
            "flex_flow": null,
            "grid_area": null,
            "grid_auto_columns": null,
            "grid_auto_flow": null,
            "grid_auto_rows": null,
            "grid_column": null,
            "grid_gap": null,
            "grid_row": null,
            "grid_template_areas": null,
            "grid_template_columns": null,
            "grid_template_rows": null,
            "height": null,
            "justify_content": null,
            "justify_items": null,
            "left": null,
            "margin": null,
            "max_height": null,
            "max_width": null,
            "min_height": null,
            "min_width": null,
            "object_fit": null,
            "object_position": null,
            "order": null,
            "overflow": null,
            "overflow_x": null,
            "overflow_y": null,
            "padding": null,
            "right": null,
            "top": null,
            "visibility": null,
            "width": null
          }
        },
        "4939cb584a754033a151243a7717848f": {
          "model_module": "@jupyter-widgets/base",
          "model_name": "LayoutModel",
          "model_module_version": "1.2.0",
          "state": {
            "_model_module": "@jupyter-widgets/base",
            "_model_module_version": "1.2.0",
            "_model_name": "LayoutModel",
            "_view_count": null,
            "_view_module": "@jupyter-widgets/base",
            "_view_module_version": "1.2.0",
            "_view_name": "LayoutView",
            "align_content": null,
            "align_items": null,
            "align_self": null,
            "border": null,
            "bottom": null,
            "display": null,
            "flex": null,
            "flex_flow": null,
            "grid_area": null,
            "grid_auto_columns": null,
            "grid_auto_flow": null,
            "grid_auto_rows": null,
            "grid_column": null,
            "grid_gap": null,
            "grid_row": null,
            "grid_template_areas": null,
            "grid_template_columns": null,
            "grid_template_rows": null,
            "height": null,
            "justify_content": null,
            "justify_items": null,
            "left": null,
            "margin": null,
            "max_height": null,
            "max_width": null,
            "min_height": null,
            "min_width": null,
            "object_fit": null,
            "object_position": null,
            "order": null,
            "overflow": null,
            "overflow_x": null,
            "overflow_y": null,
            "padding": null,
            "right": null,
            "top": null,
            "visibility": null,
            "width": null
          }
        },
        "e6988a6a52c147c9991c7c749a1ada29": {
          "model_module": "@jupyter-widgets/controls",
          "model_name": "DescriptionStyleModel",
          "model_module_version": "1.5.0",
          "state": {
            "_model_module": "@jupyter-widgets/controls",
            "_model_module_version": "1.5.0",
            "_model_name": "DescriptionStyleModel",
            "_view_count": null,
            "_view_module": "@jupyter-widgets/base",
            "_view_module_version": "1.2.0",
            "_view_name": "StyleView",
            "description_width": ""
          }
        },
        "d8e06e0e667a48059cf1234b857e87c0": {
          "model_module": "@jupyter-widgets/base",
          "model_name": "LayoutModel",
          "model_module_version": "1.2.0",
          "state": {
            "_model_module": "@jupyter-widgets/base",
            "_model_module_version": "1.2.0",
            "_model_name": "LayoutModel",
            "_view_count": null,
            "_view_module": "@jupyter-widgets/base",
            "_view_module_version": "1.2.0",
            "_view_name": "LayoutView",
            "align_content": null,
            "align_items": null,
            "align_self": null,
            "border": null,
            "bottom": null,
            "display": null,
            "flex": null,
            "flex_flow": null,
            "grid_area": null,
            "grid_auto_columns": null,
            "grid_auto_flow": null,
            "grid_auto_rows": null,
            "grid_column": null,
            "grid_gap": null,
            "grid_row": null,
            "grid_template_areas": null,
            "grid_template_columns": null,
            "grid_template_rows": null,
            "height": null,
            "justify_content": null,
            "justify_items": null,
            "left": null,
            "margin": null,
            "max_height": null,
            "max_width": null,
            "min_height": null,
            "min_width": null,
            "object_fit": null,
            "object_position": null,
            "order": null,
            "overflow": null,
            "overflow_x": null,
            "overflow_y": null,
            "padding": null,
            "right": null,
            "top": null,
            "visibility": null,
            "width": null
          }
        },
        "bd6d955b9c4f4df5884d6704291ccd56": {
          "model_module": "@jupyter-widgets/controls",
          "model_name": "ProgressStyleModel",
          "model_module_version": "1.5.0",
          "state": {
            "_model_module": "@jupyter-widgets/controls",
            "_model_module_version": "1.5.0",
            "_model_name": "ProgressStyleModel",
            "_view_count": null,
            "_view_module": "@jupyter-widgets/base",
            "_view_module_version": "1.2.0",
            "_view_name": "StyleView",
            "bar_color": null,
            "description_width": ""
          }
        },
        "8fa19e09874a413ba9e78a8a0943ad80": {
          "model_module": "@jupyter-widgets/base",
          "model_name": "LayoutModel",
          "model_module_version": "1.2.0",
          "state": {
            "_model_module": "@jupyter-widgets/base",
            "_model_module_version": "1.2.0",
            "_model_name": "LayoutModel",
            "_view_count": null,
            "_view_module": "@jupyter-widgets/base",
            "_view_module_version": "1.2.0",
            "_view_name": "LayoutView",
            "align_content": null,
            "align_items": null,
            "align_self": null,
            "border": null,
            "bottom": null,
            "display": null,
            "flex": null,
            "flex_flow": null,
            "grid_area": null,
            "grid_auto_columns": null,
            "grid_auto_flow": null,
            "grid_auto_rows": null,
            "grid_column": null,
            "grid_gap": null,
            "grid_row": null,
            "grid_template_areas": null,
            "grid_template_columns": null,
            "grid_template_rows": null,
            "height": null,
            "justify_content": null,
            "justify_items": null,
            "left": null,
            "margin": null,
            "max_height": null,
            "max_width": null,
            "min_height": null,
            "min_width": null,
            "object_fit": null,
            "object_position": null,
            "order": null,
            "overflow": null,
            "overflow_x": null,
            "overflow_y": null,
            "padding": null,
            "right": null,
            "top": null,
            "visibility": null,
            "width": null
          }
        },
        "a1c3b714b8344d778945553fca332f9a": {
          "model_module": "@jupyter-widgets/controls",
          "model_name": "DescriptionStyleModel",
          "model_module_version": "1.5.0",
          "state": {
            "_model_module": "@jupyter-widgets/controls",
            "_model_module_version": "1.5.0",
            "_model_name": "DescriptionStyleModel",
            "_view_count": null,
            "_view_module": "@jupyter-widgets/base",
            "_view_module_version": "1.2.0",
            "_view_name": "StyleView",
            "description_width": ""
          }
        },
        "96a6ee85c7d54261b3714e1786ce2ff7": {
          "model_module": "@jupyter-widgets/controls",
          "model_name": "HBoxModel",
          "model_module_version": "1.5.0",
          "state": {
            "_dom_classes": [],
            "_model_module": "@jupyter-widgets/controls",
            "_model_module_version": "1.5.0",
            "_model_name": "HBoxModel",
            "_view_count": null,
            "_view_module": "@jupyter-widgets/controls",
            "_view_module_version": "1.5.0",
            "_view_name": "HBoxView",
            "box_style": "",
            "children": [
              "IPY_MODEL_eb6fdaaaf4164bbeb37fa7396e8bcde0",
              "IPY_MODEL_5f15d04c55714ea49abb706b3b715b5f",
              "IPY_MODEL_eabcc25be9ba4ba6955c87de891fcbb8"
            ],
            "layout": "IPY_MODEL_ddefbb8b98b148f18ca8c1dc5d523db6"
          }
        },
        "eb6fdaaaf4164bbeb37fa7396e8bcde0": {
          "model_module": "@jupyter-widgets/controls",
          "model_name": "HTMLModel",
          "model_module_version": "1.5.0",
          "state": {
            "_dom_classes": [],
            "_model_module": "@jupyter-widgets/controls",
            "_model_module_version": "1.5.0",
            "_model_name": "HTMLModel",
            "_view_count": null,
            "_view_module": "@jupyter-widgets/controls",
            "_view_module_version": "1.5.0",
            "_view_name": "HTMLView",
            "description": "",
            "description_tooltip": null,
            "layout": "IPY_MODEL_0ef643059a384afc9f03edb3271c15ad",
            "placeholder": "​",
            "style": "IPY_MODEL_ea3d956932f0448d881b139c61c213ba",
            "value": "Downloading pytorch_model.bin: 100%"
          }
        },
        "5f15d04c55714ea49abb706b3b715b5f": {
          "model_module": "@jupyter-widgets/controls",
          "model_name": "FloatProgressModel",
          "model_module_version": "1.5.0",
          "state": {
            "_dom_classes": [],
            "_model_module": "@jupyter-widgets/controls",
            "_model_module_version": "1.5.0",
            "_model_name": "FloatProgressModel",
            "_view_count": null,
            "_view_module": "@jupyter-widgets/controls",
            "_view_module_version": "1.5.0",
            "_view_name": "ProgressView",
            "bar_style": "success",
            "description": "",
            "description_tooltip": null,
            "layout": "IPY_MODEL_98ab0923f3e14a35b5be9ca05f9edca5",
            "max": 437985356,
            "min": 0,
            "orientation": "horizontal",
            "style": "IPY_MODEL_dfa9f7e066f14dacaf3c653161716e48",
            "value": 437985356
          }
        },
        "eabcc25be9ba4ba6955c87de891fcbb8": {
          "model_module": "@jupyter-widgets/controls",
          "model_name": "HTMLModel",
          "model_module_version": "1.5.0",
          "state": {
            "_dom_classes": [],
            "_model_module": "@jupyter-widgets/controls",
            "_model_module_version": "1.5.0",
            "_model_name": "HTMLModel",
            "_view_count": null,
            "_view_module": "@jupyter-widgets/controls",
            "_view_module_version": "1.5.0",
            "_view_name": "HTMLView",
            "description": "",
            "description_tooltip": null,
            "layout": "IPY_MODEL_31da0ea4652f4eb7994a42f4942f7161",
            "placeholder": "​",
            "style": "IPY_MODEL_df74c058b6204105a6b7139ac6d91ffd",
            "value": " 438M/438M [00:03&lt;00:00, 123MB/s]"
          }
        },
        "ddefbb8b98b148f18ca8c1dc5d523db6": {
          "model_module": "@jupyter-widgets/base",
          "model_name": "LayoutModel",
          "model_module_version": "1.2.0",
          "state": {
            "_model_module": "@jupyter-widgets/base",
            "_model_module_version": "1.2.0",
            "_model_name": "LayoutModel",
            "_view_count": null,
            "_view_module": "@jupyter-widgets/base",
            "_view_module_version": "1.2.0",
            "_view_name": "LayoutView",
            "align_content": null,
            "align_items": null,
            "align_self": null,
            "border": null,
            "bottom": null,
            "display": null,
            "flex": null,
            "flex_flow": null,
            "grid_area": null,
            "grid_auto_columns": null,
            "grid_auto_flow": null,
            "grid_auto_rows": null,
            "grid_column": null,
            "grid_gap": null,
            "grid_row": null,
            "grid_template_areas": null,
            "grid_template_columns": null,
            "grid_template_rows": null,
            "height": null,
            "justify_content": null,
            "justify_items": null,
            "left": null,
            "margin": null,
            "max_height": null,
            "max_width": null,
            "min_height": null,
            "min_width": null,
            "object_fit": null,
            "object_position": null,
            "order": null,
            "overflow": null,
            "overflow_x": null,
            "overflow_y": null,
            "padding": null,
            "right": null,
            "top": null,
            "visibility": null,
            "width": null
          }
        },
        "0ef643059a384afc9f03edb3271c15ad": {
          "model_module": "@jupyter-widgets/base",
          "model_name": "LayoutModel",
          "model_module_version": "1.2.0",
          "state": {
            "_model_module": "@jupyter-widgets/base",
            "_model_module_version": "1.2.0",
            "_model_name": "LayoutModel",
            "_view_count": null,
            "_view_module": "@jupyter-widgets/base",
            "_view_module_version": "1.2.0",
            "_view_name": "LayoutView",
            "align_content": null,
            "align_items": null,
            "align_self": null,
            "border": null,
            "bottom": null,
            "display": null,
            "flex": null,
            "flex_flow": null,
            "grid_area": null,
            "grid_auto_columns": null,
            "grid_auto_flow": null,
            "grid_auto_rows": null,
            "grid_column": null,
            "grid_gap": null,
            "grid_row": null,
            "grid_template_areas": null,
            "grid_template_columns": null,
            "grid_template_rows": null,
            "height": null,
            "justify_content": null,
            "justify_items": null,
            "left": null,
            "margin": null,
            "max_height": null,
            "max_width": null,
            "min_height": null,
            "min_width": null,
            "object_fit": null,
            "object_position": null,
            "order": null,
            "overflow": null,
            "overflow_x": null,
            "overflow_y": null,
            "padding": null,
            "right": null,
            "top": null,
            "visibility": null,
            "width": null
          }
        },
        "ea3d956932f0448d881b139c61c213ba": {
          "model_module": "@jupyter-widgets/controls",
          "model_name": "DescriptionStyleModel",
          "model_module_version": "1.5.0",
          "state": {
            "_model_module": "@jupyter-widgets/controls",
            "_model_module_version": "1.5.0",
            "_model_name": "DescriptionStyleModel",
            "_view_count": null,
            "_view_module": "@jupyter-widgets/base",
            "_view_module_version": "1.2.0",
            "_view_name": "StyleView",
            "description_width": ""
          }
        },
        "98ab0923f3e14a35b5be9ca05f9edca5": {
          "model_module": "@jupyter-widgets/base",
          "model_name": "LayoutModel",
          "model_module_version": "1.2.0",
          "state": {
            "_model_module": "@jupyter-widgets/base",
            "_model_module_version": "1.2.0",
            "_model_name": "LayoutModel",
            "_view_count": null,
            "_view_module": "@jupyter-widgets/base",
            "_view_module_version": "1.2.0",
            "_view_name": "LayoutView",
            "align_content": null,
            "align_items": null,
            "align_self": null,
            "border": null,
            "bottom": null,
            "display": null,
            "flex": null,
            "flex_flow": null,
            "grid_area": null,
            "grid_auto_columns": null,
            "grid_auto_flow": null,
            "grid_auto_rows": null,
            "grid_column": null,
            "grid_gap": null,
            "grid_row": null,
            "grid_template_areas": null,
            "grid_template_columns": null,
            "grid_template_rows": null,
            "height": null,
            "justify_content": null,
            "justify_items": null,
            "left": null,
            "margin": null,
            "max_height": null,
            "max_width": null,
            "min_height": null,
            "min_width": null,
            "object_fit": null,
            "object_position": null,
            "order": null,
            "overflow": null,
            "overflow_x": null,
            "overflow_y": null,
            "padding": null,
            "right": null,
            "top": null,
            "visibility": null,
            "width": null
          }
        },
        "dfa9f7e066f14dacaf3c653161716e48": {
          "model_module": "@jupyter-widgets/controls",
          "model_name": "ProgressStyleModel",
          "model_module_version": "1.5.0",
          "state": {
            "_model_module": "@jupyter-widgets/controls",
            "_model_module_version": "1.5.0",
            "_model_name": "ProgressStyleModel",
            "_view_count": null,
            "_view_module": "@jupyter-widgets/base",
            "_view_module_version": "1.2.0",
            "_view_name": "StyleView",
            "bar_color": null,
            "description_width": ""
          }
        },
        "31da0ea4652f4eb7994a42f4942f7161": {
          "model_module": "@jupyter-widgets/base",
          "model_name": "LayoutModel",
          "model_module_version": "1.2.0",
          "state": {
            "_model_module": "@jupyter-widgets/base",
            "_model_module_version": "1.2.0",
            "_model_name": "LayoutModel",
            "_view_count": null,
            "_view_module": "@jupyter-widgets/base",
            "_view_module_version": "1.2.0",
            "_view_name": "LayoutView",
            "align_content": null,
            "align_items": null,
            "align_self": null,
            "border": null,
            "bottom": null,
            "display": null,
            "flex": null,
            "flex_flow": null,
            "grid_area": null,
            "grid_auto_columns": null,
            "grid_auto_flow": null,
            "grid_auto_rows": null,
            "grid_column": null,
            "grid_gap": null,
            "grid_row": null,
            "grid_template_areas": null,
            "grid_template_columns": null,
            "grid_template_rows": null,
            "height": null,
            "justify_content": null,
            "justify_items": null,
            "left": null,
            "margin": null,
            "max_height": null,
            "max_width": null,
            "min_height": null,
            "min_width": null,
            "object_fit": null,
            "object_position": null,
            "order": null,
            "overflow": null,
            "overflow_x": null,
            "overflow_y": null,
            "padding": null,
            "right": null,
            "top": null,
            "visibility": null,
            "width": null
          }
        },
        "df74c058b6204105a6b7139ac6d91ffd": {
          "model_module": "@jupyter-widgets/controls",
          "model_name": "DescriptionStyleModel",
          "model_module_version": "1.5.0",
          "state": {
            "_model_module": "@jupyter-widgets/controls",
            "_model_module_version": "1.5.0",
            "_model_name": "DescriptionStyleModel",
            "_view_count": null,
            "_view_module": "@jupyter-widgets/base",
            "_view_module_version": "1.2.0",
            "_view_name": "StyleView",
            "description_width": ""
          }
        }
      }
    }
  },
  "cells": [
    {
      "cell_type": "markdown",
      "metadata": {
        "id": "view-in-github",
        "colab_type": "text"
      },
      "source": [
        "<a href=\"https://colab.research.google.com/github/Spartan-119/A-B-Testing-Approach-for-Comparing-Performance-of-ML-Models/blob/main/a_b_testing_implementation.ipynb\" target=\"_parent\"><img src=\"https://colab.research.google.com/assets/colab-badge.svg\" alt=\"Open In Colab\"/></a>"
      ]
    },
    {
      "cell_type": "code",
      "execution_count": 1,
      "metadata": {
        "colab": {
          "base_uri": "https://localhost:8080/"
        },
        "id": "OSkHP5LdeEgj",
        "outputId": "ea6629c4-83cd-4a81-dc6e-f5993817210a"
      },
      "outputs": [
        {
          "output_type": "stream",
          "name": "stdout",
          "text": [
            "Looking in indexes: https://pypi.org/simple, https://download.pytorch.org/whl/cu116\n",
            "Requirement already satisfied: torch in /usr/local/lib/python3.10/dist-packages (2.0.1+cu118)\n",
            "Requirement already satisfied: torchvision in /usr/local/lib/python3.10/dist-packages (0.15.2+cu118)\n",
            "Requirement already satisfied: torchaudio in /usr/local/lib/python3.10/dist-packages (2.0.2+cu118)\n",
            "Requirement already satisfied: filelock in /usr/local/lib/python3.10/dist-packages (from torch) (3.12.2)\n",
            "Requirement already satisfied: typing-extensions in /usr/local/lib/python3.10/dist-packages (from torch) (4.7.1)\n",
            "Requirement already satisfied: sympy in /usr/local/lib/python3.10/dist-packages (from torch) (1.12)\n",
            "Requirement already satisfied: networkx in /usr/local/lib/python3.10/dist-packages (from torch) (3.1)\n",
            "Requirement already satisfied: jinja2 in /usr/local/lib/python3.10/dist-packages (from torch) (3.1.2)\n",
            "Requirement already satisfied: triton==2.0.0 in /usr/local/lib/python3.10/dist-packages (from torch) (2.0.0)\n",
            "Requirement already satisfied: cmake in /usr/local/lib/python3.10/dist-packages (from triton==2.0.0->torch) (3.27.2)\n",
            "Requirement already satisfied: lit in /usr/local/lib/python3.10/dist-packages (from triton==2.0.0->torch) (16.0.6)\n",
            "Requirement already satisfied: numpy in /usr/local/lib/python3.10/dist-packages (from torchvision) (1.23.5)\n",
            "Requirement already satisfied: requests in /usr/local/lib/python3.10/dist-packages (from torchvision) (2.31.0)\n",
            "Requirement already satisfied: pillow!=8.3.*,>=5.3.0 in /usr/local/lib/python3.10/dist-packages (from torchvision) (9.4.0)\n",
            "Requirement already satisfied: MarkupSafe>=2.0 in /usr/local/lib/python3.10/dist-packages (from jinja2->torch) (2.1.3)\n",
            "Requirement already satisfied: charset-normalizer<4,>=2 in /usr/local/lib/python3.10/dist-packages (from requests->torchvision) (3.2.0)\n",
            "Requirement already satisfied: idna<4,>=2.5 in /usr/local/lib/python3.10/dist-packages (from requests->torchvision) (3.4)\n",
            "Requirement already satisfied: urllib3<3,>=1.21.1 in /usr/local/lib/python3.10/dist-packages (from requests->torchvision) (2.0.4)\n",
            "Requirement already satisfied: certifi>=2017.4.17 in /usr/local/lib/python3.10/dist-packages (from requests->torchvision) (2023.7.22)\n",
            "Requirement already satisfied: mpmath>=0.19 in /usr/local/lib/python3.10/dist-packages (from sympy->torch) (1.3.0)\n",
            "Collecting transformers\n",
            "  Downloading transformers-4.32.1-py3-none-any.whl (7.5 MB)\n",
            "\u001b[2K     \u001b[90m━━━━━━━━━━━━━━━━━━━━━━━━━━━━━━━━━━━━━━━━\u001b[0m \u001b[32m7.5/7.5 MB\u001b[0m \u001b[31m20.2 MB/s\u001b[0m eta \u001b[36m0:00:00\u001b[0m\n",
            "\u001b[?25hRequirement already satisfied: filelock in /usr/local/lib/python3.10/dist-packages (from transformers) (3.12.2)\n",
            "Collecting huggingface-hub<1.0,>=0.15.1 (from transformers)\n",
            "  Downloading huggingface_hub-0.16.4-py3-none-any.whl (268 kB)\n",
            "\u001b[2K     \u001b[90m━━━━━━━━━━━━━━━━━━━━━━━━━━━━━━━━━━━━━━\u001b[0m \u001b[32m268.8/268.8 kB\u001b[0m \u001b[31m21.4 MB/s\u001b[0m eta \u001b[36m0:00:00\u001b[0m\n",
            "\u001b[?25hRequirement already satisfied: numpy>=1.17 in /usr/local/lib/python3.10/dist-packages (from transformers) (1.23.5)\n",
            "Requirement already satisfied: packaging>=20.0 in /usr/local/lib/python3.10/dist-packages (from transformers) (23.1)\n",
            "Requirement already satisfied: pyyaml>=5.1 in /usr/local/lib/python3.10/dist-packages (from transformers) (6.0.1)\n",
            "Requirement already satisfied: regex!=2019.12.17 in /usr/local/lib/python3.10/dist-packages (from transformers) (2023.6.3)\n",
            "Requirement already satisfied: requests in /usr/local/lib/python3.10/dist-packages (from transformers) (2.31.0)\n",
            "Collecting tokenizers!=0.11.3,<0.14,>=0.11.1 (from transformers)\n",
            "  Downloading tokenizers-0.13.3-cp310-cp310-manylinux_2_17_x86_64.manylinux2014_x86_64.whl (7.8 MB)\n",
            "\u001b[2K     \u001b[90m━━━━━━━━━━━━━━━━━━━━━━━━━━━━━━━━━━━━━━━━\u001b[0m \u001b[32m7.8/7.8 MB\u001b[0m \u001b[31m51.7 MB/s\u001b[0m eta \u001b[36m0:00:00\u001b[0m\n",
            "\u001b[?25hCollecting safetensors>=0.3.1 (from transformers)\n",
            "  Downloading safetensors-0.3.3-cp310-cp310-manylinux_2_17_x86_64.manylinux2014_x86_64.whl (1.3 MB)\n",
            "\u001b[2K     \u001b[90m━━━━━━━━━━━━━━━━━━━━━━━━━━━━━━━━━━━━━━━━\u001b[0m \u001b[32m1.3/1.3 MB\u001b[0m \u001b[31m25.3 MB/s\u001b[0m eta \u001b[36m0:00:00\u001b[0m\n",
            "\u001b[?25hRequirement already satisfied: tqdm>=4.27 in /usr/local/lib/python3.10/dist-packages (from transformers) (4.66.1)\n",
            "Requirement already satisfied: fsspec in /usr/local/lib/python3.10/dist-packages (from huggingface-hub<1.0,>=0.15.1->transformers) (2023.6.0)\n",
            "Requirement already satisfied: typing-extensions>=3.7.4.3 in /usr/local/lib/python3.10/dist-packages (from huggingface-hub<1.0,>=0.15.1->transformers) (4.7.1)\n",
            "Requirement already satisfied: charset-normalizer<4,>=2 in /usr/local/lib/python3.10/dist-packages (from requests->transformers) (3.2.0)\n",
            "Requirement already satisfied: idna<4,>=2.5 in /usr/local/lib/python3.10/dist-packages (from requests->transformers) (3.4)\n",
            "Requirement already satisfied: urllib3<3,>=1.21.1 in /usr/local/lib/python3.10/dist-packages (from requests->transformers) (2.0.4)\n",
            "Requirement already satisfied: certifi>=2017.4.17 in /usr/local/lib/python3.10/dist-packages (from requests->transformers) (2023.7.22)\n",
            "Installing collected packages: tokenizers, safetensors, huggingface-hub, transformers\n",
            "Successfully installed huggingface-hub-0.16.4 safetensors-0.3.3 tokenizers-0.13.3 transformers-4.32.1\n",
            "Requirement already satisfied: tqdm in /usr/local/lib/python3.10/dist-packages (4.66.1)\n",
            "Requirement already satisfied: tensorboard in /usr/local/lib/python3.10/dist-packages (2.12.3)\n",
            "Requirement already satisfied: absl-py>=0.4 in /usr/local/lib/python3.10/dist-packages (from tensorboard) (1.4.0)\n",
            "Requirement already satisfied: grpcio>=1.48.2 in /usr/local/lib/python3.10/dist-packages (from tensorboard) (1.57.0)\n",
            "Requirement already satisfied: google-auth<3,>=1.6.3 in /usr/local/lib/python3.10/dist-packages (from tensorboard) (2.17.3)\n",
            "Requirement already satisfied: google-auth-oauthlib<1.1,>=0.5 in /usr/local/lib/python3.10/dist-packages (from tensorboard) (1.0.0)\n",
            "Requirement already satisfied: markdown>=2.6.8 in /usr/local/lib/python3.10/dist-packages (from tensorboard) (3.4.4)\n",
            "Requirement already satisfied: numpy>=1.12.0 in /usr/local/lib/python3.10/dist-packages (from tensorboard) (1.23.5)\n",
            "Requirement already satisfied: protobuf>=3.19.6 in /usr/local/lib/python3.10/dist-packages (from tensorboard) (3.20.3)\n",
            "Requirement already satisfied: requests<3,>=2.21.0 in /usr/local/lib/python3.10/dist-packages (from tensorboard) (2.31.0)\n",
            "Requirement already satisfied: setuptools>=41.0.0 in /usr/local/lib/python3.10/dist-packages (from tensorboard) (67.7.2)\n",
            "Requirement already satisfied: tensorboard-data-server<0.8.0,>=0.7.0 in /usr/local/lib/python3.10/dist-packages (from tensorboard) (0.7.1)\n",
            "Requirement already satisfied: werkzeug>=1.0.1 in /usr/local/lib/python3.10/dist-packages (from tensorboard) (2.3.7)\n",
            "Requirement already satisfied: wheel>=0.26 in /usr/local/lib/python3.10/dist-packages (from tensorboard) (0.41.2)\n",
            "Requirement already satisfied: cachetools<6.0,>=2.0.0 in /usr/local/lib/python3.10/dist-packages (from google-auth<3,>=1.6.3->tensorboard) (5.3.1)\n",
            "Requirement already satisfied: pyasn1-modules>=0.2.1 in /usr/local/lib/python3.10/dist-packages (from google-auth<3,>=1.6.3->tensorboard) (0.3.0)\n",
            "Requirement already satisfied: six>=1.9.0 in /usr/local/lib/python3.10/dist-packages (from google-auth<3,>=1.6.3->tensorboard) (1.16.0)\n",
            "Requirement already satisfied: rsa<5,>=3.1.4 in /usr/local/lib/python3.10/dist-packages (from google-auth<3,>=1.6.3->tensorboard) (4.9)\n",
            "Requirement already satisfied: requests-oauthlib>=0.7.0 in /usr/local/lib/python3.10/dist-packages (from google-auth-oauthlib<1.1,>=0.5->tensorboard) (1.3.1)\n",
            "Requirement already satisfied: charset-normalizer<4,>=2 in /usr/local/lib/python3.10/dist-packages (from requests<3,>=2.21.0->tensorboard) (3.2.0)\n",
            "Requirement already satisfied: idna<4,>=2.5 in /usr/local/lib/python3.10/dist-packages (from requests<3,>=2.21.0->tensorboard) (3.4)\n",
            "Requirement already satisfied: urllib3<3,>=1.21.1 in /usr/local/lib/python3.10/dist-packages (from requests<3,>=2.21.0->tensorboard) (2.0.4)\n",
            "Requirement already satisfied: certifi>=2017.4.17 in /usr/local/lib/python3.10/dist-packages (from requests<3,>=2.21.0->tensorboard) (2023.7.22)\n",
            "Requirement already satisfied: MarkupSafe>=2.1.1 in /usr/local/lib/python3.10/dist-packages (from werkzeug>=1.0.1->tensorboard) (2.1.3)\n",
            "Requirement already satisfied: pyasn1<0.6.0,>=0.4.6 in /usr/local/lib/python3.10/dist-packages (from pyasn1-modules>=0.2.1->google-auth<3,>=1.6.3->tensorboard) (0.5.0)\n",
            "Requirement already satisfied: oauthlib>=3.0.0 in /usr/local/lib/python3.10/dist-packages (from requests-oauthlib>=0.7.0->google-auth-oauthlib<1.1,>=0.5->tensorboard) (3.2.2)\n"
          ]
        }
      ],
      "source": [
        "# installing all the necessary packages\n",
        "!pip install torch torchvision torchaudio --extra-index-url https://download.pytorch.org/whl/cu116 --upgrade\n",
        "!pip install transformers --upgrade\n",
        "!pip install tqdm\n",
        "!pip install tensorboard"
      ]
    },
    {
      "cell_type": "code",
      "source": [
        "# importing all the necessary libraries\n",
        "import json\n",
        "import os\n",
        "import timeit\n",
        "import collections\n",
        "import time\n",
        "from pprint import pprint\n",
        "import numpy as np\n",
        "import pandas as pd\n",
        "import torch\n",
        "from torch.utils.data import DataLoader, RandomSampler, SequentialSampler\n",
        "from tqdm import tqdm\n",
        "from transformers import AutoTokenizer, AutoModelForQuestionAnswering, squad_convert_examples_to_features\n",
        "from transformers.data.processors.squad import SquadV2Processor,SquadResult\n",
        "from transformers.data.metrics.squad_metrics import (\n",
        "    compute_predictions_log_probs,\n",
        "    compute_predictions_logits,\n",
        "    squad_evaluate,\n",
        ")"
      ],
      "metadata": {
        "id": "WmYit7ejepV4"
      },
      "execution_count": 2,
      "outputs": []
    },
    {
      "cell_type": "code",
      "source": [
        "DO_LOWER_CASE = True\n",
        "NBEST_SIZE = 20\n",
        "DOC_STRIDE = 128\n",
        "MAX_SEQ_LENGTH = 384\n",
        "MAX_QUERY_LENGTH = 64\n",
        "MAX_ANSWER_LENGTH = 30\n",
        "DATA_DIR = 'data/squad'\n",
        "PREDICT_FILE = 'dev-v2.0.json'\n",
        "\n",
        "BERT_MODEL_TYPE = 'bert'\n",
        "BERT_MODEL_HF_PATH = 'twmkn9/bert-base-uncased-squad2'\n",
        "BERT_OUTPUT_DIR = 'models/bert/twmkn9_bert-case-uncased-squad2'\n",
        "\n",
        "DISTILBERT_MODEL_TYPE = 'distilbert'\n",
        "DISTILBERT_MODEL_HF_PATH = 'twmkn9/distilbert-base-uncased-squad2'\n",
        "DISTILBERT_OUTPUT_DIR = 'models/distilbert/twmkn9_distilbert-base-uncased-squad2'"
      ],
      "metadata": {
        "id": "A5iBdFlYf4cp"
      },
      "execution_count": 3,
      "outputs": []
    },
    {
      "cell_type": "markdown",
      "source": [
        "# Downloading and Exploring the dataset"
      ],
      "metadata": {
        "id": "GIdkYBU4qUxp"
      }
    },
    {
      "cell_type": "code",
      "source": [
        "# downloading the dataset\n",
        "!wget -P data/squad/ https://rajpurkar.github.io/SQuAD-explorer/dataset/dev-v2.0.json"
      ],
      "metadata": {
        "colab": {
          "base_uri": "https://localhost:8080/"
        },
        "id": "GAeVniE3r3FY",
        "outputId": "396fce16-a167-4e91-d203-b5787f20298c"
      },
      "execution_count": 4,
      "outputs": [
        {
          "output_type": "stream",
          "name": "stdout",
          "text": [
            "--2023-08-31 08:42:47--  https://rajpurkar.github.io/SQuAD-explorer/dataset/dev-v2.0.json\n",
            "Resolving rajpurkar.github.io (rajpurkar.github.io)... 185.199.108.153, 185.199.109.153, 185.199.110.153, ...\n",
            "Connecting to rajpurkar.github.io (rajpurkar.github.io)|185.199.108.153|:443... connected.\n",
            "HTTP request sent, awaiting response... 200 OK\n",
            "Length: 4370528 (4.2M) [application/json]\n",
            "Saving to: ‘data/squad/dev-v2.0.json’\n",
            "\n",
            "dev-v2.0.json       100%[===================>]   4.17M  --.-KB/s    in 0.05s   \n",
            "\n",
            "2023-08-31 08:42:47 (76.9 MB/s) - ‘data/squad/dev-v2.0.json’ saved [4370528/4370528]\n",
            "\n"
          ]
        }
      ]
    },
    {
      "cell_type": "markdown",
      "source": [
        "#### <i>Stanford Question Answering Dataset (SQuAD) is a reading comprehension dataset, consisting of questions posed by crowdworkers on a set of Wikipedia articles, where the answer to every question is a segment of text, or span, from the corresponding reading passage, or the question might be unanswerable.\n",
        "\n",
        "#### SQuAD2.0 combines the 100,000 questions in SQuAD1.1 with over 50,000 unanswerable questions written adversarially by crowdworkers to look similar to answerable ones. To do well on SQuAD2.0, systems must not only answer questions when possible, but also determine when no answer is supported by the paragraph and abstain from answering.</i>\n"
      ],
      "metadata": {
        "id": "4kyRIb-GsgO7"
      }
    },
    {
      "cell_type": "markdown",
      "source": [
        "## Loading the DEV set using Hugging Face's data processors"
      ],
      "metadata": {
        "id": "ydfV2-ZbuFbs"
      }
    },
    {
      "cell_type": "markdown",
      "source": [
        "I am going to make use of [Processors](https://huggingface.co/transformers/main_classes/processors.html) to facilitate basic processing tasks with some canonical NLP datasets. The processors can be used for loading datasets and converting their examples to features for direct use in the model. More specifically, we will be using the [SQuAD processors](https://huggingface.co/transformers/main_classes/processors.html#squad)"
      ],
      "metadata": {
        "id": "zvhSzVUludK_"
      }
    },
    {
      "cell_type": "code",
      "source": [
        "def to_list(tensor):\n",
        "  return tensor.detach().cpu().tolist()"
      ],
      "metadata": {
        "id": "zbrTlTo5r91S"
      },
      "execution_count": 5,
      "outputs": []
    },
    {
      "cell_type": "code",
      "source": [
        "def load_and_cache_examples(model_name_or_path,\n",
        "                            data_dir= DATA_DIR,\n",
        "                            predict_file=PREDICT_FILE,\n",
        "                            max_seq_length=MAX_SEQ_LENGTH,\n",
        "                            doc_stride=DOC_STRIDE,\n",
        "                            max_query_length=MAX_QUERY_LENGTH,\n",
        "                            overwrite_cache=True):\n",
        "\n",
        "    tokenizer = AutoTokenizer.from_pretrained(model_name_or_path, use_fast=False)\n",
        "    # Load data features from cache or dataset file\n",
        "    input_dir = data_dir if data_dir else \".\"\n",
        "    cached_features_file = os.path.join(\n",
        "        input_dir,\n",
        "        \"cached_{}_{}_{}\".format(\n",
        "            \"dev\",\n",
        "            list(filter(None, model_name_or_path.split(\"/\"))).pop(),\n",
        "            str(max_seq_length),\n",
        "        ),\n",
        "    )\n",
        "\n",
        "    # Init features and dataset from cache if it exists\n",
        "    if os.path.exists(cached_features_file) and not overwrite_cache:\n",
        "        logger.info(\"Loading features from cached file %s\", cached_features_file)\n",
        "        features_and_dataset = torch.load(cached_features_file)\n",
        "        features, dataset, examples = (\n",
        "            features_and_dataset[\"features\"],\n",
        "            features_and_dataset[\"dataset\"],\n",
        "            features_and_dataset[\"examples\"],\n",
        "        )\n",
        "    else:\n",
        "\n",
        "        processor = SquadV2Processor()\n",
        "\n",
        "        examples = processor.get_dev_examples(data_dir, filename=predict_file)\n",
        "\n",
        "        features, dataset = squad_convert_examples_to_features(\n",
        "            examples=examples,\n",
        "            tokenizer=tokenizer,\n",
        "            max_seq_length=max_seq_length,\n",
        "            doc_stride=doc_stride,\n",
        "            max_query_length=max_query_length,\n",
        "            is_training=False,\n",
        "            return_dataset=\"pt\",\n",
        "            threads=1,\n",
        "        )\n",
        "\n",
        "\n",
        "    return dataset, examples, features"
      ],
      "metadata": {
        "id": "sDvb8A8qut0m"
      },
      "execution_count": 6,
      "outputs": []
    },
    {
      "cell_type": "code",
      "source": [
        "dataset, examples, features = load_and_cache_examples(BERT_MODEL_HF_PATH)"
      ],
      "metadata": {
        "colab": {
          "base_uri": "https://localhost:8080/",
          "height": 197,
          "referenced_widgets": [
            "d3c172ef7efa4fe7b25ce43085d0efc9",
            "5e2ae1d0952540b38622e3cba105d7b7",
            "c8a04dccc65746508347f9f6ed318a9f",
            "d2d78712227f4d8584f9608ab86ab453",
            "2ab208c9bb0c43b8942c6967fbf95caf",
            "8c3982f5e21d4473a10f894df6441412",
            "84f604bc276a4e9e9b79de06722e6194",
            "b3129fe88dc348388c380a862baffa91",
            "d6e93c40c5274d2bbe3849cd22a8d47d",
            "a01bc84335ab46f19604b2fb9efe90a4",
            "4511598da1ea451ea6ed1210d155a0df",
            "fce301c28e8e47f193810d10447c6e5b",
            "4f3ac77f502747c4b9e1c5a96e6f713a",
            "a4f3af03a6014dc8935e38a5d6eceb4e",
            "4d9aaa8cc999461291709c5a7702131e",
            "a05069c942a34127a903049911db51f0",
            "cba6eecadec24ddaac2fbf7b63827ef0",
            "0249879e58354cb0aafb2d127d2e6673",
            "334196080b2f49ba84ad1c0acba3109c",
            "dabce9bd46704412aa683bab949ccd26",
            "f705d2f6c6c244a28a91dc865ef085d1",
            "f4cebadd85ec4f1588cc1d8299596dea",
            "e3dc0055dd5a4e12a4d1f45bba3b9778",
            "32d7899aebf54d9294d07a542e743edf",
            "d0c28766de394a1f9e91ba2b169190e1",
            "9dbf94c108794b77bbc1a81398339eb2",
            "8813b5d2d8c64096903ff582a2880ef0",
            "63336170f5804b9baf88e5aea478484a",
            "9def99ed4e32435899b937d5ff1d6d34",
            "4f9910a87afd4317a09c2f95f733899a",
            "5d56a517ae724717bf35119e5546044d",
            "b17124a124e343b585256071c4d79201",
            "4768ffea3da2471ebf08db1e72dbaa1c",
            "3c654f9c3f3a43118798ebe8606b2d46",
            "5d191894c7a94d84a007b661955f35fe",
            "5ff9590a60614925afd7dcd570f8a189",
            "4c5d66099f9b4f729971db57110e1fb3",
            "b5b234675bac4b979c3cdee97a2a17ce",
            "4939cb584a754033a151243a7717848f",
            "e6988a6a52c147c9991c7c749a1ada29",
            "d8e06e0e667a48059cf1234b857e87c0",
            "bd6d955b9c4f4df5884d6704291ccd56",
            "8fa19e09874a413ba9e78a8a0943ad80",
            "a1c3b714b8344d778945553fca332f9a"
          ]
        },
        "id": "zEPdgAniyH4Y",
        "outputId": "ba214c9e-6b36-4a9f-e5e8-3bdfd7c8ad0e"
      },
      "execution_count": 7,
      "outputs": [
        {
          "output_type": "display_data",
          "data": {
            "text/plain": [
              "Downloading (…)okenizer_config.json:   0%|          | 0.00/39.0 [00:00<?, ?B/s]"
            ],
            "application/vnd.jupyter.widget-view+json": {
              "version_major": 2,
              "version_minor": 0,
              "model_id": "d3c172ef7efa4fe7b25ce43085d0efc9"
            }
          },
          "metadata": {}
        },
        {
          "output_type": "display_data",
          "data": {
            "text/plain": [
              "Downloading (…)lve/main/config.json:   0%|          | 0.00/465 [00:00<?, ?B/s]"
            ],
            "application/vnd.jupyter.widget-view+json": {
              "version_major": 2,
              "version_minor": 0,
              "model_id": "fce301c28e8e47f193810d10447c6e5b"
            }
          },
          "metadata": {}
        },
        {
          "output_type": "display_data",
          "data": {
            "text/plain": [
              "Downloading (…)solve/main/vocab.txt:   0%|          | 0.00/232k [00:00<?, ?B/s]"
            ],
            "application/vnd.jupyter.widget-view+json": {
              "version_major": 2,
              "version_minor": 0,
              "model_id": "e3dc0055dd5a4e12a4d1f45bba3b9778"
            }
          },
          "metadata": {}
        },
        {
          "output_type": "display_data",
          "data": {
            "text/plain": [
              "Downloading (…)cial_tokens_map.json:   0%|          | 0.00/112 [00:00<?, ?B/s]"
            ],
            "application/vnd.jupyter.widget-view+json": {
              "version_major": 2,
              "version_minor": 0,
              "model_id": "3c654f9c3f3a43118798ebe8606b2d46"
            }
          },
          "metadata": {}
        },
        {
          "output_type": "stream",
          "name": "stderr",
          "text": [
            "100%|██████████| 35/35 [00:04<00:00,  7.76it/s]\n",
            "convert squad examples to features: 100%|██████████| 11873/11873 [01:44<00:00, 113.23it/s]\n",
            "add example index and unique id: 100%|██████████| 11873/11873 [00:00<00:00, 1023133.39it/s]\n"
          ]
        }
      ]
    },
    {
      "cell_type": "code",
      "source": [
        "print(f'There are {len(examples)} examples in the dev dataset.')"
      ],
      "metadata": {
        "colab": {
          "base_uri": "https://localhost:8080/"
        },
        "id": "X17jPP7tyQRm",
        "outputId": "01964c02-cb31-4a92-831e-78b649ece530"
      },
      "execution_count": 8,
      "outputs": [
        {
          "output_type": "stream",
          "name": "stdout",
          "text": [
            "There are 11873 examples in the dev dataset.\n"
          ]
        }
      ]
    },
    {
      "cell_type": "markdown",
      "source": [
        "This list of examples contains objects of type transformers.data.processors.squad.SquadExample.\n",
        "We use the functionbelow to extract the information we want from such objects.\n",
        "More specifically: 'qid', 'question_text', 'context_text' and 'answer'."
      ],
      "metadata": {
        "id": "iuXX6LRwk2pq"
      }
    },
    {
      "cell_type": "markdown",
      "source": [
        "I will first create some extra variables to help on manipulation of data."
      ],
      "metadata": {
        "id": "g7Y8-ozplQ35"
      }
    },
    {
      "cell_type": "code",
      "source": [
        "# generating some maps to help identify examples of interest.\n",
        "qid_to_example_index = {example.qas_id: i for i, example in enumerate(examples)}\n",
        "qid_to_has_answer = {example.qas_id: bool(example.answers) for example in examples}\n",
        "answer_qids = [qas_id for qas_id, has_answer in qid_to_has_answer.items() if has_answer]\n",
        "no_answer_qids = [qas_id for qas_id, has_answer in qid_to_has_answer.items() if not has_answer]"
      ],
      "metadata": {
        "id": "MpRFtUtClPVN"
      },
      "execution_count": 9,
      "outputs": []
    },
    {
      "cell_type": "markdown",
      "source": [
        "And also, the function below to help on extracting information given a `qid` (question unique identifier)"
      ],
      "metadata": {
        "id": "h9cI61WBmK65"
      }
    },
    {
      "cell_type": "code",
      "source": [
        "def display_example(qid: str) -> None:\n",
        "  idx = qid_to_example_index[qid]\n",
        "  q = examples[idx].question_text\n",
        "  c = examples[idx].context_text\n",
        "  a = [answer['text'] for answer in examples[idx].answers]\n",
        "\n",
        "  print(f'Examples {idx} of {len(examples)}\\n------------------')\n",
        "  print(f'Q: {q}\\n')\n",
        "  print('Context:')\n",
        "  pprint(c)\n",
        "  print(f'\\nTrue Answers:\\n{a}')"
      ],
      "metadata": {
        "id": "HUKy5JGFmCwK"
      },
      "execution_count": 10,
      "outputs": []
    },
    {
      "cell_type": "markdown",
      "source": [
        "## Positive Example"
      ],
      "metadata": {
        "id": "BzU2wpTunWgP"
      }
    },
    {
      "cell_type": "markdown",
      "source": [
        "50% of the examples in the test set are questionst hat have answers contained within their corresponding passage. In these cases, up to 5 possible correct answers are provided. Such answers must come directly from the passage, we will see later, however, that there are several ways to arrive at a \"correct\" answer."
      ],
      "metadata": {
        "id": "hDQ9-8LOnZRl"
      }
    },
    {
      "cell_type": "code",
      "source": [
        "display_example(answer_qids[2456])"
      ],
      "metadata": {
        "colab": {
          "base_uri": "https://localhost:8080/"
        },
        "id": "T5MtCsUxnVi1",
        "outputId": "5dfb3011-500c-4a50-d887-bd09b09469d9"
      },
      "execution_count": 11,
      "outputs": [
        {
          "output_type": "stream",
          "name": "stdout",
          "text": [
            "Examples 4959 of 11873\n",
            "------------------\n",
            "Q: It is now possible to convert old relative ages into what type of ages using isotopic dating?\n",
            "\n",
            "Context:\n",
            "('At the beginning of the 20th century, important advancement in geological '\n",
            " 'science was facilitated by the ability to obtain accurate absolute dates to '\n",
            " 'geologic events using radioactive isotopes and other methods. This changed '\n",
            " 'the understanding of geologic time. Previously, geologists could only use '\n",
            " 'fossils and stratigraphic correlation to date sections of rock relative to '\n",
            " 'one another. With isotopic dates it became possible to assign absolute ages '\n",
            " 'to rock units, and these absolute dates could be applied to fossil sequences '\n",
            " 'in which there was datable material, converting the old relative ages into '\n",
            " 'new absolute ages.')\n",
            "\n",
            "True Answers:\n",
            "['absolute ages', 'rock units', 'new absolute']\n"
          ]
        }
      ]
    },
    {
      "cell_type": "markdown",
      "source": [
        "## Negative Example"
      ],
      "metadata": {
        "id": "mo7vdGEjn7F6"
      }
    },
    {
      "cell_type": "markdown",
      "source": [
        "The remaining 50% of the questions in the test set do not have an answer. This is important as in a real life Q&A system, the model needs to learn when **NOT TO ANSWER.**"
      ],
      "metadata": {
        "id": "BtL6WUT5n9Ni"
      }
    },
    {
      "cell_type": "code",
      "source": [
        "display_example(no_answer_qids[1235])"
      ],
      "metadata": {
        "colab": {
          "base_uri": "https://localhost:8080/"
        },
        "id": "aAa9F5kGnv2P",
        "outputId": "1f7c0106-9597-412d-cb1b-a56e30ff0d08"
      },
      "execution_count": 12,
      "outputs": [
        {
          "output_type": "stream",
          "name": "stdout",
          "text": [
            "Examples 2520 of 11873\n",
            "------------------\n",
            "Q: What is difficult with a satellite-to-noise ratio?\n",
            "\n",
            "Context:\n",
            "('Oxygen presents two spectrophotometric absorption bands peaking at the '\n",
            " 'wavelengths 687 and 760 nm. Some remote sensing scientists have proposed '\n",
            " 'using the measurement of the radiance coming from vegetation canopies in '\n",
            " 'those bands to characterize plant health status from a satellite platform. '\n",
            " 'This approach exploits the fact that in those bands it is possible to '\n",
            " \"discriminate the vegetation's reflectance from its fluorescence, which is \"\n",
            " 'much weaker. The measurement is technically difficult owing to the low '\n",
            " 'signal-to-noise ratio and the physical structure of vegetation; but it has '\n",
            " 'been proposed as a possible method of monitoring the carbon cycle from '\n",
            " 'satellites on a global scale.')\n",
            "\n",
            "True Answers:\n",
            "[]\n"
          ]
        }
      ]
    },
    {
      "cell_type": "markdown",
      "source": [
        "## Metrics for Q&A Systems"
      ],
      "metadata": {
        "id": "wOWgT23212sd"
      }
    },
    {
      "cell_type": "markdown",
      "source": [
        "When measuring the performance of a machine learning system, we need to think about both **model** and **customer metrics.**"
      ],
      "metadata": {
        "id": "z0sxc5GV3OZN"
      }
    },
    {
      "cell_type": "markdown",
      "source": [
        "Q&A systems are usually measured by two dominant metrics: **F1** and **Exact Match (EM)**. They are computed on individual question and answer **pairs**. When multiple correct answers are available for a given question the maximum score over all possible correct answers is computed. Overall EM and F1 scores are computed for a model by averaging over the individual example scores."
      ],
      "metadata": {
        "id": "MQfRt0bl3jYD"
      }
    },
    {
      "cell_type": "markdown",
      "source": [
        "### Exact Match:"
      ],
      "metadata": {
        "id": "r_VGFueB4Re3"
      }
    },
    {
      "cell_type": "markdown",
      "source": [
        "For each Q&A pair, if the characters of the model's prediction are an exact matvh of the characters of any of the True Answer(s), **EM = 1**, else, **EM = 0**. This is a strict all-or-nothing metric, which may have little value for final customers of a Q&A system. It may be beneficial only when assessing against a negative example; if the model predicts any text at all, it automatically receives a 0 for that example."
      ],
      "metadata": {
        "id": "rhsLDwIq4cIJ"
      }
    },
    {
      "cell_type": "markdown",
      "source": [
        "### F1 Score:"
      ],
      "metadata": {
        "id": "_Q_76Kdg3iVn"
      }
    },
    {
      "cell_type": "markdown",
      "source": [
        "Almost all classification problems rely on F1 score to measure the model performance. It is mostly appropriate when we care equally about precision and recall. On an QnA system, however, it is computed over the individual words in the prediction against those in the True answer. The number of shared words between the prediction and the trust is the basis of F1 score. While **precision** is the ratio between the number of shared words to the total number of words in the prediction; **Recall** is the ratio of the number of shared words to the toal number of words in the ground truth."
      ],
      "metadata": {
        "id": "kHC_C8iP5Fka"
      }
    },
    {
      "cell_type": "markdown",
      "source": [
        "### Latency"
      ],
      "metadata": {
        "id": "NE0ffj168oi3"
      }
    },
    {
      "cell_type": "markdown",
      "source": [
        "Latency is an important metric for ML systems. in the QnA example, it is of the utmost importance when the system is used in a conversational application. <br> For Example, Alexa and Google home are devices that have very strict latency constraints as the users expect an answer within a few seconds or macroseconds after the question is asked. When updating models we should take this dimension according to the application of the system."
      ],
      "metadata": {
        "id": "rC-trkOp8p--"
      }
    },
    {
      "cell_type": "markdown",
      "source": [
        "### Answer Rate"
      ],
      "metadata": {
        "id": "LDGsFCD49ORY"
      }
    },
    {
      "cell_type": "markdown",
      "source": [
        "In the QnA systems, models that attempt to answer every question are often perceived inaccurate. The system should only provide an output when it is confident enough to do so. In other words, when the probabiliries of predictions are above a certain threshold. <br> In some applications, a model should be able to say *I don't know* or *The context has not enough information to answer the question.*"
      ],
      "metadata": {
        "id": "5H_rtE4z9SUf"
      }
    },
    {
      "cell_type": "markdown",
      "source": [
        "# Q&A Models"
      ],
      "metadata": {
        "id": "hX-3eJSPIIe4"
      }
    },
    {
      "cell_type": "markdown",
      "source": [
        "Question and Answering make use of Large Language Models (LLMs) as any other classification problem in NLP. The main difference relies on how the input and the output is provided to the model. Generally speaking models are trained to match the true answer to the question as they are provided together as an input to the model."
      ],
      "metadata": {
        "id": "MDHD3B31oTuq"
      }
    },
    {
      "cell_type": "markdown",
      "source": [
        "# Bert"
      ],
      "metadata": {
        "id": "OgMAI1ClI4NB"
      }
    },
    {
      "cell_type": "markdown",
      "source": [
        "BERT is a neural approach to pre-train language representations which obtains near SOTA results on a wide array of NLP tasks, including SQuAD Question Answering dataset <br><br>\n",
        "\n",
        "Developed in 2019, BERT achieves 80.422% in the EM score and 83.118% in the F1 score.<br><br>\n",
        "\n",
        "BERT-base has 110 million parameters and BERT-large has 340 million parameters."
      ],
      "metadata": {
        "id": "iHUtuP7oI6Y8"
      }
    },
    {
      "cell_type": "markdown",
      "source": [
        "## Model Parameters comparison"
      ],
      "metadata": {
        "id": "sAqAtSqAJgfv"
      }
    },
    {
      "cell_type": "markdown",
      "source": [
        "As LLMs were developed, the amount of parameters in these models have grown exponentially. Although this improves model performance, it comes at a cost: Latency. As it will be discussed, for use cases where inference is done on batches that may have less impact, however, on real time systems such as voice assistants or web search, latency plays a major role on deciding whether one model is better than the other."
      ],
      "metadata": {
        "id": "Z9U-RViiJkYK"
      }
    },
    {
      "cell_type": "markdown",
      "source": [
        "# BERT Input"
      ],
      "metadata": {
        "id": "6oXV30yJKP6m"
      }
    },
    {
      "cell_type": "markdown",
      "source": [
        "[CLS] context [SEP] question [SEP] [PAD] [PAD] [PAD]"
      ],
      "metadata": {
        "id": "kpCoPdGMKSKL"
      }
    },
    {
      "cell_type": "markdown",
      "source": [
        "**context** = \"The Intergovernmental Panel on Climate Change (IPCC) is a scientific intergovernmental body under the auspices of the United Nations.\"\n",
        "\n",
        "**question** = \"What organization is the IPCC a part of?\"\n",
        "\n",
        "**after being merged by the tokenizer**:\n",
        "```\n",
        "\"[CLS] The Intergovernmental Panel on Climate Change (IPCC) is a scientific intergovernmental body under the auspices of the United Nations. [SEP] What organization is the IPCC a part of? [SEP] [PAD] [PAD] [PAD]\"\n",
        "```\n"
      ],
      "metadata": {
        "id": "cemFTJ-dKVq7"
      }
    },
    {
      "cell_type": "markdown",
      "source": [
        "**token-id format**:\n",
        "\n",
        "[101, 1109, 11300, 2758, 24472, 15595, 20339, 1113, 13540, 9091, 113, 14274, 12096, 114, 1110, 170, 3812,\n",
        " 9455, 2758, 24472, 15595, 1404, 1223, 1103, 22105, 1104, 1103, 1244, 3854, 119, 102, 1327, 2369, 1110, 1103,\n",
        " 14274, 12096, 170, 1226, 1104, 136, 102, 0, 0, 0]"
      ],
      "metadata": {
        "id": "iYgjajNpKcsZ"
      }
    },
    {
      "cell_type": "markdown",
      "source": [
        "# Loading Pre-Trained BERT from Hugging Face's repository."
      ],
      "metadata": {
        "id": "3M-0PYH3Kelv"
      }
    },
    {
      "cell_type": "code",
      "source": [
        "tokenizer = AutoTokenizer.from_pretrained(BERT_MODEL_HF_PATH, use_fast = False)\n",
        "model = AutoModelForQuestionAnswering.from_pretrained(BERT_MODEL_HF_PATH)"
      ],
      "metadata": {
        "colab": {
          "base_uri": "https://localhost:8080/",
          "height": 121,
          "referenced_widgets": [
            "96a6ee85c7d54261b3714e1786ce2ff7",
            "eb6fdaaaf4164bbeb37fa7396e8bcde0",
            "5f15d04c55714ea49abb706b3b715b5f",
            "eabcc25be9ba4ba6955c87de891fcbb8",
            "ddefbb8b98b148f18ca8c1dc5d523db6",
            "0ef643059a384afc9f03edb3271c15ad",
            "ea3d956932f0448d881b139c61c213ba",
            "98ab0923f3e14a35b5be9ca05f9edca5",
            "dfa9f7e066f14dacaf3c653161716e48",
            "31da0ea4652f4eb7994a42f4942f7161",
            "df74c058b6204105a6b7139ac6d91ffd"
          ]
        },
        "id": "aVRdXn2pKYtm",
        "outputId": "8ff78424-a80c-4ed7-c84a-4d6da80b43fc"
      },
      "execution_count": 13,
      "outputs": [
        {
          "output_type": "display_data",
          "data": {
            "text/plain": [
              "Downloading pytorch_model.bin:   0%|          | 0.00/438M [00:00<?, ?B/s]"
            ],
            "application/vnd.jupyter.widget-view+json": {
              "version_major": 2,
              "version_minor": 0,
              "model_id": "96a6ee85c7d54261b3714e1786ce2ff7"
            }
          },
          "metadata": {}
        },
        {
          "output_type": "stream",
          "name": "stderr",
          "text": [
            "Some weights of the model checkpoint at twmkn9/bert-base-uncased-squad2 were not used when initializing BertForQuestionAnswering: ['bert.pooler.dense.weight', 'bert.pooler.dense.bias']\n",
            "- This IS expected if you are initializing BertForQuestionAnswering from the checkpoint of a model trained on another task or with another architecture (e.g. initializing a BertForSequenceClassification model from a BertForPreTraining model).\n",
            "- This IS NOT expected if you are initializing BertForQuestionAnswering from the checkpoint of a model that you expect to be exactly identical (initializing a BertForSequenceClassification model from a BertForSequenceClassification model).\n"
          ]
        }
      ]
    },
    {
      "cell_type": "markdown",
      "source": [
        "# Utility Functions"
      ],
      "metadata": {
        "id": "I4KWRKCbK1Hh"
      }
    },
    {
      "cell_type": "markdown",
      "source": [
        "Given a question_id, model and tokenizer, we get an answer text. In here we get the maximum probability of beginning and end for the answer in the softmax output."
      ],
      "metadata": {
        "id": "oXWdDyL-K-it"
      }
    },
    {
      "cell_type": "code",
      "source": [
        "def get_prediction(qid: str, model: AutoModelForQuestionAnswering, tokenizer: AutoTokenizer):\n",
        "  # given a question_id (qas_id or qid), load the example, get the model outputs and generate an answer\n",
        "  question = examples[qid_to_example_index[qid]].question_text\n",
        "  context = examples[qid_to_example_index[qid]].context_text\n",
        "\n",
        "  inputs = tokenizer.encode_plus(question, context, return_tensors = 'pt')\n",
        "\n",
        "  outputs = model(**inputs)\n",
        "\n",
        "  answer_start = torch.argmax(outputs[0])       # get the most likely beginning of answer with the argmax of the score\n",
        "  answer_end = torch.argmax(outputs[1]) + 1\n",
        "\n",
        "  answer = tokenizer.convert_tokens_to_string(tokenizer.convert_ids_to_tokens(inputs['input_ids'][0][answer_start: answer_end]))\n",
        "\n",
        "  return answer"
      ],
      "metadata": {
        "id": "7iHkRN1lLKtt"
      },
      "execution_count": 14,
      "outputs": []
    },
    {
      "cell_type": "markdown",
      "source": [
        "I am creatinga simple function that given an example list, it extracts the gold answers."
      ],
      "metadata": {
        "id": "f1T3kGjsMQib"
      }
    },
    {
      "cell_type": "code",
      "source": [
        "def get_gold_answers(example):\n",
        "  \"\"\"\n",
        "  helper function that retrieves all possible true answers from a squad2.0 example.\n",
        "  \"\"\"\n",
        "\n",
        "  gold_answers = [answer['text'] for answer in example.answers if answer['text']]\n",
        "\n",
        "  # if gold_answers doesn't exist, it's because this is a negative example.\n",
        "  # the only correct answer is an empty string then in this case.\n",
        "  if not gold_answers:\n",
        "    gold_answers = [\"\"]\n",
        "\n",
        "  return gold_answers"
      ],
      "metadata": {
        "id": "3pBy7UtBMOVq"
      },
      "execution_count": 15,
      "outputs": []
    },
    {
      "cell_type": "markdown",
      "source": [
        "For metrics like EM, we need to make sure that texts are normalized so we can compare on a character level."
      ],
      "metadata": {
        "id": "QsrAMtQjM1V5"
      }
    },
    {
      "cell_type": "code",
      "source": [
        "# these functions are heavily influenced by the HF squad_metrics.py script\n",
        "def normalize_text(s: str):\n",
        "  \"\"\"\n",
        "  removing articles and punctuation, and standardizing whitespace are all typical text processing steps.\n",
        "  \"\"\"\n",
        "  import string, re\n",
        "\n",
        "  def remove_articles(text):\n",
        "    regex = re.compile(r\"\\b(a|an|the)\\b\", re.UNICODE)\n",
        "    return re.sub(regex, \" \", text)\n",
        "\n",
        "  def white_space_fix(text):\n",
        "    return \" \".join(text.split())\n",
        "\n",
        "  def remove_punc(text):\n",
        "    exclude = set(string.punctuation)\n",
        "    return \"\".join(ch for ch in text if ch not in exclude)\n",
        "\n",
        "  def lower(text):\n",
        "    return text.lower()\n",
        "\n",
        "  return white_space_fix(remove_articles(remove_punc(lower(s))))"
      ],
      "metadata": {
        "id": "orPI3BDpM9li"
      },
      "execution_count": 16,
      "outputs": []
    },
    {
      "cell_type": "markdown",
      "source": [
        "# Metrics Calculation"
      ],
      "metadata": {
        "id": "uQpuQGQ0N4lb"
      }
    },
    {
      "cell_type": "markdown",
      "source": [
        "## Exact Match (EM)"
      ],
      "metadata": {
        "id": "P4AsIkLtbp0r"
      }
    },
    {
      "cell_type": "code",
      "source": [
        "def compute_exact_match(prediction, truth):\n",
        "  return int(normalize_text(prediction) == normalize_text(truth))"
      ],
      "metadata": {
        "id": "ad3aEmhbbsQ6"
      },
      "execution_count": 17,
      "outputs": []
    },
    {
      "cell_type": "markdown",
      "source": [
        "## F1 Score"
      ],
      "metadata": {
        "id": "eiuMMikTb-h_"
      }
    },
    {
      "cell_type": "code",
      "source": [
        "def compute_f1(prediction, truth):\n",
        "  pred_tokens = normalize_text(prediction).split()\n",
        "  truth_tokens = normalize_text(truth).split()\n",
        "\n",
        "  # if either the prediction or the truth is no-answer then f1 = 1 if they agree, else 0\n",
        "  if len(pred_tokens) == 0 or len(truth_tokens) == 0:\n",
        "    return int(pred_tokens == truth_tokens)\n",
        "\n",
        "  common_tokens = set(pred_tokens) & set(truth_tokens)\n",
        "\n",
        "  # if there are no common tokens then f1 = 0\n",
        "  if len(common_tokens) ==  0:\n",
        "    return 0\n",
        "\n",
        "  prec = len(common_tokens) / len(pred_tokens)\n",
        "  rec = len(common_tokens) / len(truth_tokens)\n",
        "\n",
        "  return 2 * (prec * rec) / (prec + rec)"
      ],
      "metadata": {
        "id": "aj5W32hscBFK"
      },
      "execution_count": 18,
      "outputs": []
    },
    {
      "cell_type": "markdown",
      "source": [
        "Computing EM and F1 for an example with a gold answer"
      ],
      "metadata": {
        "id": "bWX4AbVoc8tZ"
      }
    },
    {
      "cell_type": "code",
      "source": [
        "prediction = get_prediction(answer_qids[1303], model, tokenizer, )\n",
        "example = examples[qid_to_example_index[answer_qids[1303]]]\n",
        "\n",
        "gold_answers = get_gold_answers(example)\n",
        "\n",
        "em_score = max((compute_exact_match(prediction, answer)) for answer in gold_answers)\n",
        "f1_score = max((compute_f1(prediction, answer)) for answer in gold_answers)\n",
        "\n",
        "print(f\"Question: {example.question_text}\")\n",
        "print(f\"Prediction: {prediction}\")\n",
        "print(f\"True Answers: {gold_answers}\")\n",
        "print(f\"EM: {em_score} \\t F1: {f1_score}\")"
      ],
      "metadata": {
        "colab": {
          "base_uri": "https://localhost:8080/"
        },
        "id": "Q2D7wSwHdApc",
        "outputId": "4e3d3dfb-b2ee-4fc7-847f-79eb3dd4bd46"
      },
      "execution_count": 19,
      "outputs": [
        {
          "output_type": "stream",
          "name": "stdout",
          "text": [
            "Question: What measurement do scientists used to determine the quality of water?\n",
            "Prediction: biochemical oxygen demand\n",
            "True Answers: ['biochemical oxygen demand', 'biochemical oxygen demand', \"measuring the water's biochemical oxygen demand\", 'biochemical oxygen demand', \"measuring the water's biochemical oxygen demand\"]\n",
            "EM: 1 \t F1: 1.0\n"
          ]
        }
      ]
    },
    {
      "cell_type": "markdown",
      "source": [
        "Now let's try and compute an example without answer"
      ],
      "metadata": {
        "id": "heSct5gRePlw"
      }
    },
    {
      "cell_type": "code",
      "source": [
        "prediction = get_prediction(no_answer_qids[1254], model, tokenizer)\n",
        "example = examples[qid_to_example_index[no_answer_qids[1254]]]\n",
        "\n",
        "gold_answers = get_gold_answers(example)\n",
        "\n",
        "em_score = max((compute_exact_match(prediction, answer)) for answer in gold_answers)\n",
        "f1_score = max((compute_f1(prediction, answer)) for answer in gold_answers)\n",
        "\n",
        "print(f\"Question: {example.question_text}\")\n",
        "print(f\"Prediction: {prediction}\")\n",
        "print(f\"True Answers: {gold_answers}\")\n",
        "print(f\"EM: {em_score} \\t F1: {f1_score}\")"
      ],
      "metadata": {
        "colab": {
          "base_uri": "https://localhost:8080/"
        },
        "id": "tCMRvtp0gHAb",
        "outputId": "4a3842ed-c5cb-43b9-d403-adc6c91fd765"
      },
      "execution_count": 20,
      "outputs": [
        {
          "output_type": "stream",
          "name": "stdout",
          "text": [
            "Question: What happened 3.7-2 billion years ago?\n",
            "Prediction: [CLS]\n",
            "True Answers: ['']\n",
            "EM: 0 \t F1: 0\n"
          ]
        }
      ]
    },
    {
      "cell_type": "markdown",
      "source": [
        "Both metrics are zero, this model does not correctly assess that this question is unanswerable. It predicts the [CLS] token (it means it considers the entire context as an answer to the question)"
      ],
      "metadata": {
        "id": "8ZCO1WFZgJqI"
      }
    },
    {
      "cell_type": "markdown",
      "source": [
        "## Putting it all together"
      ],
      "metadata": {
        "id": "G_Q0VhVBgcYE"
      }
    },
    {
      "cell_type": "code",
      "source": [
        "def get_answers_metrics(\n",
        "    model: AutoModelForQuestionAnswering,\n",
        "    tokenizer: AutoTokenizer,\n",
        "    answer_qids = answer_qids,\n",
        "    examples = examples):\n",
        "\n",
        "  answers_arr = []\n",
        "  start_time = time.time()\n",
        "  errors = []\n",
        "\n",
        "  for qid in tqdm(answer_qids):\n",
        "    try:\n",
        "      prediction = get_prediction(qid, model, tokenizer)\n",
        "      example = examples[qid_to_example_index[qid]]\n",
        "\n",
        "      gold_answers = get_gold_answers(example)\n",
        "\n",
        "      em_score = max((compute_exact_match(prediction, answer)) for answer in gold_answers)\n",
        "      f1_score = max((compute_f1(prediction, answer)) for answer in gold_answers)\n",
        "\n",
        "      result_dict = {}\n",
        "      result_dict[\"qid\"] = qid\n",
        "      result_dict[\"question\"] = example.question_text\n",
        "      result_dict[\"prediction\"] = prediction\n",
        "      result_dict[\"true_answers\"] = ';'.join(gold_answers)\n",
        "      result_dict[\"f1\"] = f1_score\n",
        "      result_dict[\"em\"] = em_score\n",
        "      answers_arr.append(result_dict)\n",
        "    except:\n",
        "      errors.append(qid)\n",
        "\n",
        "  end_time = time.time()\n",
        "\n",
        "  return pd.DataFrame(answers_arr), end_time - start_time, errors"
      ],
      "metadata": {
        "id": "w7tuTfofggDW"
      },
      "execution_count": 21,
      "outputs": []
    },
    {
      "cell_type": "code",
      "source": [
        "metrics_df, total_time, errors = get_answers_metrics(model, tokenizer, answer_qids[: 100])"
      ],
      "metadata": {
        "colab": {
          "base_uri": "https://localhost:8080/"
        },
        "id": "F1ufql52g0Mt",
        "outputId": "8935cbbd-2ef6-4163-c89e-ccc1589f182b"
      },
      "execution_count": 22,
      "outputs": [
        {
          "output_type": "stream",
          "name": "stderr",
          "text": [
            "100%|██████████| 100/100 [00:38<00:00,  2.61it/s]\n"
          ]
        }
      ]
    },
    {
      "cell_type": "code",
      "source": [
        "metrics_df.head()"
      ],
      "metadata": {
        "colab": {
          "base_uri": "https://localhost:8080/",
          "height": 206
        },
        "id": "5g-wngj5iTV3",
        "outputId": "e7b8e61f-221f-4cd6-a9f5-3c65891c8f97"
      },
      "execution_count": 23,
      "outputs": [
        {
          "output_type": "execute_result",
          "data": {
            "text/plain": [
              "                        qid  \\\n",
              "0  56ddde6b9a695914005b9628   \n",
              "1  56ddde6b9a695914005b9629   \n",
              "2  56ddde6b9a695914005b962a   \n",
              "3  56ddde6b9a695914005b962b   \n",
              "4  56ddde6b9a695914005b962c   \n",
              "\n",
              "                                            question  \\\n",
              "0               In what country is Normandy located?   \n",
              "1                 When were the Normans in Normandy?   \n",
              "2      From which countries did the Norse originate?   \n",
              "3                          Who was the Norse leader?   \n",
              "4  What century did the Normans first gain their ...   \n",
              "\n",
              "                     prediction  \\\n",
              "0                        france   \n",
              "1       10th and 11th centuries   \n",
              "2  denmark , iceland and norway   \n",
              "3                         rollo   \n",
              "4                          10th   \n",
              "\n",
              "                                        true_answers   f1  em  \n",
              "0                        France;France;France;France  1.0   1  \n",
              "1  10th and 11th centuries;in the 10th and 11th c...  1.0   1  \n",
              "2  Denmark, Iceland and Norway;Denmark, Iceland a...  1.0   1  \n",
              "3                            Rollo;Rollo;Rollo;Rollo  1.0   1  \n",
              "4  10th century;the first half of the 10th centur...  1.0   1  "
            ],
            "text/html": [
              "\n",
              "  <div id=\"df-3d5ea76a-0d13-479a-a22e-5c918d7a922d\" class=\"colab-df-container\">\n",
              "    <div>\n",
              "<style scoped>\n",
              "    .dataframe tbody tr th:only-of-type {\n",
              "        vertical-align: middle;\n",
              "    }\n",
              "\n",
              "    .dataframe tbody tr th {\n",
              "        vertical-align: top;\n",
              "    }\n",
              "\n",
              "    .dataframe thead th {\n",
              "        text-align: right;\n",
              "    }\n",
              "</style>\n",
              "<table border=\"1\" class=\"dataframe\">\n",
              "  <thead>\n",
              "    <tr style=\"text-align: right;\">\n",
              "      <th></th>\n",
              "      <th>qid</th>\n",
              "      <th>question</th>\n",
              "      <th>prediction</th>\n",
              "      <th>true_answers</th>\n",
              "      <th>f1</th>\n",
              "      <th>em</th>\n",
              "    </tr>\n",
              "  </thead>\n",
              "  <tbody>\n",
              "    <tr>\n",
              "      <th>0</th>\n",
              "      <td>56ddde6b9a695914005b9628</td>\n",
              "      <td>In what country is Normandy located?</td>\n",
              "      <td>france</td>\n",
              "      <td>France;France;France;France</td>\n",
              "      <td>1.0</td>\n",
              "      <td>1</td>\n",
              "    </tr>\n",
              "    <tr>\n",
              "      <th>1</th>\n",
              "      <td>56ddde6b9a695914005b9629</td>\n",
              "      <td>When were the Normans in Normandy?</td>\n",
              "      <td>10th and 11th centuries</td>\n",
              "      <td>10th and 11th centuries;in the 10th and 11th c...</td>\n",
              "      <td>1.0</td>\n",
              "      <td>1</td>\n",
              "    </tr>\n",
              "    <tr>\n",
              "      <th>2</th>\n",
              "      <td>56ddde6b9a695914005b962a</td>\n",
              "      <td>From which countries did the Norse originate?</td>\n",
              "      <td>denmark , iceland and norway</td>\n",
              "      <td>Denmark, Iceland and Norway;Denmark, Iceland a...</td>\n",
              "      <td>1.0</td>\n",
              "      <td>1</td>\n",
              "    </tr>\n",
              "    <tr>\n",
              "      <th>3</th>\n",
              "      <td>56ddde6b9a695914005b962b</td>\n",
              "      <td>Who was the Norse leader?</td>\n",
              "      <td>rollo</td>\n",
              "      <td>Rollo;Rollo;Rollo;Rollo</td>\n",
              "      <td>1.0</td>\n",
              "      <td>1</td>\n",
              "    </tr>\n",
              "    <tr>\n",
              "      <th>4</th>\n",
              "      <td>56ddde6b9a695914005b962c</td>\n",
              "      <td>What century did the Normans first gain their ...</td>\n",
              "      <td>10th</td>\n",
              "      <td>10th century;the first half of the 10th centur...</td>\n",
              "      <td>1.0</td>\n",
              "      <td>1</td>\n",
              "    </tr>\n",
              "  </tbody>\n",
              "</table>\n",
              "</div>\n",
              "    <div class=\"colab-df-buttons\">\n",
              "\n",
              "  <div class=\"colab-df-container\">\n",
              "    <button class=\"colab-df-convert\" onclick=\"convertToInteractive('df-3d5ea76a-0d13-479a-a22e-5c918d7a922d')\"\n",
              "            title=\"Convert this dataframe to an interactive table.\"\n",
              "            style=\"display:none;\">\n",
              "\n",
              "  <svg xmlns=\"http://www.w3.org/2000/svg\" height=\"24px\" viewBox=\"0 -960 960 960\">\n",
              "    <path d=\"M120-120v-720h720v720H120Zm60-500h600v-160H180v160Zm220 220h160v-160H400v160Zm0 220h160v-160H400v160ZM180-400h160v-160H180v160Zm440 0h160v-160H620v160ZM180-180h160v-160H180v160Zm440 0h160v-160H620v160Z\"/>\n",
              "  </svg>\n",
              "    </button>\n",
              "\n",
              "  <style>\n",
              "    .colab-df-container {\n",
              "      display:flex;\n",
              "      gap: 12px;\n",
              "    }\n",
              "\n",
              "    .colab-df-convert {\n",
              "      background-color: #E8F0FE;\n",
              "      border: none;\n",
              "      border-radius: 50%;\n",
              "      cursor: pointer;\n",
              "      display: none;\n",
              "      fill: #1967D2;\n",
              "      height: 32px;\n",
              "      padding: 0 0 0 0;\n",
              "      width: 32px;\n",
              "    }\n",
              "\n",
              "    .colab-df-convert:hover {\n",
              "      background-color: #E2EBFA;\n",
              "      box-shadow: 0px 1px 2px rgba(60, 64, 67, 0.3), 0px 1px 3px 1px rgba(60, 64, 67, 0.15);\n",
              "      fill: #174EA6;\n",
              "    }\n",
              "\n",
              "    .colab-df-buttons div {\n",
              "      margin-bottom: 4px;\n",
              "    }\n",
              "\n",
              "    [theme=dark] .colab-df-convert {\n",
              "      background-color: #3B4455;\n",
              "      fill: #D2E3FC;\n",
              "    }\n",
              "\n",
              "    [theme=dark] .colab-df-convert:hover {\n",
              "      background-color: #434B5C;\n",
              "      box-shadow: 0px 1px 3px 1px rgba(0, 0, 0, 0.15);\n",
              "      filter: drop-shadow(0px 1px 2px rgba(0, 0, 0, 0.3));\n",
              "      fill: #FFFFFF;\n",
              "    }\n",
              "  </style>\n",
              "\n",
              "    <script>\n",
              "      const buttonEl =\n",
              "        document.querySelector('#df-3d5ea76a-0d13-479a-a22e-5c918d7a922d button.colab-df-convert');\n",
              "      buttonEl.style.display =\n",
              "        google.colab.kernel.accessAllowed ? 'block' : 'none';\n",
              "\n",
              "      async function convertToInteractive(key) {\n",
              "        const element = document.querySelector('#df-3d5ea76a-0d13-479a-a22e-5c918d7a922d');\n",
              "        const dataTable =\n",
              "          await google.colab.kernel.invokeFunction('convertToInteractive',\n",
              "                                                    [key], {});\n",
              "        if (!dataTable) return;\n",
              "\n",
              "        const docLinkHtml = 'Like what you see? Visit the ' +\n",
              "          '<a target=\"_blank\" href=https://colab.research.google.com/notebooks/data_table.ipynb>data table notebook</a>'\n",
              "          + ' to learn more about interactive tables.';\n",
              "        element.innerHTML = '';\n",
              "        dataTable['output_type'] = 'display_data';\n",
              "        await google.colab.output.renderOutput(dataTable, element);\n",
              "        const docLink = document.createElement('div');\n",
              "        docLink.innerHTML = docLinkHtml;\n",
              "        element.appendChild(docLink);\n",
              "      }\n",
              "    </script>\n",
              "  </div>\n",
              "\n",
              "\n",
              "<div id=\"df-5c221456-f06f-4022-85c2-86011c7f452e\">\n",
              "  <button class=\"colab-df-quickchart\" onclick=\"quickchart('df-5c221456-f06f-4022-85c2-86011c7f452e')\"\n",
              "            title=\"Suggest charts.\"\n",
              "            style=\"display:none;\">\n",
              "\n",
              "<svg xmlns=\"http://www.w3.org/2000/svg\" height=\"24px\"viewBox=\"0 0 24 24\"\n",
              "     width=\"24px\">\n",
              "    <g>\n",
              "        <path d=\"M19 3H5c-1.1 0-2 .9-2 2v14c0 1.1.9 2 2 2h14c1.1 0 2-.9 2-2V5c0-1.1-.9-2-2-2zM9 17H7v-7h2v7zm4 0h-2V7h2v10zm4 0h-2v-4h2v4z\"/>\n",
              "    </g>\n",
              "</svg>\n",
              "  </button>\n",
              "\n",
              "<style>\n",
              "  .colab-df-quickchart {\n",
              "    background-color: #E8F0FE;\n",
              "    border: none;\n",
              "    border-radius: 50%;\n",
              "    cursor: pointer;\n",
              "    display: none;\n",
              "    fill: #1967D2;\n",
              "    height: 32px;\n",
              "    padding: 0 0 0 0;\n",
              "    width: 32px;\n",
              "  }\n",
              "\n",
              "  .colab-df-quickchart:hover {\n",
              "    background-color: #E2EBFA;\n",
              "    box-shadow: 0px 1px 2px rgba(60, 64, 67, 0.3), 0px 1px 3px 1px rgba(60, 64, 67, 0.15);\n",
              "    fill: #174EA6;\n",
              "  }\n",
              "\n",
              "  [theme=dark] .colab-df-quickchart {\n",
              "    background-color: #3B4455;\n",
              "    fill: #D2E3FC;\n",
              "  }\n",
              "\n",
              "  [theme=dark] .colab-df-quickchart:hover {\n",
              "    background-color: #434B5C;\n",
              "    box-shadow: 0px 1px 3px 1px rgba(0, 0, 0, 0.15);\n",
              "    filter: drop-shadow(0px 1px 2px rgba(0, 0, 0, 0.3));\n",
              "    fill: #FFFFFF;\n",
              "  }\n",
              "</style>\n",
              "\n",
              "  <script>\n",
              "    async function quickchart(key) {\n",
              "      const charts = await google.colab.kernel.invokeFunction(\n",
              "          'suggestCharts', [key], {});\n",
              "    }\n",
              "    (() => {\n",
              "      let quickchartButtonEl =\n",
              "        document.querySelector('#df-5c221456-f06f-4022-85c2-86011c7f452e button');\n",
              "      quickchartButtonEl.style.display =\n",
              "        google.colab.kernel.accessAllowed ? 'block' : 'none';\n",
              "    })();\n",
              "  </script>\n",
              "</div>\n",
              "    </div>\n",
              "  </div>\n"
            ]
          },
          "metadata": {},
          "execution_count": 23
        }
      ]
    },
    {
      "cell_type": "code",
      "source": [
        "metrics_df['f1'].mean()"
      ],
      "metadata": {
        "colab": {
          "base_uri": "https://localhost:8080/"
        },
        "id": "O67NGSaajNbr",
        "outputId": "54f177d8-2ceb-409c-d735-53edabe07161"
      },
      "execution_count": 24,
      "outputs": [
        {
          "output_type": "execute_result",
          "data": {
            "text/plain": [
              "0.7866849965752404"
            ]
          },
          "metadata": {},
          "execution_count": 24
        }
      ]
    },
    {
      "cell_type": "code",
      "source": [
        "metrics_df['em'].mean()"
      ],
      "metadata": {
        "colab": {
          "base_uri": "https://localhost:8080/"
        },
        "id": "r6fWqRwPjdEK",
        "outputId": "4666ece0-5413-4b15-964c-55e0dd48e0ad"
      },
      "execution_count": 25,
      "outputs": [
        {
          "output_type": "execute_result",
          "data": {
            "text/plain": [
              "0.72"
            ]
          },
          "metadata": {},
          "execution_count": 25
        }
      ]
    },
    {
      "cell_type": "markdown",
      "source": [
        "## Improving measurement functions through model thresholding"
      ],
      "metadata": {
        "id": "w0aK2KezjfbA"
      }
    },
    {
      "cell_type": "markdown",
      "source": [
        "When we tokenize a question and context, and we pass it to the model, the output consists of two probabilities (logits). One is the start of the answer span, the other for the end of the answer span. <br><br>\n",
        "\n",
        "Every tokent that is passed to the model is assigned a logit, and tokens corresponding to the question itself. <br><br>\n",
        "\n",
        "Let's have a look at what this means, using a previous question (\"What happened 3.7 - 2 billion years ago?\"):"
      ],
      "metadata": {
        "id": "sFyfYSl_jnM0"
      }
    },
    {
      "cell_type": "code",
      "source": [
        "inputs = tokenizer.encode_plus(example.question_text, example.context_text, return_tensors = 'pt')\n",
        "output = model(**inputs)"
      ],
      "metadata": {
        "id": "C1kCEIubj2CO"
      },
      "execution_count": 26,
      "outputs": []
    },
    {
      "cell_type": "markdown",
      "source": [
        "Looking below, we can observe how large is the first position of the array, this is the [CLS] token position. This has a strong probability that this question has no answer, but we answered it anyway."
      ],
      "metadata": {
        "id": "tgoRG09wkS56"
      }
    },
    {
      "cell_type": "code",
      "source": [
        "start_logits = output.start_logits\n",
        "end_logits = output.end_logits"
      ],
      "metadata": {
        "id": "ErCBy8aHbXGk"
      },
      "execution_count": 27,
      "outputs": []
    },
    {
      "cell_type": "code",
      "source": [
        "start_logits"
      ],
      "metadata": {
        "colab": {
          "base_uri": "https://localhost:8080/"
        },
        "id": "zuL9EdX2bb29",
        "outputId": "f26daabd-fb41-4590-8a80-3e96fc014a91"
      },
      "execution_count": 28,
      "outputs": [
        {
          "output_type": "execute_result",
          "data": {
            "text/plain": [
              "tensor([[  5.1171,  -8.3404,  -9.2660,  -8.0987,  -9.1736,  -9.5905,  -9.6239,\n",
              "          -9.4974,  -9.7725,  -9.9778, -10.1417,  -9.6171,  -8.7191,  -3.9945,\n",
              "          -5.9036,  -6.7555,  -8.8160,  -7.9155,  -8.7225,  -9.7324,  -9.5704,\n",
              "         -10.2445,  -9.0550,  -7.5630,  -9.8712, -10.0757,  -7.6297,  -7.4481,\n",
              "          -6.5011,  -9.7018, -10.0513,  -9.4285,  -8.6840, -10.2489,  -9.9774,\n",
              "          -8.0076,  -7.7707,  -8.0321,  -6.8884,  -6.6425,  -6.5631,  -9.4518,\n",
              "          -8.6434,  -9.5573,  -9.8626,  -9.7323,  -7.0476,  -4.5778,  -6.4825,\n",
              "          -6.7371,  -6.9433,  -9.1568,  -6.9630,  -8.9800,  -6.9723,  -7.3322,\n",
              "          -5.2532,  -9.6134,  -9.4807, -10.0298,  -9.8842,  -8.8732,  -7.9342,\n",
              "          -8.2085,  -8.0398,  -7.8698,  -7.2027,  -9.6577,  -9.1055,  -9.7395,\n",
              "          -7.7438,  -9.5543,  -9.0663,  -9.2180,  -9.8046,  -9.6983,  -8.9082,\n",
              "          -6.9894,  -6.7306,  -7.6100,  -6.7132,  -8.6220,  -9.4562,  -8.3209,\n",
              "          -5.3854,  -6.1157,  -6.8288,  -8.7172,  -9.4399,  -8.5389,  -6.3029,\n",
              "          -6.8487,  -9.8548,  -7.2582,  -8.6202,  -9.2930,  -9.4980,  -6.5140,\n",
              "          -8.4708,  -6.9057,  -5.5324,  -7.3197,  -6.6870,  -7.6689,   0.6028,\n",
              "          -6.1649,  -1.1287,  -5.9593,  -5.8637,  -6.0899,  -5.6955,   1.3977,\n",
              "          -1.8839,  -1.7322,  -6.0377,  -2.1163,  -7.4047,  -6.2707,  -7.8654,\n",
              "          -4.9938,  -5.3458,  -9.1419,  -7.1310,  -8.7467,  -8.0603,  -8.0363,\n",
              "          -8.7677,  -8.3480,  -7.1321,  -1.9241,  -3.9768,  -8.1719,  -8.9737,\n",
              "          -7.6712,  -7.8334,  -7.1851,  -4.8624,  -3.9354,  -9.3268,  -9.7560,\n",
              "          -9.3310,  -9.5895,  -8.1781,  -7.8229,  -8.7144]],\n",
              "       grad_fn=<CloneBackward0>)"
            ]
          },
          "metadata": {},
          "execution_count": 28
        }
      ]
    },
    {
      "cell_type": "markdown",
      "source": [
        "Our model gets predictions by selecting the start and end tokens with the largest logits. It would be more sensible to choose any sensible start + end combinations as possible to answer the question."
      ],
      "metadata": {
        "id": "f_vAn4Febc7C"
      }
    },
    {
      "cell_type": "markdown",
      "source": [
        "These combinations can be scored independently and the one with the highest score would be considered the best answer."
      ],
      "metadata": {
        "id": "LKDrFDkWbrqh"
      }
    },
    {
      "cell_type": "markdown",
      "source": [
        "A possible (candidate) answer is scored as the sum of its start and end logits"
      ],
      "metadata": {
        "id": "wP9qmkH9bzbF"
      }
    },
    {
      "cell_type": "markdown",
      "source": [
        "## Calculating possible combinations"
      ],
      "metadata": {
        "id": "YN_ZpBrBb30i"
      }
    },
    {
      "cell_type": "markdown",
      "source": [
        "We start by taking the n largest start and end logits. Any sensible combination can be considered an answer, however, some consistency checks must first be performed."
      ],
      "metadata": {
        "id": "9BnWrO4Fb8ke"
      }
    },
    {
      "cell_type": "markdown",
      "source": [
        "For instance:\n",
        "    \n",
        "    - End token must fall after the start token\n",
        "    - Candidate answers wherein the start or end tokens are associated with question tokens\n",
        "\n",
        "[CLS] is not removed from the answers as it can indicate null answer"
      ],
      "metadata": {
        "id": "Zp5Xk5t8cHOQ"
      }
    },
    {
      "cell_type": "code",
      "source": [
        "# convert our start and end logit tensors to lists\n",
        "start_logits = to_list(start_logits)[0]\n",
        "end_logits = to_list(end_logits)[0]"
      ],
      "metadata": {
        "id": "nvXWppCfcJQ7"
      },
      "execution_count": 29,
      "outputs": []
    },
    {
      "cell_type": "code",
      "source": [
        "# sort our start and end logits from the largest to the smallest, keeping track of the index\n",
        "start_idx_and_logit = sorted(enumerate(start_logits), key = lambda x: x[1], reverse = True)\n",
        "end_idx_and_logit = sorted(enumerate(end_logits), key = lambda x: x[1], reverse = True)"
      ],
      "metadata": {
        "id": "GEoHj9OqcYCm"
      },
      "execution_count": 30,
      "outputs": []
    },
    {
      "cell_type": "code",
      "source": [
        "# select the top n (in this case, 5)\n",
        "print(start_idx_and_logit[: 5])\n",
        "print(end_idx_and_logit[: 5])"
      ],
      "metadata": {
        "colab": {
          "base_uri": "https://localhost:8080/"
        },
        "id": "t5dcO9L2cvu7",
        "outputId": "401b4471-2039-4621-a52f-d855107a3a1b"
      },
      "execution_count": 31,
      "outputs": [
        {
          "output_type": "stream",
          "name": "stdout",
          "text": [
            "[(0, 5.117067337036133), (111, 1.3977444171905518), (104, 0.6027640700340271), (106, -1.1286717653274536), (113, -1.7321603298187256)]\n",
            "[(0, 6.168288707733154), (119, 3.2872860431671143), (109, 0.9794887900352478), (135, 0.30854496359825134), (116, -0.20684294402599335)]\n"
          ]
        }
      ]
    },
    {
      "cell_type": "markdown",
      "source": [
        "The null answer token (index 0) is in the top five of both the start and end logit lists."
      ],
      "metadata": {
        "id": "gBiIqxvHc4dA"
      }
    },
    {
      "cell_type": "markdown",
      "source": [
        "In order to eventually predict a text answer (or an empty string), we need to keep track of the indexes which will be use to pull the corresponding token ids later on. We'll also need to identify which indexes correspond to the question tokens, so we can ensure we don't alow a non-sensical prediction."
      ],
      "metadata": {
        "id": "6MAGkMrZdCAS"
      }
    },
    {
      "cell_type": "code",
      "source": [
        "start_indexes = [idx for idx, logit in start_idx_and_logit[: 5]]\n",
        "end_indexes = [idx for idx, logit in end_idx_and_logit[: 5]]"
      ],
      "metadata": {
        "id": "ShUA8EPMdWVZ"
      },
      "execution_count": 32,
      "outputs": []
    },
    {
      "cell_type": "code",
      "source": [
        "# convert the token ids from a tensor to a list\n",
        "tokens = to_list(inputs['input_ids'])[0]"
      ],
      "metadata": {
        "id": "eNerZ6D3dgqt"
      },
      "execution_count": 33,
      "outputs": []
    },
    {
      "cell_type": "code",
      "source": [
        "# question tokens are defined as those between the CLS token (101, at position 0) and first SEP (102) token\n",
        "question_indexes = [i + 1 for i, token in enumerate(tokens[1: tokens.index(102)])]\n",
        "question_indexes"
      ],
      "metadata": {
        "colab": {
          "base_uri": "https://localhost:8080/"
        },
        "id": "mNn4gjL9dohV",
        "outputId": "8de594fc-7008-4ce7-a597-4cb357d93880"
      },
      "execution_count": 34,
      "outputs": [
        {
          "output_type": "execute_result",
          "data": {
            "text/plain": [
              "[1, 2, 3, 4, 5, 6, 7, 8, 9, 10, 11]"
            ]
          },
          "metadata": {},
          "execution_count": 34
        }
      ]
    },
    {
      "cell_type": "code",
      "source": [
        "# keep track of all preliminary predictions\n",
        "PrelimPrediction = collections.namedtuple(\n",
        "    \"PrelimPrediction\", [\"start_index\", \"end_index\", \"start_logit\", \"end_logit\"]\n",
        ")"
      ],
      "metadata": {
        "id": "K-6wF7xOd8Sx"
      },
      "execution_count": 35,
      "outputs": []
    },
    {
      "cell_type": "markdown",
      "source": [
        "We will generate a list of candidate predictions by looping through all combinations of the start and end token indexes, excluding non-sensical combinations."
      ],
      "metadata": {
        "id": "bZV--c0GeNNw"
      }
    },
    {
      "cell_type": "code",
      "source": [
        "prelim_preds = []\n",
        "\n",
        "for start_index in start_indexes:\n",
        "  for end_index in end_indexes:\n",
        "    # throw out invalid predictions\n",
        "    if start_index in question_indexes:\n",
        "      continue\n",
        "    if end_index in question_indexes:\n",
        "      continue\n",
        "    if end_index < start_index:\n",
        "      continue\n",
        "\n",
        "    prelim_preds.append(\n",
        "        PrelimPrediction(\n",
        "            start_index = start_index,\n",
        "            end_index = end_index,\n",
        "            start_logit = start_logits[start_index],\n",
        "            end_logit = end_logits[end_index]\n",
        "        )\n",
        "    )"
      ],
      "metadata": {
        "id": "futcP0OueZHS"
      },
      "execution_count": 36,
      "outputs": []
    },
    {
      "cell_type": "markdown",
      "source": [
        "With a list of sensible candidate predictions, it's time to score them now."
      ],
      "metadata": {
        "id": "JULI2Ulfe7wV"
      }
    },
    {
      "cell_type": "markdown",
      "source": [
        "For a candidate answer, score = start_logit + end_logit. Below, we sort our candidate predictions by their score."
      ],
      "metadata": {
        "id": "_UdUavhve__y"
      }
    },
    {
      "cell_type": "code",
      "source": [
        "# sort preliminary predictions by their score\n",
        "prelim_preds = sorted(prelim_preds, key = lambda x: (x.start_logit + x.end_logit), reverse = True)\n",
        "print(prelim_preds[: 5])"
      ],
      "metadata": {
        "colab": {
          "base_uri": "https://localhost:8080/"
        },
        "id": "7A4WqtZpfJyl",
        "outputId": "fd70d3e9-5069-4c3e-a5f5-3236aea9f568"
      },
      "execution_count": 37,
      "outputs": [
        {
          "output_type": "stream",
          "name": "stdout",
          "text": [
            "[PrelimPrediction(start_index=0, end_index=0, start_logit=5.117067337036133, end_logit=6.168288707733154), PrelimPrediction(start_index=0, end_index=119, start_logit=5.117067337036133, end_logit=3.2872860431671143), PrelimPrediction(start_index=0, end_index=109, start_logit=5.117067337036133, end_logit=0.9794887900352478), PrelimPrediction(start_index=0, end_index=135, start_logit=5.117067337036133, end_logit=0.30854496359825134), PrelimPrediction(start_index=0, end_index=116, start_logit=5.117067337036133, end_logit=-0.20684294402599335)]\n"
          ]
        }
      ]
    },
    {
      "cell_type": "markdown",
      "source": [
        "We need to convert our preliminary predictions into actual text (or the empty string, if null). We will keep track of text predictions we've seen, because different token combinations can result in the same text prediction and we only want to keep the one with the highest score (we're looping in descending score order). Finally, we'll trim this list down to the best 5 predictions."
      ],
      "metadata": {
        "id": "qSKbrwUOfYre"
      }
    },
    {
      "cell_type": "code",
      "source": [
        "# keep track of all the best predictions\n",
        "BestPrediction = collections.namedtuple( # pylint: disable = invalid-name\n",
        "                                       \"BestPrediction\", [\"text\", \"start_logit\", \"end_logit\"]\n",
        "                                        )"
      ],
      "metadata": {
        "id": "zj_Tzn4Pf4e1"
      },
      "execution_count": 38,
      "outputs": []
    },
    {
      "cell_type": "code",
      "source": [
        "nbest = []\n",
        "seen_predictions = []\n",
        "\n",
        "for pred in prelim_preds:\n",
        "  # for now we only care about the top 5 best predictions\n",
        "  if len(nbest) >= 5:\n",
        "    break\n",
        "\n",
        "  # loop through the predictions according to their start index\n",
        "  if pred.start_index > 0: # non-null answers have start_index > 0\n",
        "    text = tokenizer.convert_tokens_to_string(\n",
        "        tokenizer.convert_ids_to_tokens(\n",
        "            tokens[pred.start_index: pred.end_index + 1]\n",
        "        )\n",
        "    )\n",
        "\n",
        "    # clean the whitespace\n",
        "    text = text.strip()\n",
        "    text = \" \".join(text.split())\n",
        "\n",
        "    if text in seen_predictions:\n",
        "      continue\n",
        "\n",
        "    # flag this text as being seen - if we see it again, don't add it to the nbest list\n",
        "    seen_predictions.append(text)\n",
        "\n",
        "    # add this text prediction to a pruned list of the top 5 best predictions\n",
        "    nbest.append(BestPrediction(text = text, start_logit = pred.start_logit, end_logit = pred.end_logit))"
      ],
      "metadata": {
        "id": "hRonNle0gL-a"
      },
      "execution_count": 39,
      "outputs": []
    },
    {
      "cell_type": "code",
      "source": [
        "nbest"
      ],
      "metadata": {
        "colab": {
          "base_uri": "https://localhost:8080/"
        },
        "id": "UurAXerXhb_T",
        "outputId": "fb3aef09-cbc3-456c-d03b-af6e557ca631"
      },
      "execution_count": 40,
      "outputs": [
        {
          "output_type": "execute_result",
          "data": {
            "text/plain": [
              "[BestPrediction(text='free oxygen began to outgas from the oceans', start_logit=1.3977444171905518, end_logit=3.2872860431671143),\n",
              " BestPrediction(text='when such oxygen sinks became saturated , free oxygen began to outgas from the oceans', start_logit=0.6027640700340271, end_logit=3.2872860431671143),\n",
              " BestPrediction(text='oxygen sinks became saturated , free oxygen began to outgas from the oceans', start_logit=-1.1286717653274536, end_logit=3.2872860431671143),\n",
              " BestPrediction(text='free oxygen began to outgas from the oceans 3 – 2 . 7 billion years ago , reaching 10 % of its present level', start_logit=1.3977444171905518, end_logit=0.30854496359825134),\n",
              " BestPrediction(text='when such oxygen sinks became saturated', start_logit=0.6027640700340271, end_logit=0.9794887900352478)]"
            ]
          },
          "metadata": {},
          "execution_count": 40
        }
      ]
    },
    {
      "cell_type": "markdown",
      "source": [
        "At this point, we have a neat list of the top 5 best predictions for this question, let's now also add the null answer."
      ],
      "metadata": {
        "id": "q8HfeMrthiEj"
      }
    },
    {
      "cell_type": "code",
      "source": [
        "# and don't forget -- include the null answer!\n",
        "nbest.append(BestPrediction(text = \"\", start_logit = start_logits[0], end_logit = end_logits[0]))\n",
        "nbest"
      ],
      "metadata": {
        "colab": {
          "base_uri": "https://localhost:8080/"
        },
        "id": "R1koiFyE0ncV",
        "outputId": "995247a7-8544-44d4-f0d7-f8ee6b0f2ca0"
      },
      "execution_count": 41,
      "outputs": [
        {
          "output_type": "execute_result",
          "data": {
            "text/plain": [
              "[BestPrediction(text='free oxygen began to outgas from the oceans', start_logit=1.3977444171905518, end_logit=3.2872860431671143),\n",
              " BestPrediction(text='when such oxygen sinks became saturated , free oxygen began to outgas from the oceans', start_logit=0.6027640700340271, end_logit=3.2872860431671143),\n",
              " BestPrediction(text='oxygen sinks became saturated , free oxygen began to outgas from the oceans', start_logit=-1.1286717653274536, end_logit=3.2872860431671143),\n",
              " BestPrediction(text='free oxygen began to outgas from the oceans 3 – 2 . 7 billion years ago , reaching 10 % of its present level', start_logit=1.3977444171905518, end_logit=0.30854496359825134),\n",
              " BestPrediction(text='when such oxygen sinks became saturated', start_logit=0.6027640700340271, end_logit=0.9794887900352478),\n",
              " BestPrediction(text='', start_logit=5.117067337036133, end_logit=6.168288707733154)]"
            ]
          },
          "metadata": {},
          "execution_count": 41
        }
      ]
    },
    {
      "cell_type": "markdown",
      "source": [
        "The null answer is scored as the sum of the start_logit and end_logit associated with the [CLS] token."
      ],
      "metadata": {
        "id": "pWb7ltQz02aZ"
      }
    },
    {
      "cell_type": "markdown",
      "source": [
        "The last step is to compute the null score - more specifically, the difference between the null score and the best non-null score as shown below."
      ],
      "metadata": {
        "id": "9-afipUW0_g6"
      }
    },
    {
      "cell_type": "code",
      "source": [
        "# compute the null score as the sum of the [CLS] token logits\n",
        "score_null = start_logits[0] + end_logits[0]\n",
        "score_null"
      ],
      "metadata": {
        "colab": {
          "base_uri": "https://localhost:8080/"
        },
        "id": "JZ2HACT01Hu4",
        "outputId": "16aa8dcd-2215-4eff-ef71-ec603fac9c0c"
      },
      "execution_count": 42,
      "outputs": [
        {
          "output_type": "execute_result",
          "data": {
            "text/plain": [
              "11.285356044769287"
            ]
          },
          "metadata": {},
          "execution_count": 42
        }
      ]
    },
    {
      "cell_type": "code",
      "source": [
        "nbest[0].start_logit + nbest[0].end_logit"
      ],
      "metadata": {
        "colab": {
          "base_uri": "https://localhost:8080/"
        },
        "id": "ZrnRhWgD1RLa",
        "outputId": "5655d10e-dbb9-45ba-8af4-6bedde068591"
      },
      "execution_count": 43,
      "outputs": [
        {
          "output_type": "execute_result",
          "data": {
            "text/plain": [
              "4.685030460357666"
            ]
          },
          "metadata": {},
          "execution_count": 43
        }
      ]
    },
    {
      "cell_type": "code",
      "source": [
        "# compute the difference between the null score and tehbest non-null score\n",
        "score_diff = score_null - nbest[0].start_logit - nbest[0].end_logit\n",
        "score_diff"
      ],
      "metadata": {
        "colab": {
          "base_uri": "https://localhost:8080/"
        },
        "id": "yiJXl2RG1YJm",
        "outputId": "f9467b36-bec5-4e7a-f211-adaea04acb03"
      },
      "execution_count": 44,
      "outputs": [
        {
          "output_type": "execute_result",
          "data": {
            "text/plain": [
              "6.600325584411621"
            ]
          },
          "metadata": {},
          "execution_count": 44
        }
      ]
    },
    {
      "cell_type": "markdown",
      "source": [
        "# SQuAD Evaluation"
      ],
      "metadata": {
        "id": "eGKYB9ym1k3E"
      }
    },
    {
      "cell_type": "code",
      "source": [
        "def evaluate(model_name_or_path,\n",
        "             dataset,\n",
        "             output_dir,\n",
        "             per_gpu_eval_batch_size = 12,\n",
        "             n_gpu = 1,\n",
        "             model_type = BERT_MODEL_TYPE,\n",
        "             do_lower_case = DO_LOWER_CASE,\n",
        "             nbest_size = NBEST_SIZE,\n",
        "             max_answer_length = MAX_ANSWER_LENGTH,\n",
        "             null_score_diff_threshold = 0.0):\n",
        "\n",
        "    device = torch.device(\"cuda\" if torch.cuda.is_available() else \"cpu\")\n",
        "\n",
        "    tokenizer = AutoTokenizer.from_pretrained(model_name_or_path, use_fast = False)\n",
        "    model = AutoModelForQuestionAnswering.from_pretrained(model_name_or_path)\n",
        "\n",
        "    model.to(device)\n",
        "\n",
        "    eval_batch_size = per_gpu_eval_batch_size * max(1, n_gpu)\n",
        "\n",
        "    # Note that DistributedSampler samples randomly\n",
        "    eval_sampler = SequentialSampler(dataset)\n",
        "    eval_dataloader = DataLoader(dataset, sampler = eval_sampler, batch_size = eval_batch_size)\n",
        "\n",
        "    # multi-gpu evaluate\n",
        "    if n_gpu > 1 and not isinstance(model, torch.nn.DataParallel):\n",
        "        model = torch.nn.DataParallel(model)\n",
        "\n",
        "    all_results = []\n",
        "    start_time = timeit.default_timer()\n",
        "\n",
        "    for batch in tqdm(eval_dataloader, desc = \"Evaluating\"):\n",
        "        model.eval()\n",
        "        batch = tuple(t.to(device) for t in batch)\n",
        "\n",
        "        with torch.no_grad():\n",
        "            inputs = {\n",
        "                \"input_ids\": batch[0],\n",
        "                \"attention_mask\": batch[1],\n",
        "                \"token_type_ids\": batch[2],\n",
        "            }\n",
        "\n",
        "            if model_type in [\"xlm\", \"roberta\", \"distilbert\", \"camembert\", \"bart\", \"longformer\"]:\n",
        "                del inputs[\"token_type_ids\"]\n",
        "\n",
        "            feature_indices = batch[3]\n",
        "\n",
        "            outputs = model(**inputs)\n",
        "\n",
        "        for i, feature_index in enumerate(feature_indices):\n",
        "            eval_feature = features[feature_index.item()]\n",
        "            unique_id = int(eval_feature.unique_id)\n",
        "\n",
        "            output = [to_list(output[i]) for output in outputs.to_tuple()]\n",
        "\n",
        "            start_logits, end_logits = output\n",
        "            result = SquadResult(unique_id, start_logits, end_logits)\n",
        "\n",
        "            all_results.append(result)\n",
        "\n",
        "    evalTime = timeit.default_timer() - start_time\n",
        "    print(f\"Evaluation done in total {evalTime} seconds ({evalTime / len(dataset)} seconds per example)\")\n",
        "\n",
        "    # compute predictions\n",
        "    os.makedirs(output_dir, exist_ok = True)\n",
        "\n",
        "    output_prediction_file = os.path.join(output_dir, \"predictions.json\")\n",
        "    output_nbest_file = os.path.join(ouptut_dir, \"nbest_predictions.json\")\n",
        "\n",
        "    output_null_log_odds_file = os.path.join(ouptut_dir, \"null_odds.json\")\n",
        "\n",
        "    predictions = compute_predictions_logits(\n",
        "        examples,\n",
        "        features,\n",
        "        all_results,\n",
        "        nbest_size,\n",
        "        max_answer_length,\n",
        "        do_lower_case,\n",
        "        output_prediction_file,\n",
        "        output_nbest_file,\n",
        "        output_null_log_odds_file,\n",
        "        False,\n",
        "        True,\n",
        "        null_score_diff_threshold,\n",
        "        tokenizer,\n",
        "    )\n",
        "\n",
        "    # compute the F1 and EM scores\n",
        "    results = squad_evaluate(examples, predictions)\n",
        "\n",
        "    results.update({\"eval_time\": evalTime, \"prediction_time\": evalTime / len(dataset)})\n",
        "\n",
        "    return results"
      ],
      "metadata": {
        "id": "SY0Xwyfi1hFU"
      },
      "execution_count": 45,
      "outputs": []
    },
    {
      "cell_type": "code",
      "source": [
        "result = evaluate(BERT_MODEL_HF_PATH, dataset, BERT_OUTPUT_DIR)\n",
        "result"
      ],
      "metadata": {
        "colab": {
          "base_uri": "https://localhost:8080/",
          "height": 439
        },
        "id": "Fc-6c1B96QTE",
        "outputId": "edefb005-06fb-4698-c348-d4c26f27a7ed"
      },
      "execution_count": 46,
      "outputs": [
        {
          "output_type": "stream",
          "name": "stderr",
          "text": [
            "Some weights of the model checkpoint at twmkn9/bert-base-uncased-squad2 were not used when initializing BertForQuestionAnswering: ['bert.pooler.dense.weight', 'bert.pooler.dense.bias']\n",
            "- This IS expected if you are initializing BertForQuestionAnswering from the checkpoint of a model trained on another task or with another architecture (e.g. initializing a BertForSequenceClassification model from a BertForPreTraining model).\n",
            "- This IS NOT expected if you are initializing BertForQuestionAnswering from the checkpoint of a model that you expect to be exactly identical (initializing a BertForSequenceClassification model from a BertForSequenceClassification model).\n",
            "Evaluating: 100%|██████████| 1020/1020 [3:19:51<00:00, 11.76s/it]\n"
          ]
        },
        {
          "output_type": "stream",
          "name": "stdout",
          "text": [
            "Evaluation done in total 11991.023680532 seconds (0.9802995160670372 seconds per example)\n"
          ]
        },
        {
          "output_type": "error",
          "ename": "NameError",
          "evalue": "ignored",
          "traceback": [
            "\u001b[0;31m---------------------------------------------------------------------------\u001b[0m",
            "\u001b[0;31mNameError\u001b[0m                                 Traceback (most recent call last)",
            "\u001b[0;32m<ipython-input-46-9ee85553452f>\u001b[0m in \u001b[0;36m<cell line: 1>\u001b[0;34m()\u001b[0m\n\u001b[0;32m----> 1\u001b[0;31m \u001b[0mresult\u001b[0m \u001b[0;34m=\u001b[0m \u001b[0mevaluate\u001b[0m\u001b[0;34m(\u001b[0m\u001b[0mBERT_MODEL_HF_PATH\u001b[0m\u001b[0;34m,\u001b[0m \u001b[0mdataset\u001b[0m\u001b[0;34m,\u001b[0m \u001b[0mBERT_OUTPUT_DIR\u001b[0m\u001b[0;34m)\u001b[0m\u001b[0;34m\u001b[0m\u001b[0;34m\u001b[0m\u001b[0m\n\u001b[0m\u001b[1;32m      2\u001b[0m \u001b[0mresult\u001b[0m\u001b[0;34m\u001b[0m\u001b[0;34m\u001b[0m\u001b[0m\n",
            "\u001b[0;32m<ipython-input-45-495d22c0b41f>\u001b[0m in \u001b[0;36mevaluate\u001b[0;34m(model_name_or_path, dataset, output_dir, per_gpu_eval_batch_size, n_gpu, model_type, do_lower_case, nbest_size, max_answer_length, null_score_diff_threshold)\u001b[0m\n\u001b[1;32m     66\u001b[0m \u001b[0;34m\u001b[0m\u001b[0m\n\u001b[1;32m     67\u001b[0m     \u001b[0moutput_prediction_file\u001b[0m \u001b[0;34m=\u001b[0m \u001b[0mos\u001b[0m\u001b[0;34m.\u001b[0m\u001b[0mpath\u001b[0m\u001b[0;34m.\u001b[0m\u001b[0mjoin\u001b[0m\u001b[0;34m(\u001b[0m\u001b[0moutput_dir\u001b[0m\u001b[0;34m,\u001b[0m \u001b[0;34m\"predictions.json\"\u001b[0m\u001b[0;34m)\u001b[0m\u001b[0;34m\u001b[0m\u001b[0;34m\u001b[0m\u001b[0m\n\u001b[0;32m---> 68\u001b[0;31m     \u001b[0moutput_nbest_file\u001b[0m \u001b[0;34m=\u001b[0m \u001b[0mos\u001b[0m\u001b[0;34m.\u001b[0m\u001b[0mpath\u001b[0m\u001b[0;34m.\u001b[0m\u001b[0mjoin\u001b[0m\u001b[0;34m(\u001b[0m\u001b[0mouptut_dir\u001b[0m\u001b[0;34m,\u001b[0m \u001b[0;34m\"nbest_predictions.json\"\u001b[0m\u001b[0;34m)\u001b[0m\u001b[0;34m\u001b[0m\u001b[0;34m\u001b[0m\u001b[0m\n\u001b[0m\u001b[1;32m     69\u001b[0m \u001b[0;34m\u001b[0m\u001b[0m\n\u001b[1;32m     70\u001b[0m     \u001b[0moutput_null_log_odds_file\u001b[0m \u001b[0;34m=\u001b[0m \u001b[0mos\u001b[0m\u001b[0;34m.\u001b[0m\u001b[0mpath\u001b[0m\u001b[0;34m.\u001b[0m\u001b[0mjoin\u001b[0m\u001b[0;34m(\u001b[0m\u001b[0mouptut_dir\u001b[0m\u001b[0;34m,\u001b[0m \u001b[0;34m\"null_odds.json\"\u001b[0m\u001b[0;34m)\u001b[0m\u001b[0;34m\u001b[0m\u001b[0;34m\u001b[0m\u001b[0m\n",
            "\u001b[0;31mNameError\u001b[0m: name 'ouptut_dir' is not defined"
          ]
        }
      ]
    },
    {
      "cell_type": "code",
      "source": [],
      "metadata": {
        "id": "mr4qA7rK6a8W"
      },
      "execution_count": null,
      "outputs": []
    }
  ]
}