{
  "nbformat": 4,
  "nbformat_minor": 0,
  "metadata": {
    "colab": {
      "provenance": [],
      "gpuType": "T4",
      "authorship_tag": "ABX9TyNWaEKJ+EfCtH2fHBCGJreJ",
      "include_colab_link": true
    },
    "kernelspec": {
      "name": "python3",
      "display_name": "Python 3"
    },
    "language_info": {
      "name": "python"
    },
    "widgets": {
      "application/vnd.jupyter.widget-state+json": {
        "1938b8aeff654cd4abc23ceff825dc69": {
          "model_module": "@jupyter-widgets/controls",
          "model_name": "HBoxModel",
          "model_module_version": "1.5.0",
          "state": {
            "_dom_classes": [],
            "_model_module": "@jupyter-widgets/controls",
            "_model_module_version": "1.5.0",
            "_model_name": "HBoxModel",
            "_view_count": null,
            "_view_module": "@jupyter-widgets/controls",
            "_view_module_version": "1.5.0",
            "_view_name": "HBoxView",
            "box_style": "",
            "children": [
              "IPY_MODEL_f7242743694a40d1b1ea51102565337d",
              "IPY_MODEL_abdecd234cec4e44bf07220bfe4f2c43",
              "IPY_MODEL_0648adb4d4bf4910a7cc4cc128a69d78"
            ],
            "layout": "IPY_MODEL_320f5dd2e09e4ba0b8eb73a3fe081a06"
          }
        },
        "f7242743694a40d1b1ea51102565337d": {
          "model_module": "@jupyter-widgets/controls",
          "model_name": "HTMLModel",
          "model_module_version": "1.5.0",
          "state": {
            "_dom_classes": [],
            "_model_module": "@jupyter-widgets/controls",
            "_model_module_version": "1.5.0",
            "_model_name": "HTMLModel",
            "_view_count": null,
            "_view_module": "@jupyter-widgets/controls",
            "_view_module_version": "1.5.0",
            "_view_name": "HTMLView",
            "description": "",
            "description_tooltip": null,
            "layout": "IPY_MODEL_3ba12def95334e06a94911366515f0ff",
            "placeholder": "​",
            "style": "IPY_MODEL_2bedad23fec442cda2cfe94710f5d840",
            "value": "Downloading (…)okenizer_config.json: 100%"
          }
        },
        "abdecd234cec4e44bf07220bfe4f2c43": {
          "model_module": "@jupyter-widgets/controls",
          "model_name": "FloatProgressModel",
          "model_module_version": "1.5.0",
          "state": {
            "_dom_classes": [],
            "_model_module": "@jupyter-widgets/controls",
            "_model_module_version": "1.5.0",
            "_model_name": "FloatProgressModel",
            "_view_count": null,
            "_view_module": "@jupyter-widgets/controls",
            "_view_module_version": "1.5.0",
            "_view_name": "ProgressView",
            "bar_style": "success",
            "description": "",
            "description_tooltip": null,
            "layout": "IPY_MODEL_d80420f436664d318c1fa601f774467b",
            "max": 39,
            "min": 0,
            "orientation": "horizontal",
            "style": "IPY_MODEL_5d59befcf8b9447cb156644be5ee77d6",
            "value": 39
          }
        },
        "0648adb4d4bf4910a7cc4cc128a69d78": {
          "model_module": "@jupyter-widgets/controls",
          "model_name": "HTMLModel",
          "model_module_version": "1.5.0",
          "state": {
            "_dom_classes": [],
            "_model_module": "@jupyter-widgets/controls",
            "_model_module_version": "1.5.0",
            "_model_name": "HTMLModel",
            "_view_count": null,
            "_view_module": "@jupyter-widgets/controls",
            "_view_module_version": "1.5.0",
            "_view_name": "HTMLView",
            "description": "",
            "description_tooltip": null,
            "layout": "IPY_MODEL_1b376bbe3678448196b73966ecf0c652",
            "placeholder": "​",
            "style": "IPY_MODEL_b3bb6fd2f57b4b739bbe9b3dfe83e87d",
            "value": " 39.0/39.0 [00:00&lt;00:00, 2.04kB/s]"
          }
        },
        "320f5dd2e09e4ba0b8eb73a3fe081a06": {
          "model_module": "@jupyter-widgets/base",
          "model_name": "LayoutModel",
          "model_module_version": "1.2.0",
          "state": {
            "_model_module": "@jupyter-widgets/base",
            "_model_module_version": "1.2.0",
            "_model_name": "LayoutModel",
            "_view_count": null,
            "_view_module": "@jupyter-widgets/base",
            "_view_module_version": "1.2.0",
            "_view_name": "LayoutView",
            "align_content": null,
            "align_items": null,
            "align_self": null,
            "border": null,
            "bottom": null,
            "display": null,
            "flex": null,
            "flex_flow": null,
            "grid_area": null,
            "grid_auto_columns": null,
            "grid_auto_flow": null,
            "grid_auto_rows": null,
            "grid_column": null,
            "grid_gap": null,
            "grid_row": null,
            "grid_template_areas": null,
            "grid_template_columns": null,
            "grid_template_rows": null,
            "height": null,
            "justify_content": null,
            "justify_items": null,
            "left": null,
            "margin": null,
            "max_height": null,
            "max_width": null,
            "min_height": null,
            "min_width": null,
            "object_fit": null,
            "object_position": null,
            "order": null,
            "overflow": null,
            "overflow_x": null,
            "overflow_y": null,
            "padding": null,
            "right": null,
            "top": null,
            "visibility": null,
            "width": null
          }
        },
        "3ba12def95334e06a94911366515f0ff": {
          "model_module": "@jupyter-widgets/base",
          "model_name": "LayoutModel",
          "model_module_version": "1.2.0",
          "state": {
            "_model_module": "@jupyter-widgets/base",
            "_model_module_version": "1.2.0",
            "_model_name": "LayoutModel",
            "_view_count": null,
            "_view_module": "@jupyter-widgets/base",
            "_view_module_version": "1.2.0",
            "_view_name": "LayoutView",
            "align_content": null,
            "align_items": null,
            "align_self": null,
            "border": null,
            "bottom": null,
            "display": null,
            "flex": null,
            "flex_flow": null,
            "grid_area": null,
            "grid_auto_columns": null,
            "grid_auto_flow": null,
            "grid_auto_rows": null,
            "grid_column": null,
            "grid_gap": null,
            "grid_row": null,
            "grid_template_areas": null,
            "grid_template_columns": null,
            "grid_template_rows": null,
            "height": null,
            "justify_content": null,
            "justify_items": null,
            "left": null,
            "margin": null,
            "max_height": null,
            "max_width": null,
            "min_height": null,
            "min_width": null,
            "object_fit": null,
            "object_position": null,
            "order": null,
            "overflow": null,
            "overflow_x": null,
            "overflow_y": null,
            "padding": null,
            "right": null,
            "top": null,
            "visibility": null,
            "width": null
          }
        },
        "2bedad23fec442cda2cfe94710f5d840": {
          "model_module": "@jupyter-widgets/controls",
          "model_name": "DescriptionStyleModel",
          "model_module_version": "1.5.0",
          "state": {
            "_model_module": "@jupyter-widgets/controls",
            "_model_module_version": "1.5.0",
            "_model_name": "DescriptionStyleModel",
            "_view_count": null,
            "_view_module": "@jupyter-widgets/base",
            "_view_module_version": "1.2.0",
            "_view_name": "StyleView",
            "description_width": ""
          }
        },
        "d80420f436664d318c1fa601f774467b": {
          "model_module": "@jupyter-widgets/base",
          "model_name": "LayoutModel",
          "model_module_version": "1.2.0",
          "state": {
            "_model_module": "@jupyter-widgets/base",
            "_model_module_version": "1.2.0",
            "_model_name": "LayoutModel",
            "_view_count": null,
            "_view_module": "@jupyter-widgets/base",
            "_view_module_version": "1.2.0",
            "_view_name": "LayoutView",
            "align_content": null,
            "align_items": null,
            "align_self": null,
            "border": null,
            "bottom": null,
            "display": null,
            "flex": null,
            "flex_flow": null,
            "grid_area": null,
            "grid_auto_columns": null,
            "grid_auto_flow": null,
            "grid_auto_rows": null,
            "grid_column": null,
            "grid_gap": null,
            "grid_row": null,
            "grid_template_areas": null,
            "grid_template_columns": null,
            "grid_template_rows": null,
            "height": null,
            "justify_content": null,
            "justify_items": null,
            "left": null,
            "margin": null,
            "max_height": null,
            "max_width": null,
            "min_height": null,
            "min_width": null,
            "object_fit": null,
            "object_position": null,
            "order": null,
            "overflow": null,
            "overflow_x": null,
            "overflow_y": null,
            "padding": null,
            "right": null,
            "top": null,
            "visibility": null,
            "width": null
          }
        },
        "5d59befcf8b9447cb156644be5ee77d6": {
          "model_module": "@jupyter-widgets/controls",
          "model_name": "ProgressStyleModel",
          "model_module_version": "1.5.0",
          "state": {
            "_model_module": "@jupyter-widgets/controls",
            "_model_module_version": "1.5.0",
            "_model_name": "ProgressStyleModel",
            "_view_count": null,
            "_view_module": "@jupyter-widgets/base",
            "_view_module_version": "1.2.0",
            "_view_name": "StyleView",
            "bar_color": null,
            "description_width": ""
          }
        },
        "1b376bbe3678448196b73966ecf0c652": {
          "model_module": "@jupyter-widgets/base",
          "model_name": "LayoutModel",
          "model_module_version": "1.2.0",
          "state": {
            "_model_module": "@jupyter-widgets/base",
            "_model_module_version": "1.2.0",
            "_model_name": "LayoutModel",
            "_view_count": null,
            "_view_module": "@jupyter-widgets/base",
            "_view_module_version": "1.2.0",
            "_view_name": "LayoutView",
            "align_content": null,
            "align_items": null,
            "align_self": null,
            "border": null,
            "bottom": null,
            "display": null,
            "flex": null,
            "flex_flow": null,
            "grid_area": null,
            "grid_auto_columns": null,
            "grid_auto_flow": null,
            "grid_auto_rows": null,
            "grid_column": null,
            "grid_gap": null,
            "grid_row": null,
            "grid_template_areas": null,
            "grid_template_columns": null,
            "grid_template_rows": null,
            "height": null,
            "justify_content": null,
            "justify_items": null,
            "left": null,
            "margin": null,
            "max_height": null,
            "max_width": null,
            "min_height": null,
            "min_width": null,
            "object_fit": null,
            "object_position": null,
            "order": null,
            "overflow": null,
            "overflow_x": null,
            "overflow_y": null,
            "padding": null,
            "right": null,
            "top": null,
            "visibility": null,
            "width": null
          }
        },
        "b3bb6fd2f57b4b739bbe9b3dfe83e87d": {
          "model_module": "@jupyter-widgets/controls",
          "model_name": "DescriptionStyleModel",
          "model_module_version": "1.5.0",
          "state": {
            "_model_module": "@jupyter-widgets/controls",
            "_model_module_version": "1.5.0",
            "_model_name": "DescriptionStyleModel",
            "_view_count": null,
            "_view_module": "@jupyter-widgets/base",
            "_view_module_version": "1.2.0",
            "_view_name": "StyleView",
            "description_width": ""
          }
        },
        "75f08c05e7fa4250a485901928944a49": {
          "model_module": "@jupyter-widgets/controls",
          "model_name": "HBoxModel",
          "model_module_version": "1.5.0",
          "state": {
            "_dom_classes": [],
            "_model_module": "@jupyter-widgets/controls",
            "_model_module_version": "1.5.0",
            "_model_name": "HBoxModel",
            "_view_count": null,
            "_view_module": "@jupyter-widgets/controls",
            "_view_module_version": "1.5.0",
            "_view_name": "HBoxView",
            "box_style": "",
            "children": [
              "IPY_MODEL_349159a24bdd44589e240c58a381c996",
              "IPY_MODEL_b0ad6f5a17554707b2d73c72d0d118be",
              "IPY_MODEL_01a11d31952c48f2909ae0f0ac6a5dbf"
            ],
            "layout": "IPY_MODEL_91f6aacf0e524431953dd005d76cfc0e"
          }
        },
        "349159a24bdd44589e240c58a381c996": {
          "model_module": "@jupyter-widgets/controls",
          "model_name": "HTMLModel",
          "model_module_version": "1.5.0",
          "state": {
            "_dom_classes": [],
            "_model_module": "@jupyter-widgets/controls",
            "_model_module_version": "1.5.0",
            "_model_name": "HTMLModel",
            "_view_count": null,
            "_view_module": "@jupyter-widgets/controls",
            "_view_module_version": "1.5.0",
            "_view_name": "HTMLView",
            "description": "",
            "description_tooltip": null,
            "layout": "IPY_MODEL_fe14670377b5474688165db6cec71705",
            "placeholder": "​",
            "style": "IPY_MODEL_ab8bca7d52b749fb9743debf2f26d4a9",
            "value": "Downloading (…)lve/main/config.json: 100%"
          }
        },
        "b0ad6f5a17554707b2d73c72d0d118be": {
          "model_module": "@jupyter-widgets/controls",
          "model_name": "FloatProgressModel",
          "model_module_version": "1.5.0",
          "state": {
            "_dom_classes": [],
            "_model_module": "@jupyter-widgets/controls",
            "_model_module_version": "1.5.0",
            "_model_name": "FloatProgressModel",
            "_view_count": null,
            "_view_module": "@jupyter-widgets/controls",
            "_view_module_version": "1.5.0",
            "_view_name": "ProgressView",
            "bar_style": "success",
            "description": "",
            "description_tooltip": null,
            "layout": "IPY_MODEL_eb8aa3a20f9c4cc6838867e356d800d4",
            "max": 465,
            "min": 0,
            "orientation": "horizontal",
            "style": "IPY_MODEL_447d0812da2b4d38811167a60c14acb8",
            "value": 465
          }
        },
        "01a11d31952c48f2909ae0f0ac6a5dbf": {
          "model_module": "@jupyter-widgets/controls",
          "model_name": "HTMLModel",
          "model_module_version": "1.5.0",
          "state": {
            "_dom_classes": [],
            "_model_module": "@jupyter-widgets/controls",
            "_model_module_version": "1.5.0",
            "_model_name": "HTMLModel",
            "_view_count": null,
            "_view_module": "@jupyter-widgets/controls",
            "_view_module_version": "1.5.0",
            "_view_name": "HTMLView",
            "description": "",
            "description_tooltip": null,
            "layout": "IPY_MODEL_d8dce5c55b9449a4a284dbcecd185b1b",
            "placeholder": "​",
            "style": "IPY_MODEL_5cf61e0747474e7687ced81ce1633954",
            "value": " 465/465 [00:00&lt;00:00, 31.6kB/s]"
          }
        },
        "91f6aacf0e524431953dd005d76cfc0e": {
          "model_module": "@jupyter-widgets/base",
          "model_name": "LayoutModel",
          "model_module_version": "1.2.0",
          "state": {
            "_model_module": "@jupyter-widgets/base",
            "_model_module_version": "1.2.0",
            "_model_name": "LayoutModel",
            "_view_count": null,
            "_view_module": "@jupyter-widgets/base",
            "_view_module_version": "1.2.0",
            "_view_name": "LayoutView",
            "align_content": null,
            "align_items": null,
            "align_self": null,
            "border": null,
            "bottom": null,
            "display": null,
            "flex": null,
            "flex_flow": null,
            "grid_area": null,
            "grid_auto_columns": null,
            "grid_auto_flow": null,
            "grid_auto_rows": null,
            "grid_column": null,
            "grid_gap": null,
            "grid_row": null,
            "grid_template_areas": null,
            "grid_template_columns": null,
            "grid_template_rows": null,
            "height": null,
            "justify_content": null,
            "justify_items": null,
            "left": null,
            "margin": null,
            "max_height": null,
            "max_width": null,
            "min_height": null,
            "min_width": null,
            "object_fit": null,
            "object_position": null,
            "order": null,
            "overflow": null,
            "overflow_x": null,
            "overflow_y": null,
            "padding": null,
            "right": null,
            "top": null,
            "visibility": null,
            "width": null
          }
        },
        "fe14670377b5474688165db6cec71705": {
          "model_module": "@jupyter-widgets/base",
          "model_name": "LayoutModel",
          "model_module_version": "1.2.0",
          "state": {
            "_model_module": "@jupyter-widgets/base",
            "_model_module_version": "1.2.0",
            "_model_name": "LayoutModel",
            "_view_count": null,
            "_view_module": "@jupyter-widgets/base",
            "_view_module_version": "1.2.0",
            "_view_name": "LayoutView",
            "align_content": null,
            "align_items": null,
            "align_self": null,
            "border": null,
            "bottom": null,
            "display": null,
            "flex": null,
            "flex_flow": null,
            "grid_area": null,
            "grid_auto_columns": null,
            "grid_auto_flow": null,
            "grid_auto_rows": null,
            "grid_column": null,
            "grid_gap": null,
            "grid_row": null,
            "grid_template_areas": null,
            "grid_template_columns": null,
            "grid_template_rows": null,
            "height": null,
            "justify_content": null,
            "justify_items": null,
            "left": null,
            "margin": null,
            "max_height": null,
            "max_width": null,
            "min_height": null,
            "min_width": null,
            "object_fit": null,
            "object_position": null,
            "order": null,
            "overflow": null,
            "overflow_x": null,
            "overflow_y": null,
            "padding": null,
            "right": null,
            "top": null,
            "visibility": null,
            "width": null
          }
        },
        "ab8bca7d52b749fb9743debf2f26d4a9": {
          "model_module": "@jupyter-widgets/controls",
          "model_name": "DescriptionStyleModel",
          "model_module_version": "1.5.0",
          "state": {
            "_model_module": "@jupyter-widgets/controls",
            "_model_module_version": "1.5.0",
            "_model_name": "DescriptionStyleModel",
            "_view_count": null,
            "_view_module": "@jupyter-widgets/base",
            "_view_module_version": "1.2.0",
            "_view_name": "StyleView",
            "description_width": ""
          }
        },
        "eb8aa3a20f9c4cc6838867e356d800d4": {
          "model_module": "@jupyter-widgets/base",
          "model_name": "LayoutModel",
          "model_module_version": "1.2.0",
          "state": {
            "_model_module": "@jupyter-widgets/base",
            "_model_module_version": "1.2.0",
            "_model_name": "LayoutModel",
            "_view_count": null,
            "_view_module": "@jupyter-widgets/base",
            "_view_module_version": "1.2.0",
            "_view_name": "LayoutView",
            "align_content": null,
            "align_items": null,
            "align_self": null,
            "border": null,
            "bottom": null,
            "display": null,
            "flex": null,
            "flex_flow": null,
            "grid_area": null,
            "grid_auto_columns": null,
            "grid_auto_flow": null,
            "grid_auto_rows": null,
            "grid_column": null,
            "grid_gap": null,
            "grid_row": null,
            "grid_template_areas": null,
            "grid_template_columns": null,
            "grid_template_rows": null,
            "height": null,
            "justify_content": null,
            "justify_items": null,
            "left": null,
            "margin": null,
            "max_height": null,
            "max_width": null,
            "min_height": null,
            "min_width": null,
            "object_fit": null,
            "object_position": null,
            "order": null,
            "overflow": null,
            "overflow_x": null,
            "overflow_y": null,
            "padding": null,
            "right": null,
            "top": null,
            "visibility": null,
            "width": null
          }
        },
        "447d0812da2b4d38811167a60c14acb8": {
          "model_module": "@jupyter-widgets/controls",
          "model_name": "ProgressStyleModel",
          "model_module_version": "1.5.0",
          "state": {
            "_model_module": "@jupyter-widgets/controls",
            "_model_module_version": "1.5.0",
            "_model_name": "ProgressStyleModel",
            "_view_count": null,
            "_view_module": "@jupyter-widgets/base",
            "_view_module_version": "1.2.0",
            "_view_name": "StyleView",
            "bar_color": null,
            "description_width": ""
          }
        },
        "d8dce5c55b9449a4a284dbcecd185b1b": {
          "model_module": "@jupyter-widgets/base",
          "model_name": "LayoutModel",
          "model_module_version": "1.2.0",
          "state": {
            "_model_module": "@jupyter-widgets/base",
            "_model_module_version": "1.2.0",
            "_model_name": "LayoutModel",
            "_view_count": null,
            "_view_module": "@jupyter-widgets/base",
            "_view_module_version": "1.2.0",
            "_view_name": "LayoutView",
            "align_content": null,
            "align_items": null,
            "align_self": null,
            "border": null,
            "bottom": null,
            "display": null,
            "flex": null,
            "flex_flow": null,
            "grid_area": null,
            "grid_auto_columns": null,
            "grid_auto_flow": null,
            "grid_auto_rows": null,
            "grid_column": null,
            "grid_gap": null,
            "grid_row": null,
            "grid_template_areas": null,
            "grid_template_columns": null,
            "grid_template_rows": null,
            "height": null,
            "justify_content": null,
            "justify_items": null,
            "left": null,
            "margin": null,
            "max_height": null,
            "max_width": null,
            "min_height": null,
            "min_width": null,
            "object_fit": null,
            "object_position": null,
            "order": null,
            "overflow": null,
            "overflow_x": null,
            "overflow_y": null,
            "padding": null,
            "right": null,
            "top": null,
            "visibility": null,
            "width": null
          }
        },
        "5cf61e0747474e7687ced81ce1633954": {
          "model_module": "@jupyter-widgets/controls",
          "model_name": "DescriptionStyleModel",
          "model_module_version": "1.5.0",
          "state": {
            "_model_module": "@jupyter-widgets/controls",
            "_model_module_version": "1.5.0",
            "_model_name": "DescriptionStyleModel",
            "_view_count": null,
            "_view_module": "@jupyter-widgets/base",
            "_view_module_version": "1.2.0",
            "_view_name": "StyleView",
            "description_width": ""
          }
        },
        "7af4fd82e86340ed85598eb0a36d3dec": {
          "model_module": "@jupyter-widgets/controls",
          "model_name": "HBoxModel",
          "model_module_version": "1.5.0",
          "state": {
            "_dom_classes": [],
            "_model_module": "@jupyter-widgets/controls",
            "_model_module_version": "1.5.0",
            "_model_name": "HBoxModel",
            "_view_count": null,
            "_view_module": "@jupyter-widgets/controls",
            "_view_module_version": "1.5.0",
            "_view_name": "HBoxView",
            "box_style": "",
            "children": [
              "IPY_MODEL_fa4bd7ff6fa840669de510fb88135561",
              "IPY_MODEL_5daff2afaa40467db795ac1bc3cfebac",
              "IPY_MODEL_af974e7d273b496eac16078f1acfcb8e"
            ],
            "layout": "IPY_MODEL_2c429c69638445c297db43675448af4f"
          }
        },
        "fa4bd7ff6fa840669de510fb88135561": {
          "model_module": "@jupyter-widgets/controls",
          "model_name": "HTMLModel",
          "model_module_version": "1.5.0",
          "state": {
            "_dom_classes": [],
            "_model_module": "@jupyter-widgets/controls",
            "_model_module_version": "1.5.0",
            "_model_name": "HTMLModel",
            "_view_count": null,
            "_view_module": "@jupyter-widgets/controls",
            "_view_module_version": "1.5.0",
            "_view_name": "HTMLView",
            "description": "",
            "description_tooltip": null,
            "layout": "IPY_MODEL_e9b0e199c00b4272b242fde392713f14",
            "placeholder": "​",
            "style": "IPY_MODEL_7bcc52a57d6543edb9c831f00f6dd0dc",
            "value": "Downloading (…)solve/main/vocab.txt: 100%"
          }
        },
        "5daff2afaa40467db795ac1bc3cfebac": {
          "model_module": "@jupyter-widgets/controls",
          "model_name": "FloatProgressModel",
          "model_module_version": "1.5.0",
          "state": {
            "_dom_classes": [],
            "_model_module": "@jupyter-widgets/controls",
            "_model_module_version": "1.5.0",
            "_model_name": "FloatProgressModel",
            "_view_count": null,
            "_view_module": "@jupyter-widgets/controls",
            "_view_module_version": "1.5.0",
            "_view_name": "ProgressView",
            "bar_style": "success",
            "description": "",
            "description_tooltip": null,
            "layout": "IPY_MODEL_7ef0bff61f8a456b9949cea071f75269",
            "max": 231508,
            "min": 0,
            "orientation": "horizontal",
            "style": "IPY_MODEL_4e075a0726c24bb59e53da29a78faf25",
            "value": 231508
          }
        },
        "af974e7d273b496eac16078f1acfcb8e": {
          "model_module": "@jupyter-widgets/controls",
          "model_name": "HTMLModel",
          "model_module_version": "1.5.0",
          "state": {
            "_dom_classes": [],
            "_model_module": "@jupyter-widgets/controls",
            "_model_module_version": "1.5.0",
            "_model_name": "HTMLModel",
            "_view_count": null,
            "_view_module": "@jupyter-widgets/controls",
            "_view_module_version": "1.5.0",
            "_view_name": "HTMLView",
            "description": "",
            "description_tooltip": null,
            "layout": "IPY_MODEL_2c73c245e2e74da7995d0b826f983d19",
            "placeholder": "​",
            "style": "IPY_MODEL_318bd9f2367c4bedbec42cf4348fa9e1",
            "value": " 232k/232k [00:00&lt;00:00, 3.33MB/s]"
          }
        },
        "2c429c69638445c297db43675448af4f": {
          "model_module": "@jupyter-widgets/base",
          "model_name": "LayoutModel",
          "model_module_version": "1.2.0",
          "state": {
            "_model_module": "@jupyter-widgets/base",
            "_model_module_version": "1.2.0",
            "_model_name": "LayoutModel",
            "_view_count": null,
            "_view_module": "@jupyter-widgets/base",
            "_view_module_version": "1.2.0",
            "_view_name": "LayoutView",
            "align_content": null,
            "align_items": null,
            "align_self": null,
            "border": null,
            "bottom": null,
            "display": null,
            "flex": null,
            "flex_flow": null,
            "grid_area": null,
            "grid_auto_columns": null,
            "grid_auto_flow": null,
            "grid_auto_rows": null,
            "grid_column": null,
            "grid_gap": null,
            "grid_row": null,
            "grid_template_areas": null,
            "grid_template_columns": null,
            "grid_template_rows": null,
            "height": null,
            "justify_content": null,
            "justify_items": null,
            "left": null,
            "margin": null,
            "max_height": null,
            "max_width": null,
            "min_height": null,
            "min_width": null,
            "object_fit": null,
            "object_position": null,
            "order": null,
            "overflow": null,
            "overflow_x": null,
            "overflow_y": null,
            "padding": null,
            "right": null,
            "top": null,
            "visibility": null,
            "width": null
          }
        },
        "e9b0e199c00b4272b242fde392713f14": {
          "model_module": "@jupyter-widgets/base",
          "model_name": "LayoutModel",
          "model_module_version": "1.2.0",
          "state": {
            "_model_module": "@jupyter-widgets/base",
            "_model_module_version": "1.2.0",
            "_model_name": "LayoutModel",
            "_view_count": null,
            "_view_module": "@jupyter-widgets/base",
            "_view_module_version": "1.2.0",
            "_view_name": "LayoutView",
            "align_content": null,
            "align_items": null,
            "align_self": null,
            "border": null,
            "bottom": null,
            "display": null,
            "flex": null,
            "flex_flow": null,
            "grid_area": null,
            "grid_auto_columns": null,
            "grid_auto_flow": null,
            "grid_auto_rows": null,
            "grid_column": null,
            "grid_gap": null,
            "grid_row": null,
            "grid_template_areas": null,
            "grid_template_columns": null,
            "grid_template_rows": null,
            "height": null,
            "justify_content": null,
            "justify_items": null,
            "left": null,
            "margin": null,
            "max_height": null,
            "max_width": null,
            "min_height": null,
            "min_width": null,
            "object_fit": null,
            "object_position": null,
            "order": null,
            "overflow": null,
            "overflow_x": null,
            "overflow_y": null,
            "padding": null,
            "right": null,
            "top": null,
            "visibility": null,
            "width": null
          }
        },
        "7bcc52a57d6543edb9c831f00f6dd0dc": {
          "model_module": "@jupyter-widgets/controls",
          "model_name": "DescriptionStyleModel",
          "model_module_version": "1.5.0",
          "state": {
            "_model_module": "@jupyter-widgets/controls",
            "_model_module_version": "1.5.0",
            "_model_name": "DescriptionStyleModel",
            "_view_count": null,
            "_view_module": "@jupyter-widgets/base",
            "_view_module_version": "1.2.0",
            "_view_name": "StyleView",
            "description_width": ""
          }
        },
        "7ef0bff61f8a456b9949cea071f75269": {
          "model_module": "@jupyter-widgets/base",
          "model_name": "LayoutModel",
          "model_module_version": "1.2.0",
          "state": {
            "_model_module": "@jupyter-widgets/base",
            "_model_module_version": "1.2.0",
            "_model_name": "LayoutModel",
            "_view_count": null,
            "_view_module": "@jupyter-widgets/base",
            "_view_module_version": "1.2.0",
            "_view_name": "LayoutView",
            "align_content": null,
            "align_items": null,
            "align_self": null,
            "border": null,
            "bottom": null,
            "display": null,
            "flex": null,
            "flex_flow": null,
            "grid_area": null,
            "grid_auto_columns": null,
            "grid_auto_flow": null,
            "grid_auto_rows": null,
            "grid_column": null,
            "grid_gap": null,
            "grid_row": null,
            "grid_template_areas": null,
            "grid_template_columns": null,
            "grid_template_rows": null,
            "height": null,
            "justify_content": null,
            "justify_items": null,
            "left": null,
            "margin": null,
            "max_height": null,
            "max_width": null,
            "min_height": null,
            "min_width": null,
            "object_fit": null,
            "object_position": null,
            "order": null,
            "overflow": null,
            "overflow_x": null,
            "overflow_y": null,
            "padding": null,
            "right": null,
            "top": null,
            "visibility": null,
            "width": null
          }
        },
        "4e075a0726c24bb59e53da29a78faf25": {
          "model_module": "@jupyter-widgets/controls",
          "model_name": "ProgressStyleModel",
          "model_module_version": "1.5.0",
          "state": {
            "_model_module": "@jupyter-widgets/controls",
            "_model_module_version": "1.5.0",
            "_model_name": "ProgressStyleModel",
            "_view_count": null,
            "_view_module": "@jupyter-widgets/base",
            "_view_module_version": "1.2.0",
            "_view_name": "StyleView",
            "bar_color": null,
            "description_width": ""
          }
        },
        "2c73c245e2e74da7995d0b826f983d19": {
          "model_module": "@jupyter-widgets/base",
          "model_name": "LayoutModel",
          "model_module_version": "1.2.0",
          "state": {
            "_model_module": "@jupyter-widgets/base",
            "_model_module_version": "1.2.0",
            "_model_name": "LayoutModel",
            "_view_count": null,
            "_view_module": "@jupyter-widgets/base",
            "_view_module_version": "1.2.0",
            "_view_name": "LayoutView",
            "align_content": null,
            "align_items": null,
            "align_self": null,
            "border": null,
            "bottom": null,
            "display": null,
            "flex": null,
            "flex_flow": null,
            "grid_area": null,
            "grid_auto_columns": null,
            "grid_auto_flow": null,
            "grid_auto_rows": null,
            "grid_column": null,
            "grid_gap": null,
            "grid_row": null,
            "grid_template_areas": null,
            "grid_template_columns": null,
            "grid_template_rows": null,
            "height": null,
            "justify_content": null,
            "justify_items": null,
            "left": null,
            "margin": null,
            "max_height": null,
            "max_width": null,
            "min_height": null,
            "min_width": null,
            "object_fit": null,
            "object_position": null,
            "order": null,
            "overflow": null,
            "overflow_x": null,
            "overflow_y": null,
            "padding": null,
            "right": null,
            "top": null,
            "visibility": null,
            "width": null
          }
        },
        "318bd9f2367c4bedbec42cf4348fa9e1": {
          "model_module": "@jupyter-widgets/controls",
          "model_name": "DescriptionStyleModel",
          "model_module_version": "1.5.0",
          "state": {
            "_model_module": "@jupyter-widgets/controls",
            "_model_module_version": "1.5.0",
            "_model_name": "DescriptionStyleModel",
            "_view_count": null,
            "_view_module": "@jupyter-widgets/base",
            "_view_module_version": "1.2.0",
            "_view_name": "StyleView",
            "description_width": ""
          }
        },
        "a9a69d4c366d464eaf47fd608d64f759": {
          "model_module": "@jupyter-widgets/controls",
          "model_name": "HBoxModel",
          "model_module_version": "1.5.0",
          "state": {
            "_dom_classes": [],
            "_model_module": "@jupyter-widgets/controls",
            "_model_module_version": "1.5.0",
            "_model_name": "HBoxModel",
            "_view_count": null,
            "_view_module": "@jupyter-widgets/controls",
            "_view_module_version": "1.5.0",
            "_view_name": "HBoxView",
            "box_style": "",
            "children": [
              "IPY_MODEL_018b39d12db2497aa565bca1343b124e",
              "IPY_MODEL_7514b113b77a4fef906633117fbd166d",
              "IPY_MODEL_0b0e28f3071e42d3af0a533c7efab95c"
            ],
            "layout": "IPY_MODEL_939d443b4f7d4dd2bc1090e2e9a78485"
          }
        },
        "018b39d12db2497aa565bca1343b124e": {
          "model_module": "@jupyter-widgets/controls",
          "model_name": "HTMLModel",
          "model_module_version": "1.5.0",
          "state": {
            "_dom_classes": [],
            "_model_module": "@jupyter-widgets/controls",
            "_model_module_version": "1.5.0",
            "_model_name": "HTMLModel",
            "_view_count": null,
            "_view_module": "@jupyter-widgets/controls",
            "_view_module_version": "1.5.0",
            "_view_name": "HTMLView",
            "description": "",
            "description_tooltip": null,
            "layout": "IPY_MODEL_27a40f01bef347e29f398bcac3c452d9",
            "placeholder": "​",
            "style": "IPY_MODEL_62d4df23581948aea3854df6f8526e2f",
            "value": "Downloading (…)cial_tokens_map.json: 100%"
          }
        },
        "7514b113b77a4fef906633117fbd166d": {
          "model_module": "@jupyter-widgets/controls",
          "model_name": "FloatProgressModel",
          "model_module_version": "1.5.0",
          "state": {
            "_dom_classes": [],
            "_model_module": "@jupyter-widgets/controls",
            "_model_module_version": "1.5.0",
            "_model_name": "FloatProgressModel",
            "_view_count": null,
            "_view_module": "@jupyter-widgets/controls",
            "_view_module_version": "1.5.0",
            "_view_name": "ProgressView",
            "bar_style": "success",
            "description": "",
            "description_tooltip": null,
            "layout": "IPY_MODEL_e3937003946e483b895c43cc67ee2527",
            "max": 112,
            "min": 0,
            "orientation": "horizontal",
            "style": "IPY_MODEL_fb25c7dfc4ce4a4e85dbe9da3de961b0",
            "value": 112
          }
        },
        "0b0e28f3071e42d3af0a533c7efab95c": {
          "model_module": "@jupyter-widgets/controls",
          "model_name": "HTMLModel",
          "model_module_version": "1.5.0",
          "state": {
            "_dom_classes": [],
            "_model_module": "@jupyter-widgets/controls",
            "_model_module_version": "1.5.0",
            "_model_name": "HTMLModel",
            "_view_count": null,
            "_view_module": "@jupyter-widgets/controls",
            "_view_module_version": "1.5.0",
            "_view_name": "HTMLView",
            "description": "",
            "description_tooltip": null,
            "layout": "IPY_MODEL_de033101b36b40018de51b5db0959f95",
            "placeholder": "​",
            "style": "IPY_MODEL_42e0189e2fba49be881656fa8156bf0d",
            "value": " 112/112 [00:00&lt;00:00, 7.36kB/s]"
          }
        },
        "939d443b4f7d4dd2bc1090e2e9a78485": {
          "model_module": "@jupyter-widgets/base",
          "model_name": "LayoutModel",
          "model_module_version": "1.2.0",
          "state": {
            "_model_module": "@jupyter-widgets/base",
            "_model_module_version": "1.2.0",
            "_model_name": "LayoutModel",
            "_view_count": null,
            "_view_module": "@jupyter-widgets/base",
            "_view_module_version": "1.2.0",
            "_view_name": "LayoutView",
            "align_content": null,
            "align_items": null,
            "align_self": null,
            "border": null,
            "bottom": null,
            "display": null,
            "flex": null,
            "flex_flow": null,
            "grid_area": null,
            "grid_auto_columns": null,
            "grid_auto_flow": null,
            "grid_auto_rows": null,
            "grid_column": null,
            "grid_gap": null,
            "grid_row": null,
            "grid_template_areas": null,
            "grid_template_columns": null,
            "grid_template_rows": null,
            "height": null,
            "justify_content": null,
            "justify_items": null,
            "left": null,
            "margin": null,
            "max_height": null,
            "max_width": null,
            "min_height": null,
            "min_width": null,
            "object_fit": null,
            "object_position": null,
            "order": null,
            "overflow": null,
            "overflow_x": null,
            "overflow_y": null,
            "padding": null,
            "right": null,
            "top": null,
            "visibility": null,
            "width": null
          }
        },
        "27a40f01bef347e29f398bcac3c452d9": {
          "model_module": "@jupyter-widgets/base",
          "model_name": "LayoutModel",
          "model_module_version": "1.2.0",
          "state": {
            "_model_module": "@jupyter-widgets/base",
            "_model_module_version": "1.2.0",
            "_model_name": "LayoutModel",
            "_view_count": null,
            "_view_module": "@jupyter-widgets/base",
            "_view_module_version": "1.2.0",
            "_view_name": "LayoutView",
            "align_content": null,
            "align_items": null,
            "align_self": null,
            "border": null,
            "bottom": null,
            "display": null,
            "flex": null,
            "flex_flow": null,
            "grid_area": null,
            "grid_auto_columns": null,
            "grid_auto_flow": null,
            "grid_auto_rows": null,
            "grid_column": null,
            "grid_gap": null,
            "grid_row": null,
            "grid_template_areas": null,
            "grid_template_columns": null,
            "grid_template_rows": null,
            "height": null,
            "justify_content": null,
            "justify_items": null,
            "left": null,
            "margin": null,
            "max_height": null,
            "max_width": null,
            "min_height": null,
            "min_width": null,
            "object_fit": null,
            "object_position": null,
            "order": null,
            "overflow": null,
            "overflow_x": null,
            "overflow_y": null,
            "padding": null,
            "right": null,
            "top": null,
            "visibility": null,
            "width": null
          }
        },
        "62d4df23581948aea3854df6f8526e2f": {
          "model_module": "@jupyter-widgets/controls",
          "model_name": "DescriptionStyleModel",
          "model_module_version": "1.5.0",
          "state": {
            "_model_module": "@jupyter-widgets/controls",
            "_model_module_version": "1.5.0",
            "_model_name": "DescriptionStyleModel",
            "_view_count": null,
            "_view_module": "@jupyter-widgets/base",
            "_view_module_version": "1.2.0",
            "_view_name": "StyleView",
            "description_width": ""
          }
        },
        "e3937003946e483b895c43cc67ee2527": {
          "model_module": "@jupyter-widgets/base",
          "model_name": "LayoutModel",
          "model_module_version": "1.2.0",
          "state": {
            "_model_module": "@jupyter-widgets/base",
            "_model_module_version": "1.2.0",
            "_model_name": "LayoutModel",
            "_view_count": null,
            "_view_module": "@jupyter-widgets/base",
            "_view_module_version": "1.2.0",
            "_view_name": "LayoutView",
            "align_content": null,
            "align_items": null,
            "align_self": null,
            "border": null,
            "bottom": null,
            "display": null,
            "flex": null,
            "flex_flow": null,
            "grid_area": null,
            "grid_auto_columns": null,
            "grid_auto_flow": null,
            "grid_auto_rows": null,
            "grid_column": null,
            "grid_gap": null,
            "grid_row": null,
            "grid_template_areas": null,
            "grid_template_columns": null,
            "grid_template_rows": null,
            "height": null,
            "justify_content": null,
            "justify_items": null,
            "left": null,
            "margin": null,
            "max_height": null,
            "max_width": null,
            "min_height": null,
            "min_width": null,
            "object_fit": null,
            "object_position": null,
            "order": null,
            "overflow": null,
            "overflow_x": null,
            "overflow_y": null,
            "padding": null,
            "right": null,
            "top": null,
            "visibility": null,
            "width": null
          }
        },
        "fb25c7dfc4ce4a4e85dbe9da3de961b0": {
          "model_module": "@jupyter-widgets/controls",
          "model_name": "ProgressStyleModel",
          "model_module_version": "1.5.0",
          "state": {
            "_model_module": "@jupyter-widgets/controls",
            "_model_module_version": "1.5.0",
            "_model_name": "ProgressStyleModel",
            "_view_count": null,
            "_view_module": "@jupyter-widgets/base",
            "_view_module_version": "1.2.0",
            "_view_name": "StyleView",
            "bar_color": null,
            "description_width": ""
          }
        },
        "de033101b36b40018de51b5db0959f95": {
          "model_module": "@jupyter-widgets/base",
          "model_name": "LayoutModel",
          "model_module_version": "1.2.0",
          "state": {
            "_model_module": "@jupyter-widgets/base",
            "_model_module_version": "1.2.0",
            "_model_name": "LayoutModel",
            "_view_count": null,
            "_view_module": "@jupyter-widgets/base",
            "_view_module_version": "1.2.0",
            "_view_name": "LayoutView",
            "align_content": null,
            "align_items": null,
            "align_self": null,
            "border": null,
            "bottom": null,
            "display": null,
            "flex": null,
            "flex_flow": null,
            "grid_area": null,
            "grid_auto_columns": null,
            "grid_auto_flow": null,
            "grid_auto_rows": null,
            "grid_column": null,
            "grid_gap": null,
            "grid_row": null,
            "grid_template_areas": null,
            "grid_template_columns": null,
            "grid_template_rows": null,
            "height": null,
            "justify_content": null,
            "justify_items": null,
            "left": null,
            "margin": null,
            "max_height": null,
            "max_width": null,
            "min_height": null,
            "min_width": null,
            "object_fit": null,
            "object_position": null,
            "order": null,
            "overflow": null,
            "overflow_x": null,
            "overflow_y": null,
            "padding": null,
            "right": null,
            "top": null,
            "visibility": null,
            "width": null
          }
        },
        "42e0189e2fba49be881656fa8156bf0d": {
          "model_module": "@jupyter-widgets/controls",
          "model_name": "DescriptionStyleModel",
          "model_module_version": "1.5.0",
          "state": {
            "_model_module": "@jupyter-widgets/controls",
            "_model_module_version": "1.5.0",
            "_model_name": "DescriptionStyleModel",
            "_view_count": null,
            "_view_module": "@jupyter-widgets/base",
            "_view_module_version": "1.2.0",
            "_view_name": "StyleView",
            "description_width": ""
          }
        },
        "92c1ee8b2fb44f91a428b041b6b4fac5": {
          "model_module": "@jupyter-widgets/controls",
          "model_name": "HBoxModel",
          "model_module_version": "1.5.0",
          "state": {
            "_dom_classes": [],
            "_model_module": "@jupyter-widgets/controls",
            "_model_module_version": "1.5.0",
            "_model_name": "HBoxModel",
            "_view_count": null,
            "_view_module": "@jupyter-widgets/controls",
            "_view_module_version": "1.5.0",
            "_view_name": "HBoxView",
            "box_style": "",
            "children": [
              "IPY_MODEL_24f3390feebd49e1866ec035bedde1dc",
              "IPY_MODEL_9822df019594435e8de3710bd87e6039",
              "IPY_MODEL_5092bbf09ae24191b1ab2b273a2ac8bc"
            ],
            "layout": "IPY_MODEL_789d1b169e7b427e9da5e684ccad72e9"
          }
        },
        "24f3390feebd49e1866ec035bedde1dc": {
          "model_module": "@jupyter-widgets/controls",
          "model_name": "HTMLModel",
          "model_module_version": "1.5.0",
          "state": {
            "_dom_classes": [],
            "_model_module": "@jupyter-widgets/controls",
            "_model_module_version": "1.5.0",
            "_model_name": "HTMLModel",
            "_view_count": null,
            "_view_module": "@jupyter-widgets/controls",
            "_view_module_version": "1.5.0",
            "_view_name": "HTMLView",
            "description": "",
            "description_tooltip": null,
            "layout": "IPY_MODEL_cab911789f1b46b0b148cccbcc46ec41",
            "placeholder": "​",
            "style": "IPY_MODEL_bea36b3af774480dbb49c64f455859e3",
            "value": "Downloading pytorch_model.bin: 100%"
          }
        },
        "9822df019594435e8de3710bd87e6039": {
          "model_module": "@jupyter-widgets/controls",
          "model_name": "FloatProgressModel",
          "model_module_version": "1.5.0",
          "state": {
            "_dom_classes": [],
            "_model_module": "@jupyter-widgets/controls",
            "_model_module_version": "1.5.0",
            "_model_name": "FloatProgressModel",
            "_view_count": null,
            "_view_module": "@jupyter-widgets/controls",
            "_view_module_version": "1.5.0",
            "_view_name": "ProgressView",
            "bar_style": "success",
            "description": "",
            "description_tooltip": null,
            "layout": "IPY_MODEL_43b250abb57b416781178084075c5819",
            "max": 437985356,
            "min": 0,
            "orientation": "horizontal",
            "style": "IPY_MODEL_72c380b50ceb4ebe95e39bb4a1a1c0b2",
            "value": 437985356
          }
        },
        "5092bbf09ae24191b1ab2b273a2ac8bc": {
          "model_module": "@jupyter-widgets/controls",
          "model_name": "HTMLModel",
          "model_module_version": "1.5.0",
          "state": {
            "_dom_classes": [],
            "_model_module": "@jupyter-widgets/controls",
            "_model_module_version": "1.5.0",
            "_model_name": "HTMLModel",
            "_view_count": null,
            "_view_module": "@jupyter-widgets/controls",
            "_view_module_version": "1.5.0",
            "_view_name": "HTMLView",
            "description": "",
            "description_tooltip": null,
            "layout": "IPY_MODEL_7b1b231673d64e4ba1820ebd6c76a68c",
            "placeholder": "​",
            "style": "IPY_MODEL_10bdab8c8d9843838f648e1ebc7bc08d",
            "value": " 438M/438M [00:25&lt;00:00, 28.8MB/s]"
          }
        },
        "789d1b169e7b427e9da5e684ccad72e9": {
          "model_module": "@jupyter-widgets/base",
          "model_name": "LayoutModel",
          "model_module_version": "1.2.0",
          "state": {
            "_model_module": "@jupyter-widgets/base",
            "_model_module_version": "1.2.0",
            "_model_name": "LayoutModel",
            "_view_count": null,
            "_view_module": "@jupyter-widgets/base",
            "_view_module_version": "1.2.0",
            "_view_name": "LayoutView",
            "align_content": null,
            "align_items": null,
            "align_self": null,
            "border": null,
            "bottom": null,
            "display": null,
            "flex": null,
            "flex_flow": null,
            "grid_area": null,
            "grid_auto_columns": null,
            "grid_auto_flow": null,
            "grid_auto_rows": null,
            "grid_column": null,
            "grid_gap": null,
            "grid_row": null,
            "grid_template_areas": null,
            "grid_template_columns": null,
            "grid_template_rows": null,
            "height": null,
            "justify_content": null,
            "justify_items": null,
            "left": null,
            "margin": null,
            "max_height": null,
            "max_width": null,
            "min_height": null,
            "min_width": null,
            "object_fit": null,
            "object_position": null,
            "order": null,
            "overflow": null,
            "overflow_x": null,
            "overflow_y": null,
            "padding": null,
            "right": null,
            "top": null,
            "visibility": null,
            "width": null
          }
        },
        "cab911789f1b46b0b148cccbcc46ec41": {
          "model_module": "@jupyter-widgets/base",
          "model_name": "LayoutModel",
          "model_module_version": "1.2.0",
          "state": {
            "_model_module": "@jupyter-widgets/base",
            "_model_module_version": "1.2.0",
            "_model_name": "LayoutModel",
            "_view_count": null,
            "_view_module": "@jupyter-widgets/base",
            "_view_module_version": "1.2.0",
            "_view_name": "LayoutView",
            "align_content": null,
            "align_items": null,
            "align_self": null,
            "border": null,
            "bottom": null,
            "display": null,
            "flex": null,
            "flex_flow": null,
            "grid_area": null,
            "grid_auto_columns": null,
            "grid_auto_flow": null,
            "grid_auto_rows": null,
            "grid_column": null,
            "grid_gap": null,
            "grid_row": null,
            "grid_template_areas": null,
            "grid_template_columns": null,
            "grid_template_rows": null,
            "height": null,
            "justify_content": null,
            "justify_items": null,
            "left": null,
            "margin": null,
            "max_height": null,
            "max_width": null,
            "min_height": null,
            "min_width": null,
            "object_fit": null,
            "object_position": null,
            "order": null,
            "overflow": null,
            "overflow_x": null,
            "overflow_y": null,
            "padding": null,
            "right": null,
            "top": null,
            "visibility": null,
            "width": null
          }
        },
        "bea36b3af774480dbb49c64f455859e3": {
          "model_module": "@jupyter-widgets/controls",
          "model_name": "DescriptionStyleModel",
          "model_module_version": "1.5.0",
          "state": {
            "_model_module": "@jupyter-widgets/controls",
            "_model_module_version": "1.5.0",
            "_model_name": "DescriptionStyleModel",
            "_view_count": null,
            "_view_module": "@jupyter-widgets/base",
            "_view_module_version": "1.2.0",
            "_view_name": "StyleView",
            "description_width": ""
          }
        },
        "43b250abb57b416781178084075c5819": {
          "model_module": "@jupyter-widgets/base",
          "model_name": "LayoutModel",
          "model_module_version": "1.2.0",
          "state": {
            "_model_module": "@jupyter-widgets/base",
            "_model_module_version": "1.2.0",
            "_model_name": "LayoutModel",
            "_view_count": null,
            "_view_module": "@jupyter-widgets/base",
            "_view_module_version": "1.2.0",
            "_view_name": "LayoutView",
            "align_content": null,
            "align_items": null,
            "align_self": null,
            "border": null,
            "bottom": null,
            "display": null,
            "flex": null,
            "flex_flow": null,
            "grid_area": null,
            "grid_auto_columns": null,
            "grid_auto_flow": null,
            "grid_auto_rows": null,
            "grid_column": null,
            "grid_gap": null,
            "grid_row": null,
            "grid_template_areas": null,
            "grid_template_columns": null,
            "grid_template_rows": null,
            "height": null,
            "justify_content": null,
            "justify_items": null,
            "left": null,
            "margin": null,
            "max_height": null,
            "max_width": null,
            "min_height": null,
            "min_width": null,
            "object_fit": null,
            "object_position": null,
            "order": null,
            "overflow": null,
            "overflow_x": null,
            "overflow_y": null,
            "padding": null,
            "right": null,
            "top": null,
            "visibility": null,
            "width": null
          }
        },
        "72c380b50ceb4ebe95e39bb4a1a1c0b2": {
          "model_module": "@jupyter-widgets/controls",
          "model_name": "ProgressStyleModel",
          "model_module_version": "1.5.0",
          "state": {
            "_model_module": "@jupyter-widgets/controls",
            "_model_module_version": "1.5.0",
            "_model_name": "ProgressStyleModel",
            "_view_count": null,
            "_view_module": "@jupyter-widgets/base",
            "_view_module_version": "1.2.0",
            "_view_name": "StyleView",
            "bar_color": null,
            "description_width": ""
          }
        },
        "7b1b231673d64e4ba1820ebd6c76a68c": {
          "model_module": "@jupyter-widgets/base",
          "model_name": "LayoutModel",
          "model_module_version": "1.2.0",
          "state": {
            "_model_module": "@jupyter-widgets/base",
            "_model_module_version": "1.2.0",
            "_model_name": "LayoutModel",
            "_view_count": null,
            "_view_module": "@jupyter-widgets/base",
            "_view_module_version": "1.2.0",
            "_view_name": "LayoutView",
            "align_content": null,
            "align_items": null,
            "align_self": null,
            "border": null,
            "bottom": null,
            "display": null,
            "flex": null,
            "flex_flow": null,
            "grid_area": null,
            "grid_auto_columns": null,
            "grid_auto_flow": null,
            "grid_auto_rows": null,
            "grid_column": null,
            "grid_gap": null,
            "grid_row": null,
            "grid_template_areas": null,
            "grid_template_columns": null,
            "grid_template_rows": null,
            "height": null,
            "justify_content": null,
            "justify_items": null,
            "left": null,
            "margin": null,
            "max_height": null,
            "max_width": null,
            "min_height": null,
            "min_width": null,
            "object_fit": null,
            "object_position": null,
            "order": null,
            "overflow": null,
            "overflow_x": null,
            "overflow_y": null,
            "padding": null,
            "right": null,
            "top": null,
            "visibility": null,
            "width": null
          }
        },
        "10bdab8c8d9843838f648e1ebc7bc08d": {
          "model_module": "@jupyter-widgets/controls",
          "model_name": "DescriptionStyleModel",
          "model_module_version": "1.5.0",
          "state": {
            "_model_module": "@jupyter-widgets/controls",
            "_model_module_version": "1.5.0",
            "_model_name": "DescriptionStyleModel",
            "_view_count": null,
            "_view_module": "@jupyter-widgets/base",
            "_view_module_version": "1.2.0",
            "_view_name": "StyleView",
            "description_width": ""
          }
        },
        "32379c0ae25b4aec80a1978b2a89d3f5": {
          "model_module": "@jupyter-widgets/controls",
          "model_name": "HBoxModel",
          "model_module_version": "1.5.0",
          "state": {
            "_dom_classes": [],
            "_model_module": "@jupyter-widgets/controls",
            "_model_module_version": "1.5.0",
            "_model_name": "HBoxModel",
            "_view_count": null,
            "_view_module": "@jupyter-widgets/controls",
            "_view_module_version": "1.5.0",
            "_view_name": "HBoxView",
            "box_style": "",
            "children": [
              "IPY_MODEL_9c2f05d863cf4e10943aa6386571fd91",
              "IPY_MODEL_e3b11197fca44eb3a9fcabbcb01715e2",
              "IPY_MODEL_6c2c045589d44c0390f6c8e5b52403ff"
            ],
            "layout": "IPY_MODEL_d10aaeb9a3984f9a8687a48fbabaa25c"
          }
        },
        "9c2f05d863cf4e10943aa6386571fd91": {
          "model_module": "@jupyter-widgets/controls",
          "model_name": "HTMLModel",
          "model_module_version": "1.5.0",
          "state": {
            "_dom_classes": [],
            "_model_module": "@jupyter-widgets/controls",
            "_model_module_version": "1.5.0",
            "_model_name": "HTMLModel",
            "_view_count": null,
            "_view_module": "@jupyter-widgets/controls",
            "_view_module_version": "1.5.0",
            "_view_name": "HTMLView",
            "description": "",
            "description_tooltip": null,
            "layout": "IPY_MODEL_7cf65bcf812540768be97314c126b8ae",
            "placeholder": "​",
            "style": "IPY_MODEL_57f7f66e07f14fb1a983605c7f1e1331",
            "value": "Downloading (…)okenizer_config.json: 100%"
          }
        },
        "e3b11197fca44eb3a9fcabbcb01715e2": {
          "model_module": "@jupyter-widgets/controls",
          "model_name": "FloatProgressModel",
          "model_module_version": "1.5.0",
          "state": {
            "_dom_classes": [],
            "_model_module": "@jupyter-widgets/controls",
            "_model_module_version": "1.5.0",
            "_model_name": "FloatProgressModel",
            "_view_count": null,
            "_view_module": "@jupyter-widgets/controls",
            "_view_module_version": "1.5.0",
            "_view_name": "ProgressView",
            "bar_style": "success",
            "description": "",
            "description_tooltip": null,
            "layout": "IPY_MODEL_a596b40539c1436887963136bb304054",
            "max": 39,
            "min": 0,
            "orientation": "horizontal",
            "style": "IPY_MODEL_b3923b1829d948d083673ab7eeb33865",
            "value": 39
          }
        },
        "6c2c045589d44c0390f6c8e5b52403ff": {
          "model_module": "@jupyter-widgets/controls",
          "model_name": "HTMLModel",
          "model_module_version": "1.5.0",
          "state": {
            "_dom_classes": [],
            "_model_module": "@jupyter-widgets/controls",
            "_model_module_version": "1.5.0",
            "_model_name": "HTMLModel",
            "_view_count": null,
            "_view_module": "@jupyter-widgets/controls",
            "_view_module_version": "1.5.0",
            "_view_name": "HTMLView",
            "description": "",
            "description_tooltip": null,
            "layout": "IPY_MODEL_719bfe403f9542e4b6e6df7834ce6f9b",
            "placeholder": "​",
            "style": "IPY_MODEL_8b2760ec7cc94a9bab3ffa442ac3b0ed",
            "value": " 39.0/39.0 [00:00&lt;00:00, 2.84kB/s]"
          }
        },
        "d10aaeb9a3984f9a8687a48fbabaa25c": {
          "model_module": "@jupyter-widgets/base",
          "model_name": "LayoutModel",
          "model_module_version": "1.2.0",
          "state": {
            "_model_module": "@jupyter-widgets/base",
            "_model_module_version": "1.2.0",
            "_model_name": "LayoutModel",
            "_view_count": null,
            "_view_module": "@jupyter-widgets/base",
            "_view_module_version": "1.2.0",
            "_view_name": "LayoutView",
            "align_content": null,
            "align_items": null,
            "align_self": null,
            "border": null,
            "bottom": null,
            "display": null,
            "flex": null,
            "flex_flow": null,
            "grid_area": null,
            "grid_auto_columns": null,
            "grid_auto_flow": null,
            "grid_auto_rows": null,
            "grid_column": null,
            "grid_gap": null,
            "grid_row": null,
            "grid_template_areas": null,
            "grid_template_columns": null,
            "grid_template_rows": null,
            "height": null,
            "justify_content": null,
            "justify_items": null,
            "left": null,
            "margin": null,
            "max_height": null,
            "max_width": null,
            "min_height": null,
            "min_width": null,
            "object_fit": null,
            "object_position": null,
            "order": null,
            "overflow": null,
            "overflow_x": null,
            "overflow_y": null,
            "padding": null,
            "right": null,
            "top": null,
            "visibility": null,
            "width": null
          }
        },
        "7cf65bcf812540768be97314c126b8ae": {
          "model_module": "@jupyter-widgets/base",
          "model_name": "LayoutModel",
          "model_module_version": "1.2.0",
          "state": {
            "_model_module": "@jupyter-widgets/base",
            "_model_module_version": "1.2.0",
            "_model_name": "LayoutModel",
            "_view_count": null,
            "_view_module": "@jupyter-widgets/base",
            "_view_module_version": "1.2.0",
            "_view_name": "LayoutView",
            "align_content": null,
            "align_items": null,
            "align_self": null,
            "border": null,
            "bottom": null,
            "display": null,
            "flex": null,
            "flex_flow": null,
            "grid_area": null,
            "grid_auto_columns": null,
            "grid_auto_flow": null,
            "grid_auto_rows": null,
            "grid_column": null,
            "grid_gap": null,
            "grid_row": null,
            "grid_template_areas": null,
            "grid_template_columns": null,
            "grid_template_rows": null,
            "height": null,
            "justify_content": null,
            "justify_items": null,
            "left": null,
            "margin": null,
            "max_height": null,
            "max_width": null,
            "min_height": null,
            "min_width": null,
            "object_fit": null,
            "object_position": null,
            "order": null,
            "overflow": null,
            "overflow_x": null,
            "overflow_y": null,
            "padding": null,
            "right": null,
            "top": null,
            "visibility": null,
            "width": null
          }
        },
        "57f7f66e07f14fb1a983605c7f1e1331": {
          "model_module": "@jupyter-widgets/controls",
          "model_name": "DescriptionStyleModel",
          "model_module_version": "1.5.0",
          "state": {
            "_model_module": "@jupyter-widgets/controls",
            "_model_module_version": "1.5.0",
            "_model_name": "DescriptionStyleModel",
            "_view_count": null,
            "_view_module": "@jupyter-widgets/base",
            "_view_module_version": "1.2.0",
            "_view_name": "StyleView",
            "description_width": ""
          }
        },
        "a596b40539c1436887963136bb304054": {
          "model_module": "@jupyter-widgets/base",
          "model_name": "LayoutModel",
          "model_module_version": "1.2.0",
          "state": {
            "_model_module": "@jupyter-widgets/base",
            "_model_module_version": "1.2.0",
            "_model_name": "LayoutModel",
            "_view_count": null,
            "_view_module": "@jupyter-widgets/base",
            "_view_module_version": "1.2.0",
            "_view_name": "LayoutView",
            "align_content": null,
            "align_items": null,
            "align_self": null,
            "border": null,
            "bottom": null,
            "display": null,
            "flex": null,
            "flex_flow": null,
            "grid_area": null,
            "grid_auto_columns": null,
            "grid_auto_flow": null,
            "grid_auto_rows": null,
            "grid_column": null,
            "grid_gap": null,
            "grid_row": null,
            "grid_template_areas": null,
            "grid_template_columns": null,
            "grid_template_rows": null,
            "height": null,
            "justify_content": null,
            "justify_items": null,
            "left": null,
            "margin": null,
            "max_height": null,
            "max_width": null,
            "min_height": null,
            "min_width": null,
            "object_fit": null,
            "object_position": null,
            "order": null,
            "overflow": null,
            "overflow_x": null,
            "overflow_y": null,
            "padding": null,
            "right": null,
            "top": null,
            "visibility": null,
            "width": null
          }
        },
        "b3923b1829d948d083673ab7eeb33865": {
          "model_module": "@jupyter-widgets/controls",
          "model_name": "ProgressStyleModel",
          "model_module_version": "1.5.0",
          "state": {
            "_model_module": "@jupyter-widgets/controls",
            "_model_module_version": "1.5.0",
            "_model_name": "ProgressStyleModel",
            "_view_count": null,
            "_view_module": "@jupyter-widgets/base",
            "_view_module_version": "1.2.0",
            "_view_name": "StyleView",
            "bar_color": null,
            "description_width": ""
          }
        },
        "719bfe403f9542e4b6e6df7834ce6f9b": {
          "model_module": "@jupyter-widgets/base",
          "model_name": "LayoutModel",
          "model_module_version": "1.2.0",
          "state": {
            "_model_module": "@jupyter-widgets/base",
            "_model_module_version": "1.2.0",
            "_model_name": "LayoutModel",
            "_view_count": null,
            "_view_module": "@jupyter-widgets/base",
            "_view_module_version": "1.2.0",
            "_view_name": "LayoutView",
            "align_content": null,
            "align_items": null,
            "align_self": null,
            "border": null,
            "bottom": null,
            "display": null,
            "flex": null,
            "flex_flow": null,
            "grid_area": null,
            "grid_auto_columns": null,
            "grid_auto_flow": null,
            "grid_auto_rows": null,
            "grid_column": null,
            "grid_gap": null,
            "grid_row": null,
            "grid_template_areas": null,
            "grid_template_columns": null,
            "grid_template_rows": null,
            "height": null,
            "justify_content": null,
            "justify_items": null,
            "left": null,
            "margin": null,
            "max_height": null,
            "max_width": null,
            "min_height": null,
            "min_width": null,
            "object_fit": null,
            "object_position": null,
            "order": null,
            "overflow": null,
            "overflow_x": null,
            "overflow_y": null,
            "padding": null,
            "right": null,
            "top": null,
            "visibility": null,
            "width": null
          }
        },
        "8b2760ec7cc94a9bab3ffa442ac3b0ed": {
          "model_module": "@jupyter-widgets/controls",
          "model_name": "DescriptionStyleModel",
          "model_module_version": "1.5.0",
          "state": {
            "_model_module": "@jupyter-widgets/controls",
            "_model_module_version": "1.5.0",
            "_model_name": "DescriptionStyleModel",
            "_view_count": null,
            "_view_module": "@jupyter-widgets/base",
            "_view_module_version": "1.2.0",
            "_view_name": "StyleView",
            "description_width": ""
          }
        },
        "2fadb7618c6043b1a40d5f145a4a987d": {
          "model_module": "@jupyter-widgets/controls",
          "model_name": "HBoxModel",
          "model_module_version": "1.5.0",
          "state": {
            "_dom_classes": [],
            "_model_module": "@jupyter-widgets/controls",
            "_model_module_version": "1.5.0",
            "_model_name": "HBoxModel",
            "_view_count": null,
            "_view_module": "@jupyter-widgets/controls",
            "_view_module_version": "1.5.0",
            "_view_name": "HBoxView",
            "box_style": "",
            "children": [
              "IPY_MODEL_d1ddbb1b6bea4cbd9629e5e4229dd128",
              "IPY_MODEL_7c1744b2e7ac4dfdb211dc5a7074c54e",
              "IPY_MODEL_527bb7eb209e4123beb204f8b9d595bb"
            ],
            "layout": "IPY_MODEL_538becf826254e6abd93831014b84cd9"
          }
        },
        "d1ddbb1b6bea4cbd9629e5e4229dd128": {
          "model_module": "@jupyter-widgets/controls",
          "model_name": "HTMLModel",
          "model_module_version": "1.5.0",
          "state": {
            "_dom_classes": [],
            "_model_module": "@jupyter-widgets/controls",
            "_model_module_version": "1.5.0",
            "_model_name": "HTMLModel",
            "_view_count": null,
            "_view_module": "@jupyter-widgets/controls",
            "_view_module_version": "1.5.0",
            "_view_name": "HTMLView",
            "description": "",
            "description_tooltip": null,
            "layout": "IPY_MODEL_1ff9b44d093d42de9f82757f4a8be923",
            "placeholder": "​",
            "style": "IPY_MODEL_b60eae6a9a8c49c98744480488f62a3d",
            "value": "Downloading (…)lve/main/config.json: 100%"
          }
        },
        "7c1744b2e7ac4dfdb211dc5a7074c54e": {
          "model_module": "@jupyter-widgets/controls",
          "model_name": "FloatProgressModel",
          "model_module_version": "1.5.0",
          "state": {
            "_dom_classes": [],
            "_model_module": "@jupyter-widgets/controls",
            "_model_module_version": "1.5.0",
            "_model_name": "FloatProgressModel",
            "_view_count": null,
            "_view_module": "@jupyter-widgets/controls",
            "_view_module_version": "1.5.0",
            "_view_name": "ProgressView",
            "bar_style": "success",
            "description": "",
            "description_tooltip": null,
            "layout": "IPY_MODEL_758c5e521b7448a6a6806217364754c1",
            "max": 478,
            "min": 0,
            "orientation": "horizontal",
            "style": "IPY_MODEL_cf56b4b061bf425db2d8166221b3799a",
            "value": 478
          }
        },
        "527bb7eb209e4123beb204f8b9d595bb": {
          "model_module": "@jupyter-widgets/controls",
          "model_name": "HTMLModel",
          "model_module_version": "1.5.0",
          "state": {
            "_dom_classes": [],
            "_model_module": "@jupyter-widgets/controls",
            "_model_module_version": "1.5.0",
            "_model_name": "HTMLModel",
            "_view_count": null,
            "_view_module": "@jupyter-widgets/controls",
            "_view_module_version": "1.5.0",
            "_view_name": "HTMLView",
            "description": "",
            "description_tooltip": null,
            "layout": "IPY_MODEL_5a1f39c6de7843d5b87e4d3121c48072",
            "placeholder": "​",
            "style": "IPY_MODEL_26166e496c154d48bb8caff0841eb8d4",
            "value": " 478/478 [00:00&lt;00:00, 18.8kB/s]"
          }
        },
        "538becf826254e6abd93831014b84cd9": {
          "model_module": "@jupyter-widgets/base",
          "model_name": "LayoutModel",
          "model_module_version": "1.2.0",
          "state": {
            "_model_module": "@jupyter-widgets/base",
            "_model_module_version": "1.2.0",
            "_model_name": "LayoutModel",
            "_view_count": null,
            "_view_module": "@jupyter-widgets/base",
            "_view_module_version": "1.2.0",
            "_view_name": "LayoutView",
            "align_content": null,
            "align_items": null,
            "align_self": null,
            "border": null,
            "bottom": null,
            "display": null,
            "flex": null,
            "flex_flow": null,
            "grid_area": null,
            "grid_auto_columns": null,
            "grid_auto_flow": null,
            "grid_auto_rows": null,
            "grid_column": null,
            "grid_gap": null,
            "grid_row": null,
            "grid_template_areas": null,
            "grid_template_columns": null,
            "grid_template_rows": null,
            "height": null,
            "justify_content": null,
            "justify_items": null,
            "left": null,
            "margin": null,
            "max_height": null,
            "max_width": null,
            "min_height": null,
            "min_width": null,
            "object_fit": null,
            "object_position": null,
            "order": null,
            "overflow": null,
            "overflow_x": null,
            "overflow_y": null,
            "padding": null,
            "right": null,
            "top": null,
            "visibility": null,
            "width": null
          }
        },
        "1ff9b44d093d42de9f82757f4a8be923": {
          "model_module": "@jupyter-widgets/base",
          "model_name": "LayoutModel",
          "model_module_version": "1.2.0",
          "state": {
            "_model_module": "@jupyter-widgets/base",
            "_model_module_version": "1.2.0",
            "_model_name": "LayoutModel",
            "_view_count": null,
            "_view_module": "@jupyter-widgets/base",
            "_view_module_version": "1.2.0",
            "_view_name": "LayoutView",
            "align_content": null,
            "align_items": null,
            "align_self": null,
            "border": null,
            "bottom": null,
            "display": null,
            "flex": null,
            "flex_flow": null,
            "grid_area": null,
            "grid_auto_columns": null,
            "grid_auto_flow": null,
            "grid_auto_rows": null,
            "grid_column": null,
            "grid_gap": null,
            "grid_row": null,
            "grid_template_areas": null,
            "grid_template_columns": null,
            "grid_template_rows": null,
            "height": null,
            "justify_content": null,
            "justify_items": null,
            "left": null,
            "margin": null,
            "max_height": null,
            "max_width": null,
            "min_height": null,
            "min_width": null,
            "object_fit": null,
            "object_position": null,
            "order": null,
            "overflow": null,
            "overflow_x": null,
            "overflow_y": null,
            "padding": null,
            "right": null,
            "top": null,
            "visibility": null,
            "width": null
          }
        },
        "b60eae6a9a8c49c98744480488f62a3d": {
          "model_module": "@jupyter-widgets/controls",
          "model_name": "DescriptionStyleModel",
          "model_module_version": "1.5.0",
          "state": {
            "_model_module": "@jupyter-widgets/controls",
            "_model_module_version": "1.5.0",
            "_model_name": "DescriptionStyleModel",
            "_view_count": null,
            "_view_module": "@jupyter-widgets/base",
            "_view_module_version": "1.2.0",
            "_view_name": "StyleView",
            "description_width": ""
          }
        },
        "758c5e521b7448a6a6806217364754c1": {
          "model_module": "@jupyter-widgets/base",
          "model_name": "LayoutModel",
          "model_module_version": "1.2.0",
          "state": {
            "_model_module": "@jupyter-widgets/base",
            "_model_module_version": "1.2.0",
            "_model_name": "LayoutModel",
            "_view_count": null,
            "_view_module": "@jupyter-widgets/base",
            "_view_module_version": "1.2.0",
            "_view_name": "LayoutView",
            "align_content": null,
            "align_items": null,
            "align_self": null,
            "border": null,
            "bottom": null,
            "display": null,
            "flex": null,
            "flex_flow": null,
            "grid_area": null,
            "grid_auto_columns": null,
            "grid_auto_flow": null,
            "grid_auto_rows": null,
            "grid_column": null,
            "grid_gap": null,
            "grid_row": null,
            "grid_template_areas": null,
            "grid_template_columns": null,
            "grid_template_rows": null,
            "height": null,
            "justify_content": null,
            "justify_items": null,
            "left": null,
            "margin": null,
            "max_height": null,
            "max_width": null,
            "min_height": null,
            "min_width": null,
            "object_fit": null,
            "object_position": null,
            "order": null,
            "overflow": null,
            "overflow_x": null,
            "overflow_y": null,
            "padding": null,
            "right": null,
            "top": null,
            "visibility": null,
            "width": null
          }
        },
        "cf56b4b061bf425db2d8166221b3799a": {
          "model_module": "@jupyter-widgets/controls",
          "model_name": "ProgressStyleModel",
          "model_module_version": "1.5.0",
          "state": {
            "_model_module": "@jupyter-widgets/controls",
            "_model_module_version": "1.5.0",
            "_model_name": "ProgressStyleModel",
            "_view_count": null,
            "_view_module": "@jupyter-widgets/base",
            "_view_module_version": "1.2.0",
            "_view_name": "StyleView",
            "bar_color": null,
            "description_width": ""
          }
        },
        "5a1f39c6de7843d5b87e4d3121c48072": {
          "model_module": "@jupyter-widgets/base",
          "model_name": "LayoutModel",
          "model_module_version": "1.2.0",
          "state": {
            "_model_module": "@jupyter-widgets/base",
            "_model_module_version": "1.2.0",
            "_model_name": "LayoutModel",
            "_view_count": null,
            "_view_module": "@jupyter-widgets/base",
            "_view_module_version": "1.2.0",
            "_view_name": "LayoutView",
            "align_content": null,
            "align_items": null,
            "align_self": null,
            "border": null,
            "bottom": null,
            "display": null,
            "flex": null,
            "flex_flow": null,
            "grid_area": null,
            "grid_auto_columns": null,
            "grid_auto_flow": null,
            "grid_auto_rows": null,
            "grid_column": null,
            "grid_gap": null,
            "grid_row": null,
            "grid_template_areas": null,
            "grid_template_columns": null,
            "grid_template_rows": null,
            "height": null,
            "justify_content": null,
            "justify_items": null,
            "left": null,
            "margin": null,
            "max_height": null,
            "max_width": null,
            "min_height": null,
            "min_width": null,
            "object_fit": null,
            "object_position": null,
            "order": null,
            "overflow": null,
            "overflow_x": null,
            "overflow_y": null,
            "padding": null,
            "right": null,
            "top": null,
            "visibility": null,
            "width": null
          }
        },
        "26166e496c154d48bb8caff0841eb8d4": {
          "model_module": "@jupyter-widgets/controls",
          "model_name": "DescriptionStyleModel",
          "model_module_version": "1.5.0",
          "state": {
            "_model_module": "@jupyter-widgets/controls",
            "_model_module_version": "1.5.0",
            "_model_name": "DescriptionStyleModel",
            "_view_count": null,
            "_view_module": "@jupyter-widgets/base",
            "_view_module_version": "1.2.0",
            "_view_name": "StyleView",
            "description_width": ""
          }
        },
        "70b5238f1a574daeb2c9e4185d8c2cfd": {
          "model_module": "@jupyter-widgets/controls",
          "model_name": "HBoxModel",
          "model_module_version": "1.5.0",
          "state": {
            "_dom_classes": [],
            "_model_module": "@jupyter-widgets/controls",
            "_model_module_version": "1.5.0",
            "_model_name": "HBoxModel",
            "_view_count": null,
            "_view_module": "@jupyter-widgets/controls",
            "_view_module_version": "1.5.0",
            "_view_name": "HBoxView",
            "box_style": "",
            "children": [
              "IPY_MODEL_b49631687d5b4433970f8c783b18b7fa",
              "IPY_MODEL_10231c9d708c4518a23e30eae7d4a2d1",
              "IPY_MODEL_1b703f5a755640f7ba725773283db5d4"
            ],
            "layout": "IPY_MODEL_3cfb21b1745f47d9b6628400efbdfaf0"
          }
        },
        "b49631687d5b4433970f8c783b18b7fa": {
          "model_module": "@jupyter-widgets/controls",
          "model_name": "HTMLModel",
          "model_module_version": "1.5.0",
          "state": {
            "_dom_classes": [],
            "_model_module": "@jupyter-widgets/controls",
            "_model_module_version": "1.5.0",
            "_model_name": "HTMLModel",
            "_view_count": null,
            "_view_module": "@jupyter-widgets/controls",
            "_view_module_version": "1.5.0",
            "_view_name": "HTMLView",
            "description": "",
            "description_tooltip": null,
            "layout": "IPY_MODEL_8c26db6da17d43d2aaddfedf2c5ab226",
            "placeholder": "​",
            "style": "IPY_MODEL_c9dc24f12df647778fbd0d10586c1401",
            "value": "Downloading (…)solve/main/vocab.txt: 100%"
          }
        },
        "10231c9d708c4518a23e30eae7d4a2d1": {
          "model_module": "@jupyter-widgets/controls",
          "model_name": "FloatProgressModel",
          "model_module_version": "1.5.0",
          "state": {
            "_dom_classes": [],
            "_model_module": "@jupyter-widgets/controls",
            "_model_module_version": "1.5.0",
            "_model_name": "FloatProgressModel",
            "_view_count": null,
            "_view_module": "@jupyter-widgets/controls",
            "_view_module_version": "1.5.0",
            "_view_name": "ProgressView",
            "bar_style": "success",
            "description": "",
            "description_tooltip": null,
            "layout": "IPY_MODEL_00989029d9ea4ab3b7d45450c327e9ec",
            "max": 231508,
            "min": 0,
            "orientation": "horizontal",
            "style": "IPY_MODEL_46a1365bd3484aec900a6ce6f4a3b788",
            "value": 231508
          }
        },
        "1b703f5a755640f7ba725773283db5d4": {
          "model_module": "@jupyter-widgets/controls",
          "model_name": "HTMLModel",
          "model_module_version": "1.5.0",
          "state": {
            "_dom_classes": [],
            "_model_module": "@jupyter-widgets/controls",
            "_model_module_version": "1.5.0",
            "_model_name": "HTMLModel",
            "_view_count": null,
            "_view_module": "@jupyter-widgets/controls",
            "_view_module_version": "1.5.0",
            "_view_name": "HTMLView",
            "description": "",
            "description_tooltip": null,
            "layout": "IPY_MODEL_d423aab3b231463490a5b5c8384b8bd2",
            "placeholder": "​",
            "style": "IPY_MODEL_7a697fdcacdd4c82a30f8ed84f5e0fc7",
            "value": " 232k/232k [00:00&lt;00:00, 1.72MB/s]"
          }
        },
        "3cfb21b1745f47d9b6628400efbdfaf0": {
          "model_module": "@jupyter-widgets/base",
          "model_name": "LayoutModel",
          "model_module_version": "1.2.0",
          "state": {
            "_model_module": "@jupyter-widgets/base",
            "_model_module_version": "1.2.0",
            "_model_name": "LayoutModel",
            "_view_count": null,
            "_view_module": "@jupyter-widgets/base",
            "_view_module_version": "1.2.0",
            "_view_name": "LayoutView",
            "align_content": null,
            "align_items": null,
            "align_self": null,
            "border": null,
            "bottom": null,
            "display": null,
            "flex": null,
            "flex_flow": null,
            "grid_area": null,
            "grid_auto_columns": null,
            "grid_auto_flow": null,
            "grid_auto_rows": null,
            "grid_column": null,
            "grid_gap": null,
            "grid_row": null,
            "grid_template_areas": null,
            "grid_template_columns": null,
            "grid_template_rows": null,
            "height": null,
            "justify_content": null,
            "justify_items": null,
            "left": null,
            "margin": null,
            "max_height": null,
            "max_width": null,
            "min_height": null,
            "min_width": null,
            "object_fit": null,
            "object_position": null,
            "order": null,
            "overflow": null,
            "overflow_x": null,
            "overflow_y": null,
            "padding": null,
            "right": null,
            "top": null,
            "visibility": null,
            "width": null
          }
        },
        "8c26db6da17d43d2aaddfedf2c5ab226": {
          "model_module": "@jupyter-widgets/base",
          "model_name": "LayoutModel",
          "model_module_version": "1.2.0",
          "state": {
            "_model_module": "@jupyter-widgets/base",
            "_model_module_version": "1.2.0",
            "_model_name": "LayoutModel",
            "_view_count": null,
            "_view_module": "@jupyter-widgets/base",
            "_view_module_version": "1.2.0",
            "_view_name": "LayoutView",
            "align_content": null,
            "align_items": null,
            "align_self": null,
            "border": null,
            "bottom": null,
            "display": null,
            "flex": null,
            "flex_flow": null,
            "grid_area": null,
            "grid_auto_columns": null,
            "grid_auto_flow": null,
            "grid_auto_rows": null,
            "grid_column": null,
            "grid_gap": null,
            "grid_row": null,
            "grid_template_areas": null,
            "grid_template_columns": null,
            "grid_template_rows": null,
            "height": null,
            "justify_content": null,
            "justify_items": null,
            "left": null,
            "margin": null,
            "max_height": null,
            "max_width": null,
            "min_height": null,
            "min_width": null,
            "object_fit": null,
            "object_position": null,
            "order": null,
            "overflow": null,
            "overflow_x": null,
            "overflow_y": null,
            "padding": null,
            "right": null,
            "top": null,
            "visibility": null,
            "width": null
          }
        },
        "c9dc24f12df647778fbd0d10586c1401": {
          "model_module": "@jupyter-widgets/controls",
          "model_name": "DescriptionStyleModel",
          "model_module_version": "1.5.0",
          "state": {
            "_model_module": "@jupyter-widgets/controls",
            "_model_module_version": "1.5.0",
            "_model_name": "DescriptionStyleModel",
            "_view_count": null,
            "_view_module": "@jupyter-widgets/base",
            "_view_module_version": "1.2.0",
            "_view_name": "StyleView",
            "description_width": ""
          }
        },
        "00989029d9ea4ab3b7d45450c327e9ec": {
          "model_module": "@jupyter-widgets/base",
          "model_name": "LayoutModel",
          "model_module_version": "1.2.0",
          "state": {
            "_model_module": "@jupyter-widgets/base",
            "_model_module_version": "1.2.0",
            "_model_name": "LayoutModel",
            "_view_count": null,
            "_view_module": "@jupyter-widgets/base",
            "_view_module_version": "1.2.0",
            "_view_name": "LayoutView",
            "align_content": null,
            "align_items": null,
            "align_self": null,
            "border": null,
            "bottom": null,
            "display": null,
            "flex": null,
            "flex_flow": null,
            "grid_area": null,
            "grid_auto_columns": null,
            "grid_auto_flow": null,
            "grid_auto_rows": null,
            "grid_column": null,
            "grid_gap": null,
            "grid_row": null,
            "grid_template_areas": null,
            "grid_template_columns": null,
            "grid_template_rows": null,
            "height": null,
            "justify_content": null,
            "justify_items": null,
            "left": null,
            "margin": null,
            "max_height": null,
            "max_width": null,
            "min_height": null,
            "min_width": null,
            "object_fit": null,
            "object_position": null,
            "order": null,
            "overflow": null,
            "overflow_x": null,
            "overflow_y": null,
            "padding": null,
            "right": null,
            "top": null,
            "visibility": null,
            "width": null
          }
        },
        "46a1365bd3484aec900a6ce6f4a3b788": {
          "model_module": "@jupyter-widgets/controls",
          "model_name": "ProgressStyleModel",
          "model_module_version": "1.5.0",
          "state": {
            "_model_module": "@jupyter-widgets/controls",
            "_model_module_version": "1.5.0",
            "_model_name": "ProgressStyleModel",
            "_view_count": null,
            "_view_module": "@jupyter-widgets/base",
            "_view_module_version": "1.2.0",
            "_view_name": "StyleView",
            "bar_color": null,
            "description_width": ""
          }
        },
        "d423aab3b231463490a5b5c8384b8bd2": {
          "model_module": "@jupyter-widgets/base",
          "model_name": "LayoutModel",
          "model_module_version": "1.2.0",
          "state": {
            "_model_module": "@jupyter-widgets/base",
            "_model_module_version": "1.2.0",
            "_model_name": "LayoutModel",
            "_view_count": null,
            "_view_module": "@jupyter-widgets/base",
            "_view_module_version": "1.2.0",
            "_view_name": "LayoutView",
            "align_content": null,
            "align_items": null,
            "align_self": null,
            "border": null,
            "bottom": null,
            "display": null,
            "flex": null,
            "flex_flow": null,
            "grid_area": null,
            "grid_auto_columns": null,
            "grid_auto_flow": null,
            "grid_auto_rows": null,
            "grid_column": null,
            "grid_gap": null,
            "grid_row": null,
            "grid_template_areas": null,
            "grid_template_columns": null,
            "grid_template_rows": null,
            "height": null,
            "justify_content": null,
            "justify_items": null,
            "left": null,
            "margin": null,
            "max_height": null,
            "max_width": null,
            "min_height": null,
            "min_width": null,
            "object_fit": null,
            "object_position": null,
            "order": null,
            "overflow": null,
            "overflow_x": null,
            "overflow_y": null,
            "padding": null,
            "right": null,
            "top": null,
            "visibility": null,
            "width": null
          }
        },
        "7a697fdcacdd4c82a30f8ed84f5e0fc7": {
          "model_module": "@jupyter-widgets/controls",
          "model_name": "DescriptionStyleModel",
          "model_module_version": "1.5.0",
          "state": {
            "_model_module": "@jupyter-widgets/controls",
            "_model_module_version": "1.5.0",
            "_model_name": "DescriptionStyleModel",
            "_view_count": null,
            "_view_module": "@jupyter-widgets/base",
            "_view_module_version": "1.2.0",
            "_view_name": "StyleView",
            "description_width": ""
          }
        },
        "fca8f927c9c54b87a517e433b1fd75d5": {
          "model_module": "@jupyter-widgets/controls",
          "model_name": "HBoxModel",
          "model_module_version": "1.5.0",
          "state": {
            "_dom_classes": [],
            "_model_module": "@jupyter-widgets/controls",
            "_model_module_version": "1.5.0",
            "_model_name": "HBoxModel",
            "_view_count": null,
            "_view_module": "@jupyter-widgets/controls",
            "_view_module_version": "1.5.0",
            "_view_name": "HBoxView",
            "box_style": "",
            "children": [
              "IPY_MODEL_1aef9255bdfa44ec8f3cc09bda8a5f6d",
              "IPY_MODEL_87f00a9297914867bcee5f601a79d650",
              "IPY_MODEL_5c54245742734ec78205e4c37e32030f"
            ],
            "layout": "IPY_MODEL_3ee91a14bd114fbcb8f2c45ef7eb6c7c"
          }
        },
        "1aef9255bdfa44ec8f3cc09bda8a5f6d": {
          "model_module": "@jupyter-widgets/controls",
          "model_name": "HTMLModel",
          "model_module_version": "1.5.0",
          "state": {
            "_dom_classes": [],
            "_model_module": "@jupyter-widgets/controls",
            "_model_module_version": "1.5.0",
            "_model_name": "HTMLModel",
            "_view_count": null,
            "_view_module": "@jupyter-widgets/controls",
            "_view_module_version": "1.5.0",
            "_view_name": "HTMLView",
            "description": "",
            "description_tooltip": null,
            "layout": "IPY_MODEL_9004fbff476e4044aa855c1a77c3ad56",
            "placeholder": "​",
            "style": "IPY_MODEL_ded6bb89c40249488c0a33b8538d14f1",
            "value": "Downloading (…)cial_tokens_map.json: 100%"
          }
        },
        "87f00a9297914867bcee5f601a79d650": {
          "model_module": "@jupyter-widgets/controls",
          "model_name": "FloatProgressModel",
          "model_module_version": "1.5.0",
          "state": {
            "_dom_classes": [],
            "_model_module": "@jupyter-widgets/controls",
            "_model_module_version": "1.5.0",
            "_model_name": "FloatProgressModel",
            "_view_count": null,
            "_view_module": "@jupyter-widgets/controls",
            "_view_module_version": "1.5.0",
            "_view_name": "ProgressView",
            "bar_style": "success",
            "description": "",
            "description_tooltip": null,
            "layout": "IPY_MODEL_3a5370d23f534231b0569838b86783a4",
            "max": 112,
            "min": 0,
            "orientation": "horizontal",
            "style": "IPY_MODEL_91346bd140e04924bd226335c2869fb1",
            "value": 112
          }
        },
        "5c54245742734ec78205e4c37e32030f": {
          "model_module": "@jupyter-widgets/controls",
          "model_name": "HTMLModel",
          "model_module_version": "1.5.0",
          "state": {
            "_dom_classes": [],
            "_model_module": "@jupyter-widgets/controls",
            "_model_module_version": "1.5.0",
            "_model_name": "HTMLModel",
            "_view_count": null,
            "_view_module": "@jupyter-widgets/controls",
            "_view_module_version": "1.5.0",
            "_view_name": "HTMLView",
            "description": "",
            "description_tooltip": null,
            "layout": "IPY_MODEL_7fc64248d60e4a0b85dc6a7b5659911e",
            "placeholder": "​",
            "style": "IPY_MODEL_ec6fd73f566246d9a6c10c37d06be449",
            "value": " 112/112 [00:00&lt;00:00, 8.89kB/s]"
          }
        },
        "3ee91a14bd114fbcb8f2c45ef7eb6c7c": {
          "model_module": "@jupyter-widgets/base",
          "model_name": "LayoutModel",
          "model_module_version": "1.2.0",
          "state": {
            "_model_module": "@jupyter-widgets/base",
            "_model_module_version": "1.2.0",
            "_model_name": "LayoutModel",
            "_view_count": null,
            "_view_module": "@jupyter-widgets/base",
            "_view_module_version": "1.2.0",
            "_view_name": "LayoutView",
            "align_content": null,
            "align_items": null,
            "align_self": null,
            "border": null,
            "bottom": null,
            "display": null,
            "flex": null,
            "flex_flow": null,
            "grid_area": null,
            "grid_auto_columns": null,
            "grid_auto_flow": null,
            "grid_auto_rows": null,
            "grid_column": null,
            "grid_gap": null,
            "grid_row": null,
            "grid_template_areas": null,
            "grid_template_columns": null,
            "grid_template_rows": null,
            "height": null,
            "justify_content": null,
            "justify_items": null,
            "left": null,
            "margin": null,
            "max_height": null,
            "max_width": null,
            "min_height": null,
            "min_width": null,
            "object_fit": null,
            "object_position": null,
            "order": null,
            "overflow": null,
            "overflow_x": null,
            "overflow_y": null,
            "padding": null,
            "right": null,
            "top": null,
            "visibility": null,
            "width": null
          }
        },
        "9004fbff476e4044aa855c1a77c3ad56": {
          "model_module": "@jupyter-widgets/base",
          "model_name": "LayoutModel",
          "model_module_version": "1.2.0",
          "state": {
            "_model_module": "@jupyter-widgets/base",
            "_model_module_version": "1.2.0",
            "_model_name": "LayoutModel",
            "_view_count": null,
            "_view_module": "@jupyter-widgets/base",
            "_view_module_version": "1.2.0",
            "_view_name": "LayoutView",
            "align_content": null,
            "align_items": null,
            "align_self": null,
            "border": null,
            "bottom": null,
            "display": null,
            "flex": null,
            "flex_flow": null,
            "grid_area": null,
            "grid_auto_columns": null,
            "grid_auto_flow": null,
            "grid_auto_rows": null,
            "grid_column": null,
            "grid_gap": null,
            "grid_row": null,
            "grid_template_areas": null,
            "grid_template_columns": null,
            "grid_template_rows": null,
            "height": null,
            "justify_content": null,
            "justify_items": null,
            "left": null,
            "margin": null,
            "max_height": null,
            "max_width": null,
            "min_height": null,
            "min_width": null,
            "object_fit": null,
            "object_position": null,
            "order": null,
            "overflow": null,
            "overflow_x": null,
            "overflow_y": null,
            "padding": null,
            "right": null,
            "top": null,
            "visibility": null,
            "width": null
          }
        },
        "ded6bb89c40249488c0a33b8538d14f1": {
          "model_module": "@jupyter-widgets/controls",
          "model_name": "DescriptionStyleModel",
          "model_module_version": "1.5.0",
          "state": {
            "_model_module": "@jupyter-widgets/controls",
            "_model_module_version": "1.5.0",
            "_model_name": "DescriptionStyleModel",
            "_view_count": null,
            "_view_module": "@jupyter-widgets/base",
            "_view_module_version": "1.2.0",
            "_view_name": "StyleView",
            "description_width": ""
          }
        },
        "3a5370d23f534231b0569838b86783a4": {
          "model_module": "@jupyter-widgets/base",
          "model_name": "LayoutModel",
          "model_module_version": "1.2.0",
          "state": {
            "_model_module": "@jupyter-widgets/base",
            "_model_module_version": "1.2.0",
            "_model_name": "LayoutModel",
            "_view_count": null,
            "_view_module": "@jupyter-widgets/base",
            "_view_module_version": "1.2.0",
            "_view_name": "LayoutView",
            "align_content": null,
            "align_items": null,
            "align_self": null,
            "border": null,
            "bottom": null,
            "display": null,
            "flex": null,
            "flex_flow": null,
            "grid_area": null,
            "grid_auto_columns": null,
            "grid_auto_flow": null,
            "grid_auto_rows": null,
            "grid_column": null,
            "grid_gap": null,
            "grid_row": null,
            "grid_template_areas": null,
            "grid_template_columns": null,
            "grid_template_rows": null,
            "height": null,
            "justify_content": null,
            "justify_items": null,
            "left": null,
            "margin": null,
            "max_height": null,
            "max_width": null,
            "min_height": null,
            "min_width": null,
            "object_fit": null,
            "object_position": null,
            "order": null,
            "overflow": null,
            "overflow_x": null,
            "overflow_y": null,
            "padding": null,
            "right": null,
            "top": null,
            "visibility": null,
            "width": null
          }
        },
        "91346bd140e04924bd226335c2869fb1": {
          "model_module": "@jupyter-widgets/controls",
          "model_name": "ProgressStyleModel",
          "model_module_version": "1.5.0",
          "state": {
            "_model_module": "@jupyter-widgets/controls",
            "_model_module_version": "1.5.0",
            "_model_name": "ProgressStyleModel",
            "_view_count": null,
            "_view_module": "@jupyter-widgets/base",
            "_view_module_version": "1.2.0",
            "_view_name": "StyleView",
            "bar_color": null,
            "description_width": ""
          }
        },
        "7fc64248d60e4a0b85dc6a7b5659911e": {
          "model_module": "@jupyter-widgets/base",
          "model_name": "LayoutModel",
          "model_module_version": "1.2.0",
          "state": {
            "_model_module": "@jupyter-widgets/base",
            "_model_module_version": "1.2.0",
            "_model_name": "LayoutModel",
            "_view_count": null,
            "_view_module": "@jupyter-widgets/base",
            "_view_module_version": "1.2.0",
            "_view_name": "LayoutView",
            "align_content": null,
            "align_items": null,
            "align_self": null,
            "border": null,
            "bottom": null,
            "display": null,
            "flex": null,
            "flex_flow": null,
            "grid_area": null,
            "grid_auto_columns": null,
            "grid_auto_flow": null,
            "grid_auto_rows": null,
            "grid_column": null,
            "grid_gap": null,
            "grid_row": null,
            "grid_template_areas": null,
            "grid_template_columns": null,
            "grid_template_rows": null,
            "height": null,
            "justify_content": null,
            "justify_items": null,
            "left": null,
            "margin": null,
            "max_height": null,
            "max_width": null,
            "min_height": null,
            "min_width": null,
            "object_fit": null,
            "object_position": null,
            "order": null,
            "overflow": null,
            "overflow_x": null,
            "overflow_y": null,
            "padding": null,
            "right": null,
            "top": null,
            "visibility": null,
            "width": null
          }
        },
        "ec6fd73f566246d9a6c10c37d06be449": {
          "model_module": "@jupyter-widgets/controls",
          "model_name": "DescriptionStyleModel",
          "model_module_version": "1.5.0",
          "state": {
            "_model_module": "@jupyter-widgets/controls",
            "_model_module_version": "1.5.0",
            "_model_name": "DescriptionStyleModel",
            "_view_count": null,
            "_view_module": "@jupyter-widgets/base",
            "_view_module_version": "1.2.0",
            "_view_name": "StyleView",
            "description_width": ""
          }
        },
        "6b2b24c0e5b84e86a7253198761209f9": {
          "model_module": "@jupyter-widgets/controls",
          "model_name": "HBoxModel",
          "model_module_version": "1.5.0",
          "state": {
            "_dom_classes": [],
            "_model_module": "@jupyter-widgets/controls",
            "_model_module_version": "1.5.0",
            "_model_name": "HBoxModel",
            "_view_count": null,
            "_view_module": "@jupyter-widgets/controls",
            "_view_module_version": "1.5.0",
            "_view_name": "HBoxView",
            "box_style": "",
            "children": [
              "IPY_MODEL_e2a6487d99ec4cb78f164e82654b6070",
              "IPY_MODEL_405c2ec7bdfb43fb9bf3fc8046ce4f39",
              "IPY_MODEL_5157a0d0ceaa434983bf24d7cc5b96ad"
            ],
            "layout": "IPY_MODEL_4988642daa594fddb8d48151cace491c"
          }
        },
        "e2a6487d99ec4cb78f164e82654b6070": {
          "model_module": "@jupyter-widgets/controls",
          "model_name": "HTMLModel",
          "model_module_version": "1.5.0",
          "state": {
            "_dom_classes": [],
            "_model_module": "@jupyter-widgets/controls",
            "_model_module_version": "1.5.0",
            "_model_name": "HTMLModel",
            "_view_count": null,
            "_view_module": "@jupyter-widgets/controls",
            "_view_module_version": "1.5.0",
            "_view_name": "HTMLView",
            "description": "",
            "description_tooltip": null,
            "layout": "IPY_MODEL_0cb2f97514ba4ace8e6c439e3507e326",
            "placeholder": "​",
            "style": "IPY_MODEL_16d5cded15874d3598f5123108842a33",
            "value": "Downloading pytorch_model.bin: 100%"
          }
        },
        "405c2ec7bdfb43fb9bf3fc8046ce4f39": {
          "model_module": "@jupyter-widgets/controls",
          "model_name": "FloatProgressModel",
          "model_module_version": "1.5.0",
          "state": {
            "_dom_classes": [],
            "_model_module": "@jupyter-widgets/controls",
            "_model_module_version": "1.5.0",
            "_model_name": "FloatProgressModel",
            "_view_count": null,
            "_view_module": "@jupyter-widgets/controls",
            "_view_module_version": "1.5.0",
            "_view_name": "ProgressView",
            "bar_style": "success",
            "description": "",
            "description_tooltip": null,
            "layout": "IPY_MODEL_9c6f1d134e8a4b1bba8fc50e28c5a845",
            "max": 265482418,
            "min": 0,
            "orientation": "horizontal",
            "style": "IPY_MODEL_89af8784f0c84795a83819d1881547de",
            "value": 265482418
          }
        },
        "5157a0d0ceaa434983bf24d7cc5b96ad": {
          "model_module": "@jupyter-widgets/controls",
          "model_name": "HTMLModel",
          "model_module_version": "1.5.0",
          "state": {
            "_dom_classes": [],
            "_model_module": "@jupyter-widgets/controls",
            "_model_module_version": "1.5.0",
            "_model_name": "HTMLModel",
            "_view_count": null,
            "_view_module": "@jupyter-widgets/controls",
            "_view_module_version": "1.5.0",
            "_view_name": "HTMLView",
            "description": "",
            "description_tooltip": null,
            "layout": "IPY_MODEL_cbdd2b25e58549b585af844f74278a9f",
            "placeholder": "​",
            "style": "IPY_MODEL_fabb605b1c5d4c40ac50bba821f8c950",
            "value": " 265M/265M [00:01&lt;00:00, 200MB/s]"
          }
        },
        "4988642daa594fddb8d48151cace491c": {
          "model_module": "@jupyter-widgets/base",
          "model_name": "LayoutModel",
          "model_module_version": "1.2.0",
          "state": {
            "_model_module": "@jupyter-widgets/base",
            "_model_module_version": "1.2.0",
            "_model_name": "LayoutModel",
            "_view_count": null,
            "_view_module": "@jupyter-widgets/base",
            "_view_module_version": "1.2.0",
            "_view_name": "LayoutView",
            "align_content": null,
            "align_items": null,
            "align_self": null,
            "border": null,
            "bottom": null,
            "display": null,
            "flex": null,
            "flex_flow": null,
            "grid_area": null,
            "grid_auto_columns": null,
            "grid_auto_flow": null,
            "grid_auto_rows": null,
            "grid_column": null,
            "grid_gap": null,
            "grid_row": null,
            "grid_template_areas": null,
            "grid_template_columns": null,
            "grid_template_rows": null,
            "height": null,
            "justify_content": null,
            "justify_items": null,
            "left": null,
            "margin": null,
            "max_height": null,
            "max_width": null,
            "min_height": null,
            "min_width": null,
            "object_fit": null,
            "object_position": null,
            "order": null,
            "overflow": null,
            "overflow_x": null,
            "overflow_y": null,
            "padding": null,
            "right": null,
            "top": null,
            "visibility": null,
            "width": null
          }
        },
        "0cb2f97514ba4ace8e6c439e3507e326": {
          "model_module": "@jupyter-widgets/base",
          "model_name": "LayoutModel",
          "model_module_version": "1.2.0",
          "state": {
            "_model_module": "@jupyter-widgets/base",
            "_model_module_version": "1.2.0",
            "_model_name": "LayoutModel",
            "_view_count": null,
            "_view_module": "@jupyter-widgets/base",
            "_view_module_version": "1.2.0",
            "_view_name": "LayoutView",
            "align_content": null,
            "align_items": null,
            "align_self": null,
            "border": null,
            "bottom": null,
            "display": null,
            "flex": null,
            "flex_flow": null,
            "grid_area": null,
            "grid_auto_columns": null,
            "grid_auto_flow": null,
            "grid_auto_rows": null,
            "grid_column": null,
            "grid_gap": null,
            "grid_row": null,
            "grid_template_areas": null,
            "grid_template_columns": null,
            "grid_template_rows": null,
            "height": null,
            "justify_content": null,
            "justify_items": null,
            "left": null,
            "margin": null,
            "max_height": null,
            "max_width": null,
            "min_height": null,
            "min_width": null,
            "object_fit": null,
            "object_position": null,
            "order": null,
            "overflow": null,
            "overflow_x": null,
            "overflow_y": null,
            "padding": null,
            "right": null,
            "top": null,
            "visibility": null,
            "width": null
          }
        },
        "16d5cded15874d3598f5123108842a33": {
          "model_module": "@jupyter-widgets/controls",
          "model_name": "DescriptionStyleModel",
          "model_module_version": "1.5.0",
          "state": {
            "_model_module": "@jupyter-widgets/controls",
            "_model_module_version": "1.5.0",
            "_model_name": "DescriptionStyleModel",
            "_view_count": null,
            "_view_module": "@jupyter-widgets/base",
            "_view_module_version": "1.2.0",
            "_view_name": "StyleView",
            "description_width": ""
          }
        },
        "9c6f1d134e8a4b1bba8fc50e28c5a845": {
          "model_module": "@jupyter-widgets/base",
          "model_name": "LayoutModel",
          "model_module_version": "1.2.0",
          "state": {
            "_model_module": "@jupyter-widgets/base",
            "_model_module_version": "1.2.0",
            "_model_name": "LayoutModel",
            "_view_count": null,
            "_view_module": "@jupyter-widgets/base",
            "_view_module_version": "1.2.0",
            "_view_name": "LayoutView",
            "align_content": null,
            "align_items": null,
            "align_self": null,
            "border": null,
            "bottom": null,
            "display": null,
            "flex": null,
            "flex_flow": null,
            "grid_area": null,
            "grid_auto_columns": null,
            "grid_auto_flow": null,
            "grid_auto_rows": null,
            "grid_column": null,
            "grid_gap": null,
            "grid_row": null,
            "grid_template_areas": null,
            "grid_template_columns": null,
            "grid_template_rows": null,
            "height": null,
            "justify_content": null,
            "justify_items": null,
            "left": null,
            "margin": null,
            "max_height": null,
            "max_width": null,
            "min_height": null,
            "min_width": null,
            "object_fit": null,
            "object_position": null,
            "order": null,
            "overflow": null,
            "overflow_x": null,
            "overflow_y": null,
            "padding": null,
            "right": null,
            "top": null,
            "visibility": null,
            "width": null
          }
        },
        "89af8784f0c84795a83819d1881547de": {
          "model_module": "@jupyter-widgets/controls",
          "model_name": "ProgressStyleModel",
          "model_module_version": "1.5.0",
          "state": {
            "_model_module": "@jupyter-widgets/controls",
            "_model_module_version": "1.5.0",
            "_model_name": "ProgressStyleModel",
            "_view_count": null,
            "_view_module": "@jupyter-widgets/base",
            "_view_module_version": "1.2.0",
            "_view_name": "StyleView",
            "bar_color": null,
            "description_width": ""
          }
        },
        "cbdd2b25e58549b585af844f74278a9f": {
          "model_module": "@jupyter-widgets/base",
          "model_name": "LayoutModel",
          "model_module_version": "1.2.0",
          "state": {
            "_model_module": "@jupyter-widgets/base",
            "_model_module_version": "1.2.0",
            "_model_name": "LayoutModel",
            "_view_count": null,
            "_view_module": "@jupyter-widgets/base",
            "_view_module_version": "1.2.0",
            "_view_name": "LayoutView",
            "align_content": null,
            "align_items": null,
            "align_self": null,
            "border": null,
            "bottom": null,
            "display": null,
            "flex": null,
            "flex_flow": null,
            "grid_area": null,
            "grid_auto_columns": null,
            "grid_auto_flow": null,
            "grid_auto_rows": null,
            "grid_column": null,
            "grid_gap": null,
            "grid_row": null,
            "grid_template_areas": null,
            "grid_template_columns": null,
            "grid_template_rows": null,
            "height": null,
            "justify_content": null,
            "justify_items": null,
            "left": null,
            "margin": null,
            "max_height": null,
            "max_width": null,
            "min_height": null,
            "min_width": null,
            "object_fit": null,
            "object_position": null,
            "order": null,
            "overflow": null,
            "overflow_x": null,
            "overflow_y": null,
            "padding": null,
            "right": null,
            "top": null,
            "visibility": null,
            "width": null
          }
        },
        "fabb605b1c5d4c40ac50bba821f8c950": {
          "model_module": "@jupyter-widgets/controls",
          "model_name": "DescriptionStyleModel",
          "model_module_version": "1.5.0",
          "state": {
            "_model_module": "@jupyter-widgets/controls",
            "_model_module_version": "1.5.0",
            "_model_name": "DescriptionStyleModel",
            "_view_count": null,
            "_view_module": "@jupyter-widgets/base",
            "_view_module_version": "1.2.0",
            "_view_name": "StyleView",
            "description_width": ""
          }
        }
      }
    },
    "accelerator": "GPU"
  },
  "cells": [
    {
      "cell_type": "markdown",
      "metadata": {
        "id": "view-in-github",
        "colab_type": "text"
      },
      "source": [
        "<a href=\"https://colab.research.google.com/github/Spartan-119/A-B-Testing-Approach-for-Comparing-Performance-of-ML-Models/blob/main/a_b_testing_implementation.ipynb\" target=\"_parent\"><img src=\"https://colab.research.google.com/assets/colab-badge.svg\" alt=\"Open In Colab\"/></a>"
      ]
    },
    {
      "cell_type": "code",
      "execution_count": 1,
      "metadata": {
        "colab": {
          "base_uri": "https://localhost:8080/"
        },
        "id": "OSkHP5LdeEgj",
        "outputId": "2e19d1fa-13e3-436c-8257-f0d8a9e73b07"
      },
      "outputs": [
        {
          "output_type": "stream",
          "name": "stdout",
          "text": [
            "Looking in indexes: https://pypi.org/simple, https://download.pytorch.org/whl/cu116\n",
            "Requirement already satisfied: torch in /usr/local/lib/python3.10/dist-packages (2.0.1+cu118)\n",
            "Requirement already satisfied: torchvision in /usr/local/lib/python3.10/dist-packages (0.15.2+cu118)\n",
            "Requirement already satisfied: torchaudio in /usr/local/lib/python3.10/dist-packages (2.0.2+cu118)\n",
            "Requirement already satisfied: filelock in /usr/local/lib/python3.10/dist-packages (from torch) (3.12.2)\n",
            "Requirement already satisfied: typing-extensions in /usr/local/lib/python3.10/dist-packages (from torch) (4.5.0)\n",
            "Requirement already satisfied: sympy in /usr/local/lib/python3.10/dist-packages (from torch) (1.12)\n",
            "Requirement already satisfied: networkx in /usr/local/lib/python3.10/dist-packages (from torch) (3.1)\n",
            "Requirement already satisfied: jinja2 in /usr/local/lib/python3.10/dist-packages (from torch) (3.1.2)\n",
            "Requirement already satisfied: triton==2.0.0 in /usr/local/lib/python3.10/dist-packages (from torch) (2.0.0)\n",
            "Requirement already satisfied: cmake in /usr/local/lib/python3.10/dist-packages (from triton==2.0.0->torch) (3.27.4.1)\n",
            "Requirement already satisfied: lit in /usr/local/lib/python3.10/dist-packages (from triton==2.0.0->torch) (16.0.6)\n",
            "Requirement already satisfied: numpy in /usr/local/lib/python3.10/dist-packages (from torchvision) (1.23.5)\n",
            "Requirement already satisfied: requests in /usr/local/lib/python3.10/dist-packages (from torchvision) (2.31.0)\n",
            "Requirement already satisfied: pillow!=8.3.*,>=5.3.0 in /usr/local/lib/python3.10/dist-packages (from torchvision) (9.4.0)\n",
            "Requirement already satisfied: MarkupSafe>=2.0 in /usr/local/lib/python3.10/dist-packages (from jinja2->torch) (2.1.3)\n",
            "Requirement already satisfied: charset-normalizer<4,>=2 in /usr/local/lib/python3.10/dist-packages (from requests->torchvision) (3.2.0)\n",
            "Requirement already satisfied: idna<4,>=2.5 in /usr/local/lib/python3.10/dist-packages (from requests->torchvision) (3.4)\n",
            "Requirement already satisfied: urllib3<3,>=1.21.1 in /usr/local/lib/python3.10/dist-packages (from requests->torchvision) (2.0.4)\n",
            "Requirement already satisfied: certifi>=2017.4.17 in /usr/local/lib/python3.10/dist-packages (from requests->torchvision) (2023.7.22)\n",
            "Requirement already satisfied: mpmath>=0.19 in /usr/local/lib/python3.10/dist-packages (from sympy->torch) (1.3.0)\n",
            "Collecting transformers\n",
            "  Downloading transformers-4.33.1-py3-none-any.whl (7.6 MB)\n",
            "\u001b[2K     \u001b[90m━━━━━━━━━━━━━━━━━━━━━━━━━━━━━━━━━━━━━━━━\u001b[0m \u001b[32m7.6/7.6 MB\u001b[0m \u001b[31m21.0 MB/s\u001b[0m eta \u001b[36m0:00:00\u001b[0m\n",
            "\u001b[?25hRequirement already satisfied: filelock in /usr/local/lib/python3.10/dist-packages (from transformers) (3.12.2)\n",
            "Collecting huggingface-hub<1.0,>=0.15.1 (from transformers)\n",
            "  Downloading huggingface_hub-0.17.1-py3-none-any.whl (294 kB)\n",
            "\u001b[2K     \u001b[90m━━━━━━━━━━━━━━━━━━━━━━━━━━━━━━━━━━━━━━\u001b[0m \u001b[32m294.8/294.8 kB\u001b[0m \u001b[31m35.2 MB/s\u001b[0m eta \u001b[36m0:00:00\u001b[0m\n",
            "\u001b[?25hRequirement already satisfied: numpy>=1.17 in /usr/local/lib/python3.10/dist-packages (from transformers) (1.23.5)\n",
            "Requirement already satisfied: packaging>=20.0 in /usr/local/lib/python3.10/dist-packages (from transformers) (23.1)\n",
            "Requirement already satisfied: pyyaml>=5.1 in /usr/local/lib/python3.10/dist-packages (from transformers) (6.0.1)\n",
            "Requirement already satisfied: regex!=2019.12.17 in /usr/local/lib/python3.10/dist-packages (from transformers) (2023.6.3)\n",
            "Requirement already satisfied: requests in /usr/local/lib/python3.10/dist-packages (from transformers) (2.31.0)\n",
            "Collecting tokenizers!=0.11.3,<0.14,>=0.11.1 (from transformers)\n",
            "  Downloading tokenizers-0.13.3-cp310-cp310-manylinux_2_17_x86_64.manylinux2014_x86_64.whl (7.8 MB)\n",
            "\u001b[2K     \u001b[90m━━━━━━━━━━━━━━━━━━━━━━━━━━━━━━━━━━━━━━━━\u001b[0m \u001b[32m7.8/7.8 MB\u001b[0m \u001b[31m51.8 MB/s\u001b[0m eta \u001b[36m0:00:00\u001b[0m\n",
            "\u001b[?25hCollecting safetensors>=0.3.1 (from transformers)\n",
            "  Downloading safetensors-0.3.3-cp310-cp310-manylinux_2_17_x86_64.manylinux2014_x86_64.whl (1.3 MB)\n",
            "\u001b[2K     \u001b[90m━━━━━━━━━━━━━━━━━━━━━━━━━━━━━━━━━━━━━━━━\u001b[0m \u001b[32m1.3/1.3 MB\u001b[0m \u001b[31m65.4 MB/s\u001b[0m eta \u001b[36m0:00:00\u001b[0m\n",
            "\u001b[?25hRequirement already satisfied: tqdm>=4.27 in /usr/local/lib/python3.10/dist-packages (from transformers) (4.66.1)\n",
            "Requirement already satisfied: fsspec in /usr/local/lib/python3.10/dist-packages (from huggingface-hub<1.0,>=0.15.1->transformers) (2023.6.0)\n",
            "Requirement already satisfied: typing-extensions>=3.7.4.3 in /usr/local/lib/python3.10/dist-packages (from huggingface-hub<1.0,>=0.15.1->transformers) (4.5.0)\n",
            "Requirement already satisfied: charset-normalizer<4,>=2 in /usr/local/lib/python3.10/dist-packages (from requests->transformers) (3.2.0)\n",
            "Requirement already satisfied: idna<4,>=2.5 in /usr/local/lib/python3.10/dist-packages (from requests->transformers) (3.4)\n",
            "Requirement already satisfied: urllib3<3,>=1.21.1 in /usr/local/lib/python3.10/dist-packages (from requests->transformers) (2.0.4)\n",
            "Requirement already satisfied: certifi>=2017.4.17 in /usr/local/lib/python3.10/dist-packages (from requests->transformers) (2023.7.22)\n",
            "Installing collected packages: tokenizers, safetensors, huggingface-hub, transformers\n",
            "Successfully installed huggingface-hub-0.17.1 safetensors-0.3.3 tokenizers-0.13.3 transformers-4.33.1\n",
            "Requirement already satisfied: tqdm in /usr/local/lib/python3.10/dist-packages (4.66.1)\n",
            "Requirement already satisfied: tensorboard in /usr/local/lib/python3.10/dist-packages (2.13.0)\n",
            "Requirement already satisfied: absl-py>=0.4 in /usr/local/lib/python3.10/dist-packages (from tensorboard) (1.4.0)\n",
            "Requirement already satisfied: grpcio>=1.48.2 in /usr/local/lib/python3.10/dist-packages (from tensorboard) (1.57.0)\n",
            "Requirement already satisfied: google-auth<3,>=1.6.3 in /usr/local/lib/python3.10/dist-packages (from tensorboard) (2.17.3)\n",
            "Requirement already satisfied: google-auth-oauthlib<1.1,>=0.5 in /usr/local/lib/python3.10/dist-packages (from tensorboard) (1.0.0)\n",
            "Requirement already satisfied: markdown>=2.6.8 in /usr/local/lib/python3.10/dist-packages (from tensorboard) (3.4.4)\n",
            "Requirement already satisfied: numpy>=1.12.0 in /usr/local/lib/python3.10/dist-packages (from tensorboard) (1.23.5)\n",
            "Requirement already satisfied: protobuf>=3.19.6 in /usr/local/lib/python3.10/dist-packages (from tensorboard) (3.20.3)\n",
            "Requirement already satisfied: requests<3,>=2.21.0 in /usr/local/lib/python3.10/dist-packages (from tensorboard) (2.31.0)\n",
            "Requirement already satisfied: setuptools>=41.0.0 in /usr/local/lib/python3.10/dist-packages (from tensorboard) (67.7.2)\n",
            "Requirement already satisfied: tensorboard-data-server<0.8.0,>=0.7.0 in /usr/local/lib/python3.10/dist-packages (from tensorboard) (0.7.1)\n",
            "Requirement already satisfied: werkzeug>=1.0.1 in /usr/local/lib/python3.10/dist-packages (from tensorboard) (2.3.7)\n",
            "Requirement already satisfied: wheel>=0.26 in /usr/local/lib/python3.10/dist-packages (from tensorboard) (0.41.2)\n",
            "Requirement already satisfied: cachetools<6.0,>=2.0.0 in /usr/local/lib/python3.10/dist-packages (from google-auth<3,>=1.6.3->tensorboard) (5.3.1)\n",
            "Requirement already satisfied: pyasn1-modules>=0.2.1 in /usr/local/lib/python3.10/dist-packages (from google-auth<3,>=1.6.3->tensorboard) (0.3.0)\n",
            "Requirement already satisfied: six>=1.9.0 in /usr/local/lib/python3.10/dist-packages (from google-auth<3,>=1.6.3->tensorboard) (1.16.0)\n",
            "Requirement already satisfied: rsa<5,>=3.1.4 in /usr/local/lib/python3.10/dist-packages (from google-auth<3,>=1.6.3->tensorboard) (4.9)\n",
            "Requirement already satisfied: requests-oauthlib>=0.7.0 in /usr/local/lib/python3.10/dist-packages (from google-auth-oauthlib<1.1,>=0.5->tensorboard) (1.3.1)\n",
            "Requirement already satisfied: charset-normalizer<4,>=2 in /usr/local/lib/python3.10/dist-packages (from requests<3,>=2.21.0->tensorboard) (3.2.0)\n",
            "Requirement already satisfied: idna<4,>=2.5 in /usr/local/lib/python3.10/dist-packages (from requests<3,>=2.21.0->tensorboard) (3.4)\n",
            "Requirement already satisfied: urllib3<3,>=1.21.1 in /usr/local/lib/python3.10/dist-packages (from requests<3,>=2.21.0->tensorboard) (2.0.4)\n",
            "Requirement already satisfied: certifi>=2017.4.17 in /usr/local/lib/python3.10/dist-packages (from requests<3,>=2.21.0->tensorboard) (2023.7.22)\n",
            "Requirement already satisfied: MarkupSafe>=2.1.1 in /usr/local/lib/python3.10/dist-packages (from werkzeug>=1.0.1->tensorboard) (2.1.3)\n",
            "Requirement already satisfied: pyasn1<0.6.0,>=0.4.6 in /usr/local/lib/python3.10/dist-packages (from pyasn1-modules>=0.2.1->google-auth<3,>=1.6.3->tensorboard) (0.5.0)\n",
            "Requirement already satisfied: oauthlib>=3.0.0 in /usr/local/lib/python3.10/dist-packages (from requests-oauthlib>=0.7.0->google-auth-oauthlib<1.1,>=0.5->tensorboard) (3.2.2)\n"
          ]
        }
      ],
      "source": [
        "# installing all the necessary packages\n",
        "!pip install torch torchvision torchaudio --extra-index-url https://download.pytorch.org/whl/cu116 --upgrade\n",
        "!pip install transformers --upgrade\n",
        "!pip install tqdm\n",
        "!pip install tensorboard"
      ]
    },
    {
      "cell_type": "code",
      "source": [
        "# importing all the necessary libraries\n",
        "import json\n",
        "import os\n",
        "import timeit\n",
        "import collections\n",
        "import time\n",
        "from pprint import pprint\n",
        "import numpy as np\n",
        "import pandas as pd\n",
        "import torch\n",
        "from torch.utils.data import DataLoader, RandomSampler, SequentialSampler\n",
        "from tqdm import tqdm\n",
        "from transformers import AutoTokenizer, AutoModelForQuestionAnswering, squad_convert_examples_to_features\n",
        "from transformers.data.processors.squad import SquadV2Processor,SquadResult\n",
        "from transformers.data.metrics.squad_metrics import (\n",
        "    compute_predictions_log_probs,\n",
        "    compute_predictions_logits,\n",
        "    squad_evaluate,\n",
        ")"
      ],
      "metadata": {
        "id": "WmYit7ejepV4"
      },
      "execution_count": 2,
      "outputs": []
    },
    {
      "cell_type": "code",
      "source": [
        "DO_LOWER_CASE = True\n",
        "NBEST_SIZE = 20\n",
        "DOC_STRIDE = 128\n",
        "MAX_SEQ_LENGTH = 384\n",
        "MAX_QUERY_LENGTH = 64\n",
        "MAX_ANSWER_LENGTH = 30\n",
        "DATA_DIR = 'data/squad'\n",
        "PREDICT_FILE = 'dev-v2.0.json'\n",
        "\n",
        "BERT_MODEL_TYPE = 'bert'\n",
        "BERT_MODEL_HF_PATH = 'twmkn9/bert-base-uncased-squad2'\n",
        "BERT_OUTPUT_DIR = 'models/bert/twmkn9_bert-case-uncased-squad2'\n",
        "\n",
        "DISTILBERT_MODEL_TYPE = 'distilbert'\n",
        "DISTILBERT_MODEL_HF_PATH = 'twmkn9/distilbert-base-uncased-squad2'\n",
        "DISTILBERT_OUTPUT_DIR = 'models/distilbert/twmkn9_distilbert-base-uncased-squad2'"
      ],
      "metadata": {
        "id": "A5iBdFlYf4cp"
      },
      "execution_count": 3,
      "outputs": []
    },
    {
      "cell_type": "markdown",
      "source": [
        "# Downloading and Exploring the dataset"
      ],
      "metadata": {
        "id": "GIdkYBU4qUxp"
      }
    },
    {
      "cell_type": "code",
      "source": [
        "# downloading the dataset\n",
        "!wget -P data/squad/ https://rajpurkar.github.io/SQuAD-explorer/dataset/dev-v2.0.json"
      ],
      "metadata": {
        "colab": {
          "base_uri": "https://localhost:8080/"
        },
        "id": "GAeVniE3r3FY",
        "outputId": "fbd31e71-e73c-4601-bfe8-1d00b3695a74"
      },
      "execution_count": 4,
      "outputs": [
        {
          "output_type": "stream",
          "name": "stdout",
          "text": [
            "--2023-09-11 21:27:48--  https://rajpurkar.github.io/SQuAD-explorer/dataset/dev-v2.0.json\n",
            "Resolving rajpurkar.github.io (rajpurkar.github.io)... 185.199.111.153, 185.199.108.153, 185.199.110.153, ...\n",
            "Connecting to rajpurkar.github.io (rajpurkar.github.io)|185.199.111.153|:443... connected.\n",
            "HTTP request sent, awaiting response... 200 OK\n",
            "Length: 4370528 (4.2M) [application/json]\n",
            "Saving to: ‘data/squad/dev-v2.0.json’\n",
            "\n",
            "dev-v2.0.json       100%[===================>]   4.17M  --.-KB/s    in 0.05s   \n",
            "\n",
            "2023-09-11 21:27:49 (85.7 MB/s) - ‘data/squad/dev-v2.0.json’ saved [4370528/4370528]\n",
            "\n"
          ]
        }
      ]
    },
    {
      "cell_type": "markdown",
      "source": [
        "#### <i>Stanford Question Answering Dataset (SQuAD) is a reading comprehension dataset, consisting of questions posed by crowdworkers on a set of Wikipedia articles, where the answer to every question is a segment of text, or span, from the corresponding reading passage, or the question might be unanswerable.\n",
        "\n",
        "#### SQuAD2.0 combines the 100,000 questions in SQuAD1.1 with over 50,000 unanswerable questions written adversarially by crowdworkers to look similar to answerable ones. To do well on SQuAD2.0, systems must not only answer questions when possible, but also determine when no answer is supported by the paragraph and abstain from answering.</i>\n"
      ],
      "metadata": {
        "id": "4kyRIb-GsgO7"
      }
    },
    {
      "cell_type": "markdown",
      "source": [
        "## Loading the DEV set using Hugging Face's data processors"
      ],
      "metadata": {
        "id": "ydfV2-ZbuFbs"
      }
    },
    {
      "cell_type": "markdown",
      "source": [
        "I am going to make use of [Processors](https://huggingface.co/transformers/main_classes/processors.html) to facilitate basic processing tasks with some canonical NLP datasets. The processors can be used for loading datasets and converting their examples to features for direct use in the model. More specifically, we will be using the [SQuAD processors](https://huggingface.co/transformers/main_classes/processors.html#squad)"
      ],
      "metadata": {
        "id": "zvhSzVUludK_"
      }
    },
    {
      "cell_type": "code",
      "source": [
        "def to_list(tensor):\n",
        "  return tensor.detach().cpu().tolist()"
      ],
      "metadata": {
        "id": "zbrTlTo5r91S"
      },
      "execution_count": 5,
      "outputs": []
    },
    {
      "cell_type": "code",
      "source": [
        "def load_and_cache_examples(model_name_or_path,\n",
        "                            data_dir= DATA_DIR,\n",
        "                            predict_file=PREDICT_FILE,\n",
        "                            max_seq_length=MAX_SEQ_LENGTH,\n",
        "                            doc_stride=DOC_STRIDE,\n",
        "                            max_query_length=MAX_QUERY_LENGTH,\n",
        "                            overwrite_cache=True):\n",
        "\n",
        "    tokenizer = AutoTokenizer.from_pretrained(model_name_or_path, use_fast=False)\n",
        "    # Load data features from cache or dataset file\n",
        "    input_dir = data_dir if data_dir else \".\"\n",
        "    cached_features_file = os.path.join(\n",
        "        input_dir,\n",
        "        \"cached_{}_{}_{}\".format(\n",
        "            \"dev\",\n",
        "            list(filter(None, model_name_or_path.split(\"/\"))).pop(),\n",
        "            str(max_seq_length),\n",
        "        ),\n",
        "    )\n",
        "\n",
        "    # Init features and dataset from cache if it exists\n",
        "    if os.path.exists(cached_features_file) and not overwrite_cache:\n",
        "        logger.info(\"Loading features from cached file %s\", cached_features_file)\n",
        "        features_and_dataset = torch.load(cached_features_file)\n",
        "        features, dataset, examples = (\n",
        "            features_and_dataset[\"features\"],\n",
        "            features_and_dataset[\"dataset\"],\n",
        "            features_and_dataset[\"examples\"],\n",
        "        )\n",
        "    else:\n",
        "\n",
        "        processor = SquadV2Processor()\n",
        "\n",
        "        examples = processor.get_dev_examples(data_dir, filename=predict_file)\n",
        "\n",
        "        features, dataset = squad_convert_examples_to_features(\n",
        "            examples=examples,\n",
        "            tokenizer=tokenizer,\n",
        "            max_seq_length=max_seq_length,\n",
        "            doc_stride=doc_stride,\n",
        "            max_query_length=max_query_length,\n",
        "            is_training=False,\n",
        "            return_dataset=\"pt\",\n",
        "            threads=1,\n",
        "        )\n",
        "\n",
        "\n",
        "    return dataset, examples, features"
      ],
      "metadata": {
        "id": "sDvb8A8qut0m"
      },
      "execution_count": 6,
      "outputs": []
    },
    {
      "cell_type": "code",
      "source": [
        "dataset, examples, features = load_and_cache_examples(BERT_MODEL_HF_PATH)"
      ],
      "metadata": {
        "colab": {
          "base_uri": "https://localhost:8080/",
          "height": 197,
          "referenced_widgets": [
            "1938b8aeff654cd4abc23ceff825dc69",
            "f7242743694a40d1b1ea51102565337d",
            "abdecd234cec4e44bf07220bfe4f2c43",
            "0648adb4d4bf4910a7cc4cc128a69d78",
            "320f5dd2e09e4ba0b8eb73a3fe081a06",
            "3ba12def95334e06a94911366515f0ff",
            "2bedad23fec442cda2cfe94710f5d840",
            "d80420f436664d318c1fa601f774467b",
            "5d59befcf8b9447cb156644be5ee77d6",
            "1b376bbe3678448196b73966ecf0c652",
            "b3bb6fd2f57b4b739bbe9b3dfe83e87d",
            "75f08c05e7fa4250a485901928944a49",
            "349159a24bdd44589e240c58a381c996",
            "b0ad6f5a17554707b2d73c72d0d118be",
            "01a11d31952c48f2909ae0f0ac6a5dbf",
            "91f6aacf0e524431953dd005d76cfc0e",
            "fe14670377b5474688165db6cec71705",
            "ab8bca7d52b749fb9743debf2f26d4a9",
            "eb8aa3a20f9c4cc6838867e356d800d4",
            "447d0812da2b4d38811167a60c14acb8",
            "d8dce5c55b9449a4a284dbcecd185b1b",
            "5cf61e0747474e7687ced81ce1633954",
            "7af4fd82e86340ed85598eb0a36d3dec",
            "fa4bd7ff6fa840669de510fb88135561",
            "5daff2afaa40467db795ac1bc3cfebac",
            "af974e7d273b496eac16078f1acfcb8e",
            "2c429c69638445c297db43675448af4f",
            "e9b0e199c00b4272b242fde392713f14",
            "7bcc52a57d6543edb9c831f00f6dd0dc",
            "7ef0bff61f8a456b9949cea071f75269",
            "4e075a0726c24bb59e53da29a78faf25",
            "2c73c245e2e74da7995d0b826f983d19",
            "318bd9f2367c4bedbec42cf4348fa9e1",
            "a9a69d4c366d464eaf47fd608d64f759",
            "018b39d12db2497aa565bca1343b124e",
            "7514b113b77a4fef906633117fbd166d",
            "0b0e28f3071e42d3af0a533c7efab95c",
            "939d443b4f7d4dd2bc1090e2e9a78485",
            "27a40f01bef347e29f398bcac3c452d9",
            "62d4df23581948aea3854df6f8526e2f",
            "e3937003946e483b895c43cc67ee2527",
            "fb25c7dfc4ce4a4e85dbe9da3de961b0",
            "de033101b36b40018de51b5db0959f95",
            "42e0189e2fba49be881656fa8156bf0d"
          ]
        },
        "id": "zEPdgAniyH4Y",
        "outputId": "b55c19ca-38ff-4f54-a788-f4a3913829a5"
      },
      "execution_count": 7,
      "outputs": [
        {
          "output_type": "display_data",
          "data": {
            "text/plain": [
              "Downloading (…)okenizer_config.json:   0%|          | 0.00/39.0 [00:00<?, ?B/s]"
            ],
            "application/vnd.jupyter.widget-view+json": {
              "version_major": 2,
              "version_minor": 0,
              "model_id": "1938b8aeff654cd4abc23ceff825dc69"
            }
          },
          "metadata": {}
        },
        {
          "output_type": "display_data",
          "data": {
            "text/plain": [
              "Downloading (…)lve/main/config.json:   0%|          | 0.00/465 [00:00<?, ?B/s]"
            ],
            "application/vnd.jupyter.widget-view+json": {
              "version_major": 2,
              "version_minor": 0,
              "model_id": "75f08c05e7fa4250a485901928944a49"
            }
          },
          "metadata": {}
        },
        {
          "output_type": "display_data",
          "data": {
            "text/plain": [
              "Downloading (…)solve/main/vocab.txt:   0%|          | 0.00/232k [00:00<?, ?B/s]"
            ],
            "application/vnd.jupyter.widget-view+json": {
              "version_major": 2,
              "version_minor": 0,
              "model_id": "7af4fd82e86340ed85598eb0a36d3dec"
            }
          },
          "metadata": {}
        },
        {
          "output_type": "display_data",
          "data": {
            "text/plain": [
              "Downloading (…)cial_tokens_map.json:   0%|          | 0.00/112 [00:00<?, ?B/s]"
            ],
            "application/vnd.jupyter.widget-view+json": {
              "version_major": 2,
              "version_minor": 0,
              "model_id": "a9a69d4c366d464eaf47fd608d64f759"
            }
          },
          "metadata": {}
        },
        {
          "output_type": "stream",
          "name": "stderr",
          "text": [
            "100%|██████████| 35/35 [00:10<00:00,  3.34it/s]\n",
            "convert squad examples to features: 100%|██████████| 11873/11873 [02:12<00:00, 89.40it/s] \n",
            "add example index and unique id: 100%|██████████| 11873/11873 [00:00<00:00, 832188.16it/s]\n"
          ]
        }
      ]
    },
    {
      "cell_type": "code",
      "source": [
        "print(f'There are {len(examples)} examples in the dev dataset.')"
      ],
      "metadata": {
        "colab": {
          "base_uri": "https://localhost:8080/"
        },
        "id": "X17jPP7tyQRm",
        "outputId": "6dc87daf-63b9-4f8c-da9f-f8a3524ce880"
      },
      "execution_count": 8,
      "outputs": [
        {
          "output_type": "stream",
          "name": "stdout",
          "text": [
            "There are 11873 examples in the dev dataset.\n"
          ]
        }
      ]
    },
    {
      "cell_type": "markdown",
      "source": [
        "This list of examples contains objects of type transformers.data.processors.squad.SquadExample.\n",
        "We use the functionbelow to extract the information we want from such objects.\n",
        "More specifically: 'qid', 'question_text', 'context_text' and 'answer'."
      ],
      "metadata": {
        "id": "iuXX6LRwk2pq"
      }
    },
    {
      "cell_type": "markdown",
      "source": [
        "I will first create some extra variables to help on manipulation of data."
      ],
      "metadata": {
        "id": "g7Y8-ozplQ35"
      }
    },
    {
      "cell_type": "code",
      "source": [
        "# generating some maps to help identify examples of interest.\n",
        "qid_to_example_index = {example.qas_id: i for i, example in enumerate(examples)}\n",
        "qid_to_has_answer = {example.qas_id: bool(example.answers) for example in examples}\n",
        "answer_qids = [qas_id for qas_id, has_answer in qid_to_has_answer.items() if has_answer]\n",
        "no_answer_qids = [qas_id for qas_id, has_answer in qid_to_has_answer.items() if not has_answer]"
      ],
      "metadata": {
        "id": "MpRFtUtClPVN"
      },
      "execution_count": 9,
      "outputs": []
    },
    {
      "cell_type": "markdown",
      "source": [
        "And also, the function below to help on extracting information given a `qid` (question unique identifier)"
      ],
      "metadata": {
        "id": "h9cI61WBmK65"
      }
    },
    {
      "cell_type": "code",
      "source": [
        "def display_example(qid: str) -> None:\n",
        "  idx = qid_to_example_index[qid]\n",
        "  q = examples[idx].question_text\n",
        "  c = examples[idx].context_text\n",
        "  a = [answer['text'] for answer in examples[idx].answers]\n",
        "\n",
        "  print(f'Examples {idx} of {len(examples)}\\n------------------')\n",
        "  print(f'Q: {q}\\n')\n",
        "  print('Context:')\n",
        "  pprint(c)\n",
        "  print(f'\\nTrue Answers:\\n{a}')"
      ],
      "metadata": {
        "id": "HUKy5JGFmCwK"
      },
      "execution_count": 10,
      "outputs": []
    },
    {
      "cell_type": "markdown",
      "source": [
        "## Positive Example"
      ],
      "metadata": {
        "id": "BzU2wpTunWgP"
      }
    },
    {
      "cell_type": "markdown",
      "source": [
        "50% of the examples in the test set are questionst hat have answers contained within their corresponding passage. In these cases, up to 5 possible correct answers are provided. Such answers must come directly from the passage, we will see later, however, that there are several ways to arrive at a \"correct\" answer."
      ],
      "metadata": {
        "id": "hDQ9-8LOnZRl"
      }
    },
    {
      "cell_type": "code",
      "source": [
        "display_example(answer_qids[2456])"
      ],
      "metadata": {
        "colab": {
          "base_uri": "https://localhost:8080/"
        },
        "id": "T5MtCsUxnVi1",
        "outputId": "58ff6540-e0c7-43c7-fef7-e8bed1aaa78a"
      },
      "execution_count": 11,
      "outputs": [
        {
          "output_type": "stream",
          "name": "stdout",
          "text": [
            "Examples 4959 of 11873\n",
            "------------------\n",
            "Q: It is now possible to convert old relative ages into what type of ages using isotopic dating?\n",
            "\n",
            "Context:\n",
            "('At the beginning of the 20th century, important advancement in geological '\n",
            " 'science was facilitated by the ability to obtain accurate absolute dates to '\n",
            " 'geologic events using radioactive isotopes and other methods. This changed '\n",
            " 'the understanding of geologic time. Previously, geologists could only use '\n",
            " 'fossils and stratigraphic correlation to date sections of rock relative to '\n",
            " 'one another. With isotopic dates it became possible to assign absolute ages '\n",
            " 'to rock units, and these absolute dates could be applied to fossil sequences '\n",
            " 'in which there was datable material, converting the old relative ages into '\n",
            " 'new absolute ages.')\n",
            "\n",
            "True Answers:\n",
            "['absolute ages', 'rock units', 'new absolute']\n"
          ]
        }
      ]
    },
    {
      "cell_type": "markdown",
      "source": [
        "## Negative Example"
      ],
      "metadata": {
        "id": "mo7vdGEjn7F6"
      }
    },
    {
      "cell_type": "markdown",
      "source": [
        "The remaining 50% of the questions in the test set do not have an answer. This is important as in a real life Q&A system, the model needs to learn when **NOT TO ANSWER.**"
      ],
      "metadata": {
        "id": "BtL6WUT5n9Ni"
      }
    },
    {
      "cell_type": "code",
      "source": [
        "display_example(no_answer_qids[1235])"
      ],
      "metadata": {
        "colab": {
          "base_uri": "https://localhost:8080/"
        },
        "id": "aAa9F5kGnv2P",
        "outputId": "696defd0-5e9e-47f4-84be-45c58dca4c8f"
      },
      "execution_count": 12,
      "outputs": [
        {
          "output_type": "stream",
          "name": "stdout",
          "text": [
            "Examples 2520 of 11873\n",
            "------------------\n",
            "Q: What is difficult with a satellite-to-noise ratio?\n",
            "\n",
            "Context:\n",
            "('Oxygen presents two spectrophotometric absorption bands peaking at the '\n",
            " 'wavelengths 687 and 760 nm. Some remote sensing scientists have proposed '\n",
            " 'using the measurement of the radiance coming from vegetation canopies in '\n",
            " 'those bands to characterize plant health status from a satellite platform. '\n",
            " 'This approach exploits the fact that in those bands it is possible to '\n",
            " \"discriminate the vegetation's reflectance from its fluorescence, which is \"\n",
            " 'much weaker. The measurement is technically difficult owing to the low '\n",
            " 'signal-to-noise ratio and the physical structure of vegetation; but it has '\n",
            " 'been proposed as a possible method of monitoring the carbon cycle from '\n",
            " 'satellites on a global scale.')\n",
            "\n",
            "True Answers:\n",
            "[]\n"
          ]
        }
      ]
    },
    {
      "cell_type": "markdown",
      "source": [
        "## Metrics for Q&A Systems"
      ],
      "metadata": {
        "id": "wOWgT23212sd"
      }
    },
    {
      "cell_type": "markdown",
      "source": [
        "When measuring the performance of a machine learning system, we need to think about both **model** and **customer metrics.**"
      ],
      "metadata": {
        "id": "z0sxc5GV3OZN"
      }
    },
    {
      "cell_type": "markdown",
      "source": [
        "Q&A systems are usually measured by two dominant metrics: **F1** and **Exact Match (EM)**. They are computed on individual question and answer **pairs**. When multiple correct answers are available for a given question the maximum score over all possible correct answers is computed. Overall EM and F1 scores are computed for a model by averaging over the individual example scores."
      ],
      "metadata": {
        "id": "MQfRt0bl3jYD"
      }
    },
    {
      "cell_type": "markdown",
      "source": [
        "### Exact Match:"
      ],
      "metadata": {
        "id": "r_VGFueB4Re3"
      }
    },
    {
      "cell_type": "markdown",
      "source": [
        "For each Q&A pair, if the characters of the model's prediction are an exact matvh of the characters of any of the True Answer(s), **EM = 1**, else, **EM = 0**. This is a strict all-or-nothing metric, which may have little value for final customers of a Q&A system. It may be beneficial only when assessing against a negative example; if the model predicts any text at all, it automatically receives a 0 for that example."
      ],
      "metadata": {
        "id": "rhsLDwIq4cIJ"
      }
    },
    {
      "cell_type": "markdown",
      "source": [
        "### F1 Score:"
      ],
      "metadata": {
        "id": "_Q_76Kdg3iVn"
      }
    },
    {
      "cell_type": "markdown",
      "source": [
        "Almost all classification problems rely on F1 score to measure the model performance. It is mostly appropriate when we care equally about precision and recall. On an QnA system, however, it is computed over the individual words in the prediction against those in the True answer. The number of shared words between the prediction and the trust is the basis of F1 score. While **precision** is the ratio between the number of shared words to the total number of words in the prediction; **Recall** is the ratio of the number of shared words to the toal number of words in the ground truth."
      ],
      "metadata": {
        "id": "kHC_C8iP5Fka"
      }
    },
    {
      "cell_type": "markdown",
      "source": [
        "### Latency"
      ],
      "metadata": {
        "id": "NE0ffj168oi3"
      }
    },
    {
      "cell_type": "markdown",
      "source": [
        "Latency is an important metric for ML systems. in the QnA example, it is of the utmost importance when the system is used in a conversational application. <br> For Example, Alexa and Google home are devices that have very strict latency constraints as the users expect an answer within a few seconds or macroseconds after the question is asked. When updating models we should take this dimension according to the application of the system."
      ],
      "metadata": {
        "id": "rC-trkOp8p--"
      }
    },
    {
      "cell_type": "markdown",
      "source": [
        "### Answer Rate"
      ],
      "metadata": {
        "id": "LDGsFCD49ORY"
      }
    },
    {
      "cell_type": "markdown",
      "source": [
        "In the QnA systems, models that attempt to answer every question are often perceived inaccurate. The system should only provide an output when it is confident enough to do so. In other words, when the probabiliries of predictions are above a certain threshold. <br> In some applications, a model should be able to say *I don't know* or *The context has not enough information to answer the question.*"
      ],
      "metadata": {
        "id": "5H_rtE4z9SUf"
      }
    },
    {
      "cell_type": "markdown",
      "source": [
        "# Q&A Models"
      ],
      "metadata": {
        "id": "hX-3eJSPIIe4"
      }
    },
    {
      "cell_type": "markdown",
      "source": [
        "Question and Answering make use of Large Language Models (LLMs) as any other classification problem in NLP. The main difference relies on how the input and the output is provided to the model. Generally speaking models are trained to match the true answer to the question as they are provided together as an input to the model."
      ],
      "metadata": {
        "id": "MDHD3B31oTuq"
      }
    },
    {
      "cell_type": "markdown",
      "source": [
        "# Bert"
      ],
      "metadata": {
        "id": "OgMAI1ClI4NB"
      }
    },
    {
      "cell_type": "markdown",
      "source": [
        "BERT is a neural approach to pre-train language representations which obtains near SOTA results on a wide array of NLP tasks, including SQuAD Question Answering dataset <br><br>\n",
        "\n",
        "Developed in 2019, BERT achieves 80.422% in the EM score and 83.118% in the F1 score.<br><br>\n",
        "\n",
        "BERT-base has 110 million parameters and BERT-large has 340 million parameters."
      ],
      "metadata": {
        "id": "iHUtuP7oI6Y8"
      }
    },
    {
      "cell_type": "markdown",
      "source": [
        "## Model Parameters comparison"
      ],
      "metadata": {
        "id": "sAqAtSqAJgfv"
      }
    },
    {
      "cell_type": "markdown",
      "source": [
        "As LLMs were developed, the amount of parameters in these models have grown exponentially. Although this improves model performance, it comes at a cost: Latency. As it will be discussed, for use cases where inference is done on batches that may have less impact, however, on real time systems such as voice assistants or web search, latency plays a major role on deciding whether one model is better than the other."
      ],
      "metadata": {
        "id": "Z9U-RViiJkYK"
      }
    },
    {
      "cell_type": "markdown",
      "source": [
        "# BERT Input"
      ],
      "metadata": {
        "id": "6oXV30yJKP6m"
      }
    },
    {
      "cell_type": "markdown",
      "source": [
        "[CLS] context [SEP] question [SEP] [PAD] [PAD] [PAD]"
      ],
      "metadata": {
        "id": "kpCoPdGMKSKL"
      }
    },
    {
      "cell_type": "markdown",
      "source": [
        "**context** = \"The Intergovernmental Panel on Climate Change (IPCC) is a scientific intergovernmental body under the auspices of the United Nations.\"\n",
        "\n",
        "**question** = \"What organization is the IPCC a part of?\"\n",
        "\n",
        "**after being merged by the tokenizer**:\n",
        "```\n",
        "\"[CLS] The Intergovernmental Panel on Climate Change (IPCC) is a scientific intergovernmental body under the auspices of the United Nations. [SEP] What organization is the IPCC a part of? [SEP] [PAD] [PAD] [PAD]\"\n",
        "```\n"
      ],
      "metadata": {
        "id": "cemFTJ-dKVq7"
      }
    },
    {
      "cell_type": "markdown",
      "source": [
        "**token-id format**:\n",
        "\n",
        "[101, 1109, 11300, 2758, 24472, 15595, 20339, 1113, 13540, 9091, 113, 14274, 12096, 114, 1110, 170, 3812,\n",
        " 9455, 2758, 24472, 15595, 1404, 1223, 1103, 22105, 1104, 1103, 1244, 3854, 119, 102, 1327, 2369, 1110, 1103,\n",
        " 14274, 12096, 170, 1226, 1104, 136, 102, 0, 0, 0]"
      ],
      "metadata": {
        "id": "iYgjajNpKcsZ"
      }
    },
    {
      "cell_type": "markdown",
      "source": [
        "# Loading Pre-Trained BERT from Hugging Face's repository."
      ],
      "metadata": {
        "id": "3M-0PYH3Kelv"
      }
    },
    {
      "cell_type": "code",
      "source": [
        "tokenizer = AutoTokenizer.from_pretrained(BERT_MODEL_HF_PATH, use_fast = False)\n",
        "model = AutoModelForQuestionAnswering.from_pretrained(BERT_MODEL_HF_PATH)"
      ],
      "metadata": {
        "colab": {
          "base_uri": "https://localhost:8080/",
          "height": 121,
          "referenced_widgets": [
            "92c1ee8b2fb44f91a428b041b6b4fac5",
            "24f3390feebd49e1866ec035bedde1dc",
            "9822df019594435e8de3710bd87e6039",
            "5092bbf09ae24191b1ab2b273a2ac8bc",
            "789d1b169e7b427e9da5e684ccad72e9",
            "cab911789f1b46b0b148cccbcc46ec41",
            "bea36b3af774480dbb49c64f455859e3",
            "43b250abb57b416781178084075c5819",
            "72c380b50ceb4ebe95e39bb4a1a1c0b2",
            "7b1b231673d64e4ba1820ebd6c76a68c",
            "10bdab8c8d9843838f648e1ebc7bc08d"
          ]
        },
        "id": "aVRdXn2pKYtm",
        "outputId": "b63d4aa3-1f42-4750-90b3-747af05a057e"
      },
      "execution_count": 13,
      "outputs": [
        {
          "output_type": "display_data",
          "data": {
            "text/plain": [
              "Downloading pytorch_model.bin:   0%|          | 0.00/438M [00:00<?, ?B/s]"
            ],
            "application/vnd.jupyter.widget-view+json": {
              "version_major": 2,
              "version_minor": 0,
              "model_id": "92c1ee8b2fb44f91a428b041b6b4fac5"
            }
          },
          "metadata": {}
        },
        {
          "output_type": "stream",
          "name": "stderr",
          "text": [
            "Some weights of the model checkpoint at twmkn9/bert-base-uncased-squad2 were not used when initializing BertForQuestionAnswering: ['bert.pooler.dense.weight', 'bert.pooler.dense.bias']\n",
            "- This IS expected if you are initializing BertForQuestionAnswering from the checkpoint of a model trained on another task or with another architecture (e.g. initializing a BertForSequenceClassification model from a BertForPreTraining model).\n",
            "- This IS NOT expected if you are initializing BertForQuestionAnswering from the checkpoint of a model that you expect to be exactly identical (initializing a BertForSequenceClassification model from a BertForSequenceClassification model).\n"
          ]
        }
      ]
    },
    {
      "cell_type": "markdown",
      "source": [
        "# Utility Functions"
      ],
      "metadata": {
        "id": "I4KWRKCbK1Hh"
      }
    },
    {
      "cell_type": "markdown",
      "source": [
        "Given a question_id, model and tokenizer, we get an answer text. In here we get the maximum probability of beginning and end for the answer in the softmax output."
      ],
      "metadata": {
        "id": "oXWdDyL-K-it"
      }
    },
    {
      "cell_type": "code",
      "source": [
        "def get_prediction(qid: str, model: AutoModelForQuestionAnswering, tokenizer: AutoTokenizer):\n",
        "  # given a question_id (qas_id or qid), load the example, get the model outputs and generate an answer\n",
        "  question = examples[qid_to_example_index[qid]].question_text\n",
        "  context = examples[qid_to_example_index[qid]].context_text\n",
        "\n",
        "  inputs = tokenizer.encode_plus(question, context, return_tensors = 'pt')\n",
        "\n",
        "  outputs = model(**inputs)\n",
        "\n",
        "  answer_start = torch.argmax(outputs[0])       # get the most likely beginning of answer with the argmax of the score\n",
        "  answer_end = torch.argmax(outputs[1]) + 1\n",
        "\n",
        "  answer = tokenizer.convert_tokens_to_string(tokenizer.convert_ids_to_tokens(inputs['input_ids'][0][answer_start: answer_end]))\n",
        "\n",
        "  return answer"
      ],
      "metadata": {
        "id": "7iHkRN1lLKtt"
      },
      "execution_count": 14,
      "outputs": []
    },
    {
      "cell_type": "markdown",
      "source": [
        "I am creatinga simple function that given an example list, it extracts the gold answers."
      ],
      "metadata": {
        "id": "f1T3kGjsMQib"
      }
    },
    {
      "cell_type": "code",
      "source": [
        "def get_gold_answers(example):\n",
        "  \"\"\"\n",
        "  helper function that retrieves all possible true answers from a squad2.0 example.\n",
        "  \"\"\"\n",
        "\n",
        "  gold_answers = [answer['text'] for answer in example.answers if answer['text']]\n",
        "\n",
        "  # if gold_answers doesn't exist, it's because this is a negative example.\n",
        "  # the only correct answer is an empty string then in this case.\n",
        "  if not gold_answers:\n",
        "    gold_answers = [\"\"]\n",
        "\n",
        "  return gold_answers"
      ],
      "metadata": {
        "id": "3pBy7UtBMOVq"
      },
      "execution_count": 15,
      "outputs": []
    },
    {
      "cell_type": "markdown",
      "source": [
        "For metrics like EM, we need to make sure that texts are normalized so we can compare on a character level."
      ],
      "metadata": {
        "id": "QsrAMtQjM1V5"
      }
    },
    {
      "cell_type": "code",
      "source": [
        "# these functions are heavily influenced by the HF squad_metrics.py script\n",
        "def normalize_text(s: str):\n",
        "  \"\"\"\n",
        "  removing articles and punctuation, and standardizing whitespace are all typical text processing steps.\n",
        "  \"\"\"\n",
        "  import string, re\n",
        "\n",
        "  def remove_articles(text):\n",
        "    regex = re.compile(r\"\\b(a|an|the)\\b\", re.UNICODE)\n",
        "    return re.sub(regex, \" \", text)\n",
        "\n",
        "  def white_space_fix(text):\n",
        "    return \" \".join(text.split())\n",
        "\n",
        "  def remove_punc(text):\n",
        "    exclude = set(string.punctuation)\n",
        "    return \"\".join(ch for ch in text if ch not in exclude)\n",
        "\n",
        "  def lower(text):\n",
        "    return text.lower()\n",
        "\n",
        "  return white_space_fix(remove_articles(remove_punc(lower(s))))"
      ],
      "metadata": {
        "id": "orPI3BDpM9li"
      },
      "execution_count": 16,
      "outputs": []
    },
    {
      "cell_type": "markdown",
      "source": [
        "# Metrics Calculation"
      ],
      "metadata": {
        "id": "uQpuQGQ0N4lb"
      }
    },
    {
      "cell_type": "markdown",
      "source": [
        "## Exact Match (EM)"
      ],
      "metadata": {
        "id": "P4AsIkLtbp0r"
      }
    },
    {
      "cell_type": "code",
      "source": [
        "def compute_exact_match(prediction, truth):\n",
        "  return int(normalize_text(prediction) == normalize_text(truth))"
      ],
      "metadata": {
        "id": "ad3aEmhbbsQ6"
      },
      "execution_count": 17,
      "outputs": []
    },
    {
      "cell_type": "markdown",
      "source": [
        "## F1 Score"
      ],
      "metadata": {
        "id": "eiuMMikTb-h_"
      }
    },
    {
      "cell_type": "code",
      "source": [
        "def compute_f1(prediction, truth):\n",
        "  pred_tokens = normalize_text(prediction).split()\n",
        "  truth_tokens = normalize_text(truth).split()\n",
        "\n",
        "  # if either the prediction or the truth is no-answer then f1 = 1 if they agree, else 0\n",
        "  if len(pred_tokens) == 0 or len(truth_tokens) == 0:\n",
        "    return int(pred_tokens == truth_tokens)\n",
        "\n",
        "  common_tokens = set(pred_tokens) & set(truth_tokens)\n",
        "\n",
        "  # if there are no common tokens then f1 = 0\n",
        "  if len(common_tokens) ==  0:\n",
        "    return 0\n",
        "\n",
        "  prec = len(common_tokens) / len(pred_tokens)\n",
        "  rec = len(common_tokens) / len(truth_tokens)\n",
        "\n",
        "  return 2 * (prec * rec) / (prec + rec)"
      ],
      "metadata": {
        "id": "aj5W32hscBFK"
      },
      "execution_count": 18,
      "outputs": []
    },
    {
      "cell_type": "markdown",
      "source": [
        "Computing EM and F1 for an example with a gold answer"
      ],
      "metadata": {
        "id": "bWX4AbVoc8tZ"
      }
    },
    {
      "cell_type": "code",
      "source": [
        "prediction = get_prediction(answer_qids[1303], model, tokenizer, )\n",
        "example = examples[qid_to_example_index[answer_qids[1303]]]\n",
        "\n",
        "gold_answers = get_gold_answers(example)\n",
        "\n",
        "em_score = max((compute_exact_match(prediction, answer)) for answer in gold_answers)\n",
        "f1_score = max((compute_f1(prediction, answer)) for answer in gold_answers)\n",
        "\n",
        "print(f\"Question: {example.question_text}\")\n",
        "print(f\"Prediction: {prediction}\")\n",
        "print(f\"True Answers: {gold_answers}\")\n",
        "print(f\"EM: {em_score} \\t F1: {f1_score}\")"
      ],
      "metadata": {
        "colab": {
          "base_uri": "https://localhost:8080/"
        },
        "id": "Q2D7wSwHdApc",
        "outputId": "d3f4cbf4-1663-479b-f38e-134199cfe95d"
      },
      "execution_count": 19,
      "outputs": [
        {
          "output_type": "stream",
          "name": "stdout",
          "text": [
            "Question: What measurement do scientists used to determine the quality of water?\n",
            "Prediction: biochemical oxygen demand\n",
            "True Answers: ['biochemical oxygen demand', 'biochemical oxygen demand', \"measuring the water's biochemical oxygen demand\", 'biochemical oxygen demand', \"measuring the water's biochemical oxygen demand\"]\n",
            "EM: 1 \t F1: 1.0\n"
          ]
        }
      ]
    },
    {
      "cell_type": "markdown",
      "source": [
        "Now let's try and compute an example without answer"
      ],
      "metadata": {
        "id": "heSct5gRePlw"
      }
    },
    {
      "cell_type": "code",
      "source": [
        "prediction = get_prediction(no_answer_qids[1254], model, tokenizer)\n",
        "example = examples[qid_to_example_index[no_answer_qids[1254]]]\n",
        "\n",
        "gold_answers = get_gold_answers(example)\n",
        "\n",
        "em_score = max((compute_exact_match(prediction, answer)) for answer in gold_answers)\n",
        "f1_score = max((compute_f1(prediction, answer)) for answer in gold_answers)\n",
        "\n",
        "print(f\"Question: {example.question_text}\")\n",
        "print(f\"Prediction: {prediction}\")\n",
        "print(f\"True Answers: {gold_answers}\")\n",
        "print(f\"EM: {em_score} \\t F1: {f1_score}\")"
      ],
      "metadata": {
        "colab": {
          "base_uri": "https://localhost:8080/"
        },
        "id": "tCMRvtp0gHAb",
        "outputId": "4e1ff707-5c6c-4b7a-e134-61e3ccdec447"
      },
      "execution_count": 20,
      "outputs": [
        {
          "output_type": "stream",
          "name": "stdout",
          "text": [
            "Question: What happened 3.7-2 billion years ago?\n",
            "Prediction: [CLS]\n",
            "True Answers: ['']\n",
            "EM: 0 \t F1: 0\n"
          ]
        }
      ]
    },
    {
      "cell_type": "markdown",
      "source": [
        "Both metrics are zero, this model does not correctly assess that this question is unanswerable. It predicts the [CLS] token (it means it considers the entire context as an answer to the question)"
      ],
      "metadata": {
        "id": "8ZCO1WFZgJqI"
      }
    },
    {
      "cell_type": "markdown",
      "source": [
        "## Putting it all together"
      ],
      "metadata": {
        "id": "G_Q0VhVBgcYE"
      }
    },
    {
      "cell_type": "code",
      "source": [
        "def get_answers_metrics(\n",
        "    model: AutoModelForQuestionAnswering,\n",
        "    tokenizer: AutoTokenizer,\n",
        "    answer_qids = answer_qids,\n",
        "    examples = examples):\n",
        "\n",
        "  answers_arr = []\n",
        "  start_time = time.time()\n",
        "  errors = []\n",
        "\n",
        "  for qid in tqdm(answer_qids):\n",
        "    try:\n",
        "      prediction = get_prediction(qid, model, tokenizer)\n",
        "      example = examples[qid_to_example_index[qid]]\n",
        "\n",
        "      gold_answers = get_gold_answers(example)\n",
        "\n",
        "      em_score = max((compute_exact_match(prediction, answer)) for answer in gold_answers)\n",
        "      f1_score = max((compute_f1(prediction, answer)) for answer in gold_answers)\n",
        "\n",
        "      result_dict = {}\n",
        "      result_dict[\"qid\"] = qid\n",
        "      result_dict[\"question\"] = example.question_text\n",
        "      result_dict[\"prediction\"] = prediction\n",
        "      result_dict[\"true_answers\"] = ';'.join(gold_answers)\n",
        "      result_dict[\"f1\"] = f1_score\n",
        "      result_dict[\"em\"] = em_score\n",
        "      answers_arr.append(result_dict)\n",
        "    except:\n",
        "      errors.append(qid)\n",
        "\n",
        "  end_time = time.time()\n",
        "\n",
        "  return pd.DataFrame(answers_arr), end_time - start_time, errors"
      ],
      "metadata": {
        "id": "w7tuTfofggDW"
      },
      "execution_count": 21,
      "outputs": []
    },
    {
      "cell_type": "code",
      "source": [
        "metrics_df, total_time, errors = get_answers_metrics(model, tokenizer, answer_qids[: 100])"
      ],
      "metadata": {
        "colab": {
          "base_uri": "https://localhost:8080/"
        },
        "id": "F1ufql52g0Mt",
        "outputId": "6aab9b1f-2a0f-455f-d487-b2afbff4708b"
      },
      "execution_count": 22,
      "outputs": [
        {
          "output_type": "stream",
          "name": "stderr",
          "text": [
            "100%|██████████| 100/100 [00:36<00:00,  2.71it/s]\n"
          ]
        }
      ]
    },
    {
      "cell_type": "code",
      "source": [
        "metrics_df.head()"
      ],
      "metadata": {
        "colab": {
          "base_uri": "https://localhost:8080/",
          "height": 206
        },
        "id": "5g-wngj5iTV3",
        "outputId": "79768870-b53b-4ca3-e6a3-e726ed3d3164"
      },
      "execution_count": 23,
      "outputs": [
        {
          "output_type": "execute_result",
          "data": {
            "text/plain": [
              "                        qid  \\\n",
              "0  56ddde6b9a695914005b9628   \n",
              "1  56ddde6b9a695914005b9629   \n",
              "2  56ddde6b9a695914005b962a   \n",
              "3  56ddde6b9a695914005b962b   \n",
              "4  56ddde6b9a695914005b962c   \n",
              "\n",
              "                                            question  \\\n",
              "0               In what country is Normandy located?   \n",
              "1                 When were the Normans in Normandy?   \n",
              "2      From which countries did the Norse originate?   \n",
              "3                          Who was the Norse leader?   \n",
              "4  What century did the Normans first gain their ...   \n",
              "\n",
              "                     prediction  \\\n",
              "0                        france   \n",
              "1       10th and 11th centuries   \n",
              "2  denmark , iceland and norway   \n",
              "3                         rollo   \n",
              "4                          10th   \n",
              "\n",
              "                                        true_answers   f1  em  \n",
              "0                        France;France;France;France  1.0   1  \n",
              "1  10th and 11th centuries;in the 10th and 11th c...  1.0   1  \n",
              "2  Denmark, Iceland and Norway;Denmark, Iceland a...  1.0   1  \n",
              "3                            Rollo;Rollo;Rollo;Rollo  1.0   1  \n",
              "4  10th century;the first half of the 10th centur...  1.0   1  "
            ],
            "text/html": [
              "\n",
              "  <div id=\"df-f91dbcd9-c011-4897-8810-d651afda883c\" class=\"colab-df-container\">\n",
              "    <div>\n",
              "<style scoped>\n",
              "    .dataframe tbody tr th:only-of-type {\n",
              "        vertical-align: middle;\n",
              "    }\n",
              "\n",
              "    .dataframe tbody tr th {\n",
              "        vertical-align: top;\n",
              "    }\n",
              "\n",
              "    .dataframe thead th {\n",
              "        text-align: right;\n",
              "    }\n",
              "</style>\n",
              "<table border=\"1\" class=\"dataframe\">\n",
              "  <thead>\n",
              "    <tr style=\"text-align: right;\">\n",
              "      <th></th>\n",
              "      <th>qid</th>\n",
              "      <th>question</th>\n",
              "      <th>prediction</th>\n",
              "      <th>true_answers</th>\n",
              "      <th>f1</th>\n",
              "      <th>em</th>\n",
              "    </tr>\n",
              "  </thead>\n",
              "  <tbody>\n",
              "    <tr>\n",
              "      <th>0</th>\n",
              "      <td>56ddde6b9a695914005b9628</td>\n",
              "      <td>In what country is Normandy located?</td>\n",
              "      <td>france</td>\n",
              "      <td>France;France;France;France</td>\n",
              "      <td>1.0</td>\n",
              "      <td>1</td>\n",
              "    </tr>\n",
              "    <tr>\n",
              "      <th>1</th>\n",
              "      <td>56ddde6b9a695914005b9629</td>\n",
              "      <td>When were the Normans in Normandy?</td>\n",
              "      <td>10th and 11th centuries</td>\n",
              "      <td>10th and 11th centuries;in the 10th and 11th c...</td>\n",
              "      <td>1.0</td>\n",
              "      <td>1</td>\n",
              "    </tr>\n",
              "    <tr>\n",
              "      <th>2</th>\n",
              "      <td>56ddde6b9a695914005b962a</td>\n",
              "      <td>From which countries did the Norse originate?</td>\n",
              "      <td>denmark , iceland and norway</td>\n",
              "      <td>Denmark, Iceland and Norway;Denmark, Iceland a...</td>\n",
              "      <td>1.0</td>\n",
              "      <td>1</td>\n",
              "    </tr>\n",
              "    <tr>\n",
              "      <th>3</th>\n",
              "      <td>56ddde6b9a695914005b962b</td>\n",
              "      <td>Who was the Norse leader?</td>\n",
              "      <td>rollo</td>\n",
              "      <td>Rollo;Rollo;Rollo;Rollo</td>\n",
              "      <td>1.0</td>\n",
              "      <td>1</td>\n",
              "    </tr>\n",
              "    <tr>\n",
              "      <th>4</th>\n",
              "      <td>56ddde6b9a695914005b962c</td>\n",
              "      <td>What century did the Normans first gain their ...</td>\n",
              "      <td>10th</td>\n",
              "      <td>10th century;the first half of the 10th centur...</td>\n",
              "      <td>1.0</td>\n",
              "      <td>1</td>\n",
              "    </tr>\n",
              "  </tbody>\n",
              "</table>\n",
              "</div>\n",
              "    <div class=\"colab-df-buttons\">\n",
              "\n",
              "  <div class=\"colab-df-container\">\n",
              "    <button class=\"colab-df-convert\" onclick=\"convertToInteractive('df-f91dbcd9-c011-4897-8810-d651afda883c')\"\n",
              "            title=\"Convert this dataframe to an interactive table.\"\n",
              "            style=\"display:none;\">\n",
              "\n",
              "  <svg xmlns=\"http://www.w3.org/2000/svg\" height=\"24px\" viewBox=\"0 -960 960 960\">\n",
              "    <path d=\"M120-120v-720h720v720H120Zm60-500h600v-160H180v160Zm220 220h160v-160H400v160Zm0 220h160v-160H400v160ZM180-400h160v-160H180v160Zm440 0h160v-160H620v160ZM180-180h160v-160H180v160Zm440 0h160v-160H620v160Z\"/>\n",
              "  </svg>\n",
              "    </button>\n",
              "\n",
              "  <style>\n",
              "    .colab-df-container {\n",
              "      display:flex;\n",
              "      gap: 12px;\n",
              "    }\n",
              "\n",
              "    .colab-df-convert {\n",
              "      background-color: #E8F0FE;\n",
              "      border: none;\n",
              "      border-radius: 50%;\n",
              "      cursor: pointer;\n",
              "      display: none;\n",
              "      fill: #1967D2;\n",
              "      height: 32px;\n",
              "      padding: 0 0 0 0;\n",
              "      width: 32px;\n",
              "    }\n",
              "\n",
              "    .colab-df-convert:hover {\n",
              "      background-color: #E2EBFA;\n",
              "      box-shadow: 0px 1px 2px rgba(60, 64, 67, 0.3), 0px 1px 3px 1px rgba(60, 64, 67, 0.15);\n",
              "      fill: #174EA6;\n",
              "    }\n",
              "\n",
              "    .colab-df-buttons div {\n",
              "      margin-bottom: 4px;\n",
              "    }\n",
              "\n",
              "    [theme=dark] .colab-df-convert {\n",
              "      background-color: #3B4455;\n",
              "      fill: #D2E3FC;\n",
              "    }\n",
              "\n",
              "    [theme=dark] .colab-df-convert:hover {\n",
              "      background-color: #434B5C;\n",
              "      box-shadow: 0px 1px 3px 1px rgba(0, 0, 0, 0.15);\n",
              "      filter: drop-shadow(0px 1px 2px rgba(0, 0, 0, 0.3));\n",
              "      fill: #FFFFFF;\n",
              "    }\n",
              "  </style>\n",
              "\n",
              "    <script>\n",
              "      const buttonEl =\n",
              "        document.querySelector('#df-f91dbcd9-c011-4897-8810-d651afda883c button.colab-df-convert');\n",
              "      buttonEl.style.display =\n",
              "        google.colab.kernel.accessAllowed ? 'block' : 'none';\n",
              "\n",
              "      async function convertToInteractive(key) {\n",
              "        const element = document.querySelector('#df-f91dbcd9-c011-4897-8810-d651afda883c');\n",
              "        const dataTable =\n",
              "          await google.colab.kernel.invokeFunction('convertToInteractive',\n",
              "                                                    [key], {});\n",
              "        if (!dataTable) return;\n",
              "\n",
              "        const docLinkHtml = 'Like what you see? Visit the ' +\n",
              "          '<a target=\"_blank\" href=https://colab.research.google.com/notebooks/data_table.ipynb>data table notebook</a>'\n",
              "          + ' to learn more about interactive tables.';\n",
              "        element.innerHTML = '';\n",
              "        dataTable['output_type'] = 'display_data';\n",
              "        await google.colab.output.renderOutput(dataTable, element);\n",
              "        const docLink = document.createElement('div');\n",
              "        docLink.innerHTML = docLinkHtml;\n",
              "        element.appendChild(docLink);\n",
              "      }\n",
              "    </script>\n",
              "  </div>\n",
              "\n",
              "\n",
              "<div id=\"df-c1140698-b90a-4233-abef-3837257bea76\">\n",
              "  <button class=\"colab-df-quickchart\" onclick=\"quickchart('df-c1140698-b90a-4233-abef-3837257bea76')\"\n",
              "            title=\"Suggest charts.\"\n",
              "            style=\"display:none;\">\n",
              "\n",
              "<svg xmlns=\"http://www.w3.org/2000/svg\" height=\"24px\"viewBox=\"0 0 24 24\"\n",
              "     width=\"24px\">\n",
              "    <g>\n",
              "        <path d=\"M19 3H5c-1.1 0-2 .9-2 2v14c0 1.1.9 2 2 2h14c1.1 0 2-.9 2-2V5c0-1.1-.9-2-2-2zM9 17H7v-7h2v7zm4 0h-2V7h2v10zm4 0h-2v-4h2v4z\"/>\n",
              "    </g>\n",
              "</svg>\n",
              "  </button>\n",
              "\n",
              "<style>\n",
              "  .colab-df-quickchart {\n",
              "      --bg-color: #E8F0FE;\n",
              "      --fill-color: #1967D2;\n",
              "      --hover-bg-color: #E2EBFA;\n",
              "      --hover-fill-color: #174EA6;\n",
              "      --disabled-fill-color: #AAA;\n",
              "      --disabled-bg-color: #DDD;\n",
              "  }\n",
              "\n",
              "  [theme=dark] .colab-df-quickchart {\n",
              "      --bg-color: #3B4455;\n",
              "      --fill-color: #D2E3FC;\n",
              "      --hover-bg-color: #434B5C;\n",
              "      --hover-fill-color: #FFFFFF;\n",
              "      --disabled-bg-color: #3B4455;\n",
              "      --disabled-fill-color: #666;\n",
              "  }\n",
              "\n",
              "  .colab-df-quickchart {\n",
              "    background-color: var(--bg-color);\n",
              "    border: none;\n",
              "    border-radius: 50%;\n",
              "    cursor: pointer;\n",
              "    display: none;\n",
              "    fill: var(--fill-color);\n",
              "    height: 32px;\n",
              "    padding: 0;\n",
              "    width: 32px;\n",
              "  }\n",
              "\n",
              "  .colab-df-quickchart:hover {\n",
              "    background-color: var(--hover-bg-color);\n",
              "    box-shadow: 0 1px 2px rgba(60, 64, 67, 0.3), 0 1px 3px 1px rgba(60, 64, 67, 0.15);\n",
              "    fill: var(--button-hover-fill-color);\n",
              "  }\n",
              "\n",
              "  .colab-df-quickchart-complete:disabled,\n",
              "  .colab-df-quickchart-complete:disabled:hover {\n",
              "    background-color: var(--disabled-bg-color);\n",
              "    fill: var(--disabled-fill-color);\n",
              "    box-shadow: none;\n",
              "  }\n",
              "\n",
              "  .colab-df-spinner {\n",
              "    border: 2px solid var(--fill-color);\n",
              "    border-color: transparent;\n",
              "    border-bottom-color: var(--fill-color);\n",
              "    animation:\n",
              "      spin 1s steps(1) infinite;\n",
              "  }\n",
              "\n",
              "  @keyframes spin {\n",
              "    0% {\n",
              "      border-color: transparent;\n",
              "      border-bottom-color: var(--fill-color);\n",
              "      border-left-color: var(--fill-color);\n",
              "    }\n",
              "    20% {\n",
              "      border-color: transparent;\n",
              "      border-left-color: var(--fill-color);\n",
              "      border-top-color: var(--fill-color);\n",
              "    }\n",
              "    30% {\n",
              "      border-color: transparent;\n",
              "      border-left-color: var(--fill-color);\n",
              "      border-top-color: var(--fill-color);\n",
              "      border-right-color: var(--fill-color);\n",
              "    }\n",
              "    40% {\n",
              "      border-color: transparent;\n",
              "      border-right-color: var(--fill-color);\n",
              "      border-top-color: var(--fill-color);\n",
              "    }\n",
              "    60% {\n",
              "      border-color: transparent;\n",
              "      border-right-color: var(--fill-color);\n",
              "    }\n",
              "    80% {\n",
              "      border-color: transparent;\n",
              "      border-right-color: var(--fill-color);\n",
              "      border-bottom-color: var(--fill-color);\n",
              "    }\n",
              "    90% {\n",
              "      border-color: transparent;\n",
              "      border-bottom-color: var(--fill-color);\n",
              "    }\n",
              "  }\n",
              "</style>\n",
              "\n",
              "  <script>\n",
              "    async function quickchart(key) {\n",
              "      const quickchartButtonEl =\n",
              "        document.querySelector('#' + key + ' button');\n",
              "      quickchartButtonEl.disabled = true;  // To prevent multiple clicks.\n",
              "      quickchartButtonEl.classList.add('colab-df-spinner');\n",
              "      try {\n",
              "        const charts = await google.colab.kernel.invokeFunction(\n",
              "            'suggestCharts', [key], {});\n",
              "      } catch (error) {\n",
              "        console.error('Error during call to suggestCharts:', error);\n",
              "      }\n",
              "      quickchartButtonEl.classList.remove('colab-df-spinner');\n",
              "      quickchartButtonEl.classList.add('colab-df-quickchart-complete');\n",
              "    }\n",
              "    (() => {\n",
              "      let quickchartButtonEl =\n",
              "        document.querySelector('#df-c1140698-b90a-4233-abef-3837257bea76 button');\n",
              "      quickchartButtonEl.style.display =\n",
              "        google.colab.kernel.accessAllowed ? 'block' : 'none';\n",
              "    })();\n",
              "  </script>\n",
              "</div>\n",
              "    </div>\n",
              "  </div>\n"
            ]
          },
          "metadata": {},
          "execution_count": 23
        }
      ]
    },
    {
      "cell_type": "code",
      "source": [
        "metrics_df['f1'].mean()"
      ],
      "metadata": {
        "colab": {
          "base_uri": "https://localhost:8080/"
        },
        "id": "O67NGSaajNbr",
        "outputId": "43caa62e-c1ac-4121-bab0-0ef957f320cf"
      },
      "execution_count": 24,
      "outputs": [
        {
          "output_type": "execute_result",
          "data": {
            "text/plain": [
              "0.7866849965752404"
            ]
          },
          "metadata": {},
          "execution_count": 24
        }
      ]
    },
    {
      "cell_type": "code",
      "source": [
        "metrics_df['em'].mean()"
      ],
      "metadata": {
        "colab": {
          "base_uri": "https://localhost:8080/"
        },
        "id": "r6fWqRwPjdEK",
        "outputId": "c9ec408c-5da3-4682-fe80-e56c6e863885"
      },
      "execution_count": 25,
      "outputs": [
        {
          "output_type": "execute_result",
          "data": {
            "text/plain": [
              "0.72"
            ]
          },
          "metadata": {},
          "execution_count": 25
        }
      ]
    },
    {
      "cell_type": "markdown",
      "source": [
        "## Improving measurement functions through model thresholding"
      ],
      "metadata": {
        "id": "w0aK2KezjfbA"
      }
    },
    {
      "cell_type": "markdown",
      "source": [
        "When we tokenize a question and context, and we pass it to the model, the output consists of two probabilities (logits). One is the start of the answer span, the other for the end of the answer span. <br><br>\n",
        "\n",
        "Every tokent that is passed to the model is assigned a logit, and tokens corresponding to the question itself. <br><br>\n",
        "\n",
        "Let's have a look at what this means, using a previous question (\"What happened 3.7 - 2 billion years ago?\"):"
      ],
      "metadata": {
        "id": "sFyfYSl_jnM0"
      }
    },
    {
      "cell_type": "code",
      "source": [
        "inputs = tokenizer.encode_plus(example.question_text, example.context_text, return_tensors = 'pt')\n",
        "output = model(**inputs)"
      ],
      "metadata": {
        "id": "C1kCEIubj2CO"
      },
      "execution_count": 26,
      "outputs": []
    },
    {
      "cell_type": "markdown",
      "source": [
        "Looking below, we can observe how large is the first position of the array, this is the [CLS] token position. This has a strong probability that this question has no answer, but we answered it anyway."
      ],
      "metadata": {
        "id": "tgoRG09wkS56"
      }
    },
    {
      "cell_type": "code",
      "source": [
        "start_logits = output.start_logits\n",
        "end_logits = output.end_logits"
      ],
      "metadata": {
        "id": "ErCBy8aHbXGk"
      },
      "execution_count": 27,
      "outputs": []
    },
    {
      "cell_type": "code",
      "source": [
        "start_logits"
      ],
      "metadata": {
        "colab": {
          "base_uri": "https://localhost:8080/"
        },
        "id": "zuL9EdX2bb29",
        "outputId": "a4d9fbc7-f093-4d12-9c74-65f86b05eb8b"
      },
      "execution_count": 28,
      "outputs": [
        {
          "output_type": "execute_result",
          "data": {
            "text/plain": [
              "tensor([[  5.1171,  -8.3404,  -9.2660,  -8.0987,  -9.1736,  -9.5905,  -9.6239,\n",
              "          -9.4974,  -9.7725,  -9.9778, -10.1417,  -9.6171,  -8.7191,  -3.9945,\n",
              "          -5.9036,  -6.7555,  -8.8160,  -7.9155,  -8.7225,  -9.7324,  -9.5704,\n",
              "         -10.2445,  -9.0550,  -7.5630,  -9.8712, -10.0757,  -7.6297,  -7.4481,\n",
              "          -6.5011,  -9.7018, -10.0513,  -9.4285,  -8.6840, -10.2489,  -9.9774,\n",
              "          -8.0076,  -7.7707,  -8.0321,  -6.8884,  -6.6425,  -6.5631,  -9.4518,\n",
              "          -8.6434,  -9.5573,  -9.8626,  -9.7323,  -7.0476,  -4.5778,  -6.4825,\n",
              "          -6.7371,  -6.9433,  -9.1568,  -6.9630,  -8.9800,  -6.9723,  -7.3322,\n",
              "          -5.2532,  -9.6134,  -9.4807, -10.0298,  -9.8842,  -8.8732,  -7.9342,\n",
              "          -8.2085,  -8.0398,  -7.8698,  -7.2027,  -9.6577,  -9.1055,  -9.7395,\n",
              "          -7.7438,  -9.5543,  -9.0663,  -9.2180,  -9.8046,  -9.6983,  -8.9082,\n",
              "          -6.9894,  -6.7306,  -7.6100,  -6.7132,  -8.6220,  -9.4562,  -8.3209,\n",
              "          -5.3854,  -6.1157,  -6.8288,  -8.7172,  -9.4399,  -8.5389,  -6.3029,\n",
              "          -6.8487,  -9.8548,  -7.2582,  -8.6202,  -9.2930,  -9.4980,  -6.5140,\n",
              "          -8.4708,  -6.9057,  -5.5324,  -7.3197,  -6.6870,  -7.6689,   0.6028,\n",
              "          -6.1649,  -1.1287,  -5.9593,  -5.8637,  -6.0899,  -5.6955,   1.3977,\n",
              "          -1.8839,  -1.7322,  -6.0377,  -2.1163,  -7.4047,  -6.2707,  -7.8654,\n",
              "          -4.9938,  -5.3458,  -9.1419,  -7.1310,  -8.7467,  -8.0603,  -8.0363,\n",
              "          -8.7677,  -8.3480,  -7.1321,  -1.9241,  -3.9768,  -8.1719,  -8.9737,\n",
              "          -7.6712,  -7.8334,  -7.1851,  -4.8624,  -3.9354,  -9.3268,  -9.7560,\n",
              "          -9.3310,  -9.5895,  -8.1781,  -7.8229,  -8.7144]],\n",
              "       grad_fn=<CloneBackward0>)"
            ]
          },
          "metadata": {},
          "execution_count": 28
        }
      ]
    },
    {
      "cell_type": "markdown",
      "source": [
        "Our model gets predictions by selecting the start and end tokens with the largest logits. It would be more sensible to choose any sensible start + end combinations as possible to answer the question."
      ],
      "metadata": {
        "id": "f_vAn4Febc7C"
      }
    },
    {
      "cell_type": "markdown",
      "source": [
        "These combinations can be scored independently and the one with the highest score would be considered the best answer."
      ],
      "metadata": {
        "id": "LKDrFDkWbrqh"
      }
    },
    {
      "cell_type": "markdown",
      "source": [
        "A possible (candidate) answer is scored as the sum of its start and end logits"
      ],
      "metadata": {
        "id": "wP9qmkH9bzbF"
      }
    },
    {
      "cell_type": "markdown",
      "source": [
        "## Calculating possible combinations"
      ],
      "metadata": {
        "id": "YN_ZpBrBb30i"
      }
    },
    {
      "cell_type": "markdown",
      "source": [
        "We start by taking the n largest start and end logits. Any sensible combination can be considered an answer, however, some consistency checks must first be performed."
      ],
      "metadata": {
        "id": "9BnWrO4Fb8ke"
      }
    },
    {
      "cell_type": "markdown",
      "source": [
        "For instance:\n",
        "    \n",
        "    - End token must fall after the start token\n",
        "    - Candidate answers wherein the start or end tokens are associated with question tokens\n",
        "\n",
        "[CLS] is not removed from the answers as it can indicate null answer"
      ],
      "metadata": {
        "id": "Zp5Xk5t8cHOQ"
      }
    },
    {
      "cell_type": "code",
      "source": [
        "# convert our start and end logit tensors to lists\n",
        "start_logits = to_list(start_logits)[0]\n",
        "end_logits = to_list(end_logits)[0]"
      ],
      "metadata": {
        "id": "nvXWppCfcJQ7"
      },
      "execution_count": 29,
      "outputs": []
    },
    {
      "cell_type": "code",
      "source": [
        "# sort our start and end logits from the largest to the smallest, keeping track of the index\n",
        "start_idx_and_logit = sorted(enumerate(start_logits), key = lambda x: x[1], reverse = True)\n",
        "end_idx_and_logit = sorted(enumerate(end_logits), key = lambda x: x[1], reverse = True)"
      ],
      "metadata": {
        "id": "GEoHj9OqcYCm"
      },
      "execution_count": 30,
      "outputs": []
    },
    {
      "cell_type": "code",
      "source": [
        "# select the top n (in this case, 5)\n",
        "print(start_idx_and_logit[: 5])\n",
        "print(end_idx_and_logit[: 5])"
      ],
      "metadata": {
        "colab": {
          "base_uri": "https://localhost:8080/"
        },
        "id": "t5dcO9L2cvu7",
        "outputId": "af38fffd-4e8e-4c40-8dc1-fcbe4f7cf909"
      },
      "execution_count": 31,
      "outputs": [
        {
          "output_type": "stream",
          "name": "stdout",
          "text": [
            "[(0, 5.117069244384766), (111, 1.3977384567260742), (104, 0.6027610301971436), (106, -1.1286728382110596), (113, -1.7321617603302002)]\n",
            "[(0, 6.168288230895996), (119, 3.2872838973999023), (109, 0.9794851541519165), (135, 0.30854111909866333), (116, -0.20684576034545898)]\n"
          ]
        }
      ]
    },
    {
      "cell_type": "markdown",
      "source": [
        "The null answer token (index 0) is in the top five of both the start and end logit lists."
      ],
      "metadata": {
        "id": "gBiIqxvHc4dA"
      }
    },
    {
      "cell_type": "markdown",
      "source": [
        "In order to eventually predict a text answer (or an empty string), we need to keep track of the indexes which will be use to pull the corresponding token ids later on. We'll also need to identify which indexes correspond to the question tokens, so we can ensure we don't alow a non-sensical prediction."
      ],
      "metadata": {
        "id": "6MAGkMrZdCAS"
      }
    },
    {
      "cell_type": "code",
      "source": [
        "start_indexes = [idx for idx, logit in start_idx_and_logit[: 5]]\n",
        "end_indexes = [idx for idx, logit in end_idx_and_logit[: 5]]"
      ],
      "metadata": {
        "id": "ShUA8EPMdWVZ"
      },
      "execution_count": 32,
      "outputs": []
    },
    {
      "cell_type": "code",
      "source": [
        "# convert the token ids from a tensor to a list\n",
        "tokens = to_list(inputs['input_ids'])[0]"
      ],
      "metadata": {
        "id": "eNerZ6D3dgqt"
      },
      "execution_count": 33,
      "outputs": []
    },
    {
      "cell_type": "code",
      "source": [
        "# question tokens are defined as those between the CLS token (101, at position 0) and first SEP (102) token\n",
        "question_indexes = [i + 1 for i, token in enumerate(tokens[1: tokens.index(102)])]\n",
        "question_indexes"
      ],
      "metadata": {
        "colab": {
          "base_uri": "https://localhost:8080/"
        },
        "id": "mNn4gjL9dohV",
        "outputId": "d48ecbe3-5cc0-452e-997d-0d46e371601f"
      },
      "execution_count": 34,
      "outputs": [
        {
          "output_type": "execute_result",
          "data": {
            "text/plain": [
              "[1, 2, 3, 4, 5, 6, 7, 8, 9, 10, 11]"
            ]
          },
          "metadata": {},
          "execution_count": 34
        }
      ]
    },
    {
      "cell_type": "code",
      "source": [
        "# keep track of all preliminary predictions\n",
        "PrelimPrediction = collections.namedtuple(\n",
        "    \"PrelimPrediction\", [\"start_index\", \"end_index\", \"start_logit\", \"end_logit\"]\n",
        ")"
      ],
      "metadata": {
        "id": "K-6wF7xOd8Sx"
      },
      "execution_count": 35,
      "outputs": []
    },
    {
      "cell_type": "markdown",
      "source": [
        "We will generate a list of candidate predictions by looping through all combinations of the start and end token indexes, excluding non-sensical combinations."
      ],
      "metadata": {
        "id": "bZV--c0GeNNw"
      }
    },
    {
      "cell_type": "code",
      "source": [
        "prelim_preds = []\n",
        "\n",
        "for start_index in start_indexes:\n",
        "  for end_index in end_indexes:\n",
        "    # throw out invalid predictions\n",
        "    if start_index in question_indexes:\n",
        "      continue\n",
        "    if end_index in question_indexes:\n",
        "      continue\n",
        "    if end_index < start_index:\n",
        "      continue\n",
        "\n",
        "    prelim_preds.append(\n",
        "        PrelimPrediction(\n",
        "            start_index = start_index,\n",
        "            end_index = end_index,\n",
        "            start_logit = start_logits[start_index],\n",
        "            end_logit = end_logits[end_index]\n",
        "        )\n",
        "    )"
      ],
      "metadata": {
        "id": "futcP0OueZHS"
      },
      "execution_count": 36,
      "outputs": []
    },
    {
      "cell_type": "markdown",
      "source": [
        "With a list of sensible candidate predictions, it's time to score them now."
      ],
      "metadata": {
        "id": "JULI2Ulfe7wV"
      }
    },
    {
      "cell_type": "markdown",
      "source": [
        "For a candidate answer, score = start_logit + end_logit. Below, we sort our candidate predictions by their score."
      ],
      "metadata": {
        "id": "_UdUavhve__y"
      }
    },
    {
      "cell_type": "code",
      "source": [
        "# sort preliminary predictions by their score\n",
        "prelim_preds = sorted(prelim_preds, key = lambda x: (x.start_logit + x.end_logit), reverse = True)\n",
        "print(prelim_preds[: 5])"
      ],
      "metadata": {
        "colab": {
          "base_uri": "https://localhost:8080/"
        },
        "id": "7A4WqtZpfJyl",
        "outputId": "21f5ac3a-70c8-4bf2-b66f-8683fc26154c"
      },
      "execution_count": 37,
      "outputs": [
        {
          "output_type": "stream",
          "name": "stdout",
          "text": [
            "[PrelimPrediction(start_index=0, end_index=0, start_logit=5.117069244384766, end_logit=6.168288230895996), PrelimPrediction(start_index=0, end_index=119, start_logit=5.117069244384766, end_logit=3.2872838973999023), PrelimPrediction(start_index=0, end_index=109, start_logit=5.117069244384766, end_logit=0.9794851541519165), PrelimPrediction(start_index=0, end_index=135, start_logit=5.117069244384766, end_logit=0.30854111909866333), PrelimPrediction(start_index=0, end_index=116, start_logit=5.117069244384766, end_logit=-0.20684576034545898)]\n"
          ]
        }
      ]
    },
    {
      "cell_type": "markdown",
      "source": [
        "We need to convert our preliminary predictions into actual text (or the empty string, if null). We will keep track of text predictions we've seen, because different token combinations can result in the same text prediction and we only want to keep the one with the highest score (we're looping in descending score order). Finally, we'll trim this list down to the best 5 predictions."
      ],
      "metadata": {
        "id": "qSKbrwUOfYre"
      }
    },
    {
      "cell_type": "code",
      "source": [
        "# keep track of all the best predictions\n",
        "BestPrediction = collections.namedtuple( # pylint: disable = invalid-name\n",
        "                                       \"BestPrediction\", [\"text\", \"start_logit\", \"end_logit\"]\n",
        "                                        )"
      ],
      "metadata": {
        "id": "zj_Tzn4Pf4e1"
      },
      "execution_count": 38,
      "outputs": []
    },
    {
      "cell_type": "code",
      "source": [
        "nbest = []\n",
        "seen_predictions = []\n",
        "\n",
        "for pred in prelim_preds:\n",
        "  # for now we only care about the top 5 best predictions\n",
        "  if len(nbest) >= 5:\n",
        "    break\n",
        "\n",
        "  # loop through the predictions according to their start index\n",
        "  if pred.start_index > 0: # non-null answers have start_index > 0\n",
        "    text = tokenizer.convert_tokens_to_string(\n",
        "        tokenizer.convert_ids_to_tokens(\n",
        "            tokens[pred.start_index: pred.end_index + 1]\n",
        "        )\n",
        "    )\n",
        "\n",
        "    # clean the whitespace\n",
        "    text = text.strip()\n",
        "    text = \" \".join(text.split())\n",
        "\n",
        "    if text in seen_predictions:\n",
        "      continue\n",
        "\n",
        "    # flag this text as being seen - if we see it again, don't add it to the nbest list\n",
        "    seen_predictions.append(text)\n",
        "\n",
        "    # add this text prediction to a pruned list of the top 5 best predictions\n",
        "    nbest.append(BestPrediction(text = text, start_logit = pred.start_logit, end_logit = pred.end_logit))"
      ],
      "metadata": {
        "id": "hRonNle0gL-a"
      },
      "execution_count": 39,
      "outputs": []
    },
    {
      "cell_type": "code",
      "source": [
        "nbest"
      ],
      "metadata": {
        "colab": {
          "base_uri": "https://localhost:8080/"
        },
        "id": "UurAXerXhb_T",
        "outputId": "a9391049-f5b8-440a-d430-0299b9f16737"
      },
      "execution_count": 40,
      "outputs": [
        {
          "output_type": "execute_result",
          "data": {
            "text/plain": [
              "[BestPrediction(text='free oxygen began to outgas from the oceans', start_logit=1.3977384567260742, end_logit=3.2872838973999023),\n",
              " BestPrediction(text='when such oxygen sinks became saturated , free oxygen began to outgas from the oceans', start_logit=0.6027610301971436, end_logit=3.2872838973999023),\n",
              " BestPrediction(text='oxygen sinks became saturated , free oxygen began to outgas from the oceans', start_logit=-1.1286728382110596, end_logit=3.2872838973999023),\n",
              " BestPrediction(text='free oxygen began to outgas from the oceans 3 – 2 . 7 billion years ago , reaching 10 % of its present level', start_logit=1.3977384567260742, end_logit=0.30854111909866333),\n",
              " BestPrediction(text='when such oxygen sinks became saturated', start_logit=0.6027610301971436, end_logit=0.9794851541519165)]"
            ]
          },
          "metadata": {},
          "execution_count": 40
        }
      ]
    },
    {
      "cell_type": "markdown",
      "source": [
        "At this point, we have a neat list of the top 5 best predictions for this question, let's now also add the null answer."
      ],
      "metadata": {
        "id": "q8HfeMrthiEj"
      }
    },
    {
      "cell_type": "code",
      "source": [
        "# and don't forget -- include the null answer!\n",
        "nbest.append(BestPrediction(text = \"\", start_logit = start_logits[0], end_logit = end_logits[0]))\n",
        "nbest"
      ],
      "metadata": {
        "colab": {
          "base_uri": "https://localhost:8080/"
        },
        "id": "R1koiFyE0ncV",
        "outputId": "10a78a51-bc70-4750-c0c3-7bbf23fd1f0d"
      },
      "execution_count": 41,
      "outputs": [
        {
          "output_type": "execute_result",
          "data": {
            "text/plain": [
              "[BestPrediction(text='free oxygen began to outgas from the oceans', start_logit=1.3977384567260742, end_logit=3.2872838973999023),\n",
              " BestPrediction(text='when such oxygen sinks became saturated , free oxygen began to outgas from the oceans', start_logit=0.6027610301971436, end_logit=3.2872838973999023),\n",
              " BestPrediction(text='oxygen sinks became saturated , free oxygen began to outgas from the oceans', start_logit=-1.1286728382110596, end_logit=3.2872838973999023),\n",
              " BestPrediction(text='free oxygen began to outgas from the oceans 3 – 2 . 7 billion years ago , reaching 10 % of its present level', start_logit=1.3977384567260742, end_logit=0.30854111909866333),\n",
              " BestPrediction(text='when such oxygen sinks became saturated', start_logit=0.6027610301971436, end_logit=0.9794851541519165),\n",
              " BestPrediction(text='', start_logit=5.117069244384766, end_logit=6.168288230895996)]"
            ]
          },
          "metadata": {},
          "execution_count": 41
        }
      ]
    },
    {
      "cell_type": "markdown",
      "source": [
        "The null answer is scored as the sum of the start_logit and end_logit associated with the [CLS] token."
      ],
      "metadata": {
        "id": "pWb7ltQz02aZ"
      }
    },
    {
      "cell_type": "markdown",
      "source": [
        "The last step is to compute the null score - more specifically, the difference between the null score and the best non-null score as shown below."
      ],
      "metadata": {
        "id": "9-afipUW0_g6"
      }
    },
    {
      "cell_type": "code",
      "source": [
        "# compute the null score as the sum of the [CLS] token logits\n",
        "score_null = start_logits[0] + end_logits[0]\n",
        "score_null"
      ],
      "metadata": {
        "colab": {
          "base_uri": "https://localhost:8080/"
        },
        "id": "JZ2HACT01Hu4",
        "outputId": "f529c4f9-d12a-4862-8545-f75107ab8084"
      },
      "execution_count": 42,
      "outputs": [
        {
          "output_type": "execute_result",
          "data": {
            "text/plain": [
              "11.285357475280762"
            ]
          },
          "metadata": {},
          "execution_count": 42
        }
      ]
    },
    {
      "cell_type": "code",
      "source": [
        "nbest[0].start_logit + nbest[0].end_logit"
      ],
      "metadata": {
        "colab": {
          "base_uri": "https://localhost:8080/"
        },
        "id": "ZrnRhWgD1RLa",
        "outputId": "b8d9a31d-f344-4bdd-8516-8d83d69077f2"
      },
      "execution_count": 43,
      "outputs": [
        {
          "output_type": "execute_result",
          "data": {
            "text/plain": [
              "4.685022354125977"
            ]
          },
          "metadata": {},
          "execution_count": 43
        }
      ]
    },
    {
      "cell_type": "code",
      "source": [
        "# compute the difference between the null score and tehbest non-null score\n",
        "score_diff = score_null - nbest[0].start_logit - nbest[0].end_logit\n",
        "score_diff"
      ],
      "metadata": {
        "colab": {
          "base_uri": "https://localhost:8080/"
        },
        "id": "yiJXl2RG1YJm",
        "outputId": "5d6b0515-e584-4230-e49c-6e87692b783e"
      },
      "execution_count": 44,
      "outputs": [
        {
          "output_type": "execute_result",
          "data": {
            "text/plain": [
              "6.600335121154785"
            ]
          },
          "metadata": {},
          "execution_count": 44
        }
      ]
    },
    {
      "cell_type": "markdown",
      "source": [
        "# SQuAD Evaluation"
      ],
      "metadata": {
        "id": "eGKYB9ym1k3E"
      }
    },
    {
      "cell_type": "code",
      "source": [
        "def evaluate(model_name_or_path,\n",
        "             dataset,\n",
        "             output_dir,\n",
        "             per_gpu_eval_batch_size = 12,\n",
        "             n_gpu = 1,\n",
        "             model_type = BERT_MODEL_TYPE,\n",
        "             do_lower_case = DO_LOWER_CASE,\n",
        "             nbest_size = NBEST_SIZE,\n",
        "             max_answer_length = MAX_ANSWER_LENGTH,\n",
        "             null_score_diff_threshold = 0.0):\n",
        "\n",
        "    device = torch.device(\"cuda\" if torch.cuda.is_available() else \"cpu\")\n",
        "\n",
        "    tokenizer = AutoTokenizer.from_pretrained(model_name_or_path, use_fast = False)\n",
        "    model = AutoModelForQuestionAnswering.from_pretrained(model_name_or_path)\n",
        "\n",
        "    model.to(device)\n",
        "\n",
        "    eval_batch_size = per_gpu_eval_batch_size * max(1, n_gpu)\n",
        "\n",
        "    # Note that DistributedSampler samples randomly\n",
        "    eval_sampler = SequentialSampler(dataset)\n",
        "    eval_dataloader = DataLoader(dataset, sampler = eval_sampler, batch_size = eval_batch_size)\n",
        "\n",
        "    # multi-gpu evaluate\n",
        "    if n_gpu > 1 and not isinstance(model, torch.nn.DataParallel):\n",
        "        model = torch.nn.DataParallel(model)\n",
        "\n",
        "    all_results = []\n",
        "    start_time = timeit.default_timer()\n",
        "\n",
        "    for batch in tqdm(eval_dataloader, desc = \"Evaluating\"):\n",
        "        model.eval()\n",
        "        batch = tuple(t.to(device) for t in batch)\n",
        "\n",
        "        with torch.no_grad():\n",
        "            inputs = {\n",
        "                \"input_ids\": batch[0],\n",
        "                \"attention_mask\": batch[1],\n",
        "                \"token_type_ids\": batch[2],\n",
        "            }\n",
        "\n",
        "            if model_type in [\"xlm\", \"roberta\", \"distilbert\", \"camembert\", \"bart\", \"longformer\"]:\n",
        "                del inputs[\"token_type_ids\"]\n",
        "\n",
        "            feature_indices = batch[3]\n",
        "\n",
        "            outputs = model(**inputs)\n",
        "\n",
        "        for i, feature_index in enumerate(feature_indices):\n",
        "            eval_feature = features[feature_index.item()]\n",
        "            unique_id = int(eval_feature.unique_id)\n",
        "\n",
        "            output = [to_list(output[i]) for output in outputs.to_tuple()]\n",
        "\n",
        "            start_logits, end_logits = output\n",
        "            result = SquadResult(unique_id, start_logits, end_logits)\n",
        "\n",
        "            all_results.append(result)\n",
        "\n",
        "    evalTime = timeit.default_timer() - start_time\n",
        "    print(f\"Evaluation done in total {evalTime} seconds ({evalTime / len(dataset)} seconds per example)\")\n",
        "\n",
        "    # compute predictions\n",
        "    os.makedirs(output_dir, exist_ok = True)\n",
        "\n",
        "    output_prediction_file = os.path.join(output_dir, \"predictions.json\")\n",
        "    output_nbest_file = os.path.join(output_dir, \"nbest_predictions.json\")\n",
        "\n",
        "    output_null_log_odds_file = os.path.join(output_dir, \"null_odds.json\")\n",
        "\n",
        "    predictions = compute_predictions_logits(\n",
        "        examples,\n",
        "        features,\n",
        "        all_results,\n",
        "        nbest_size,\n",
        "        max_answer_length,\n",
        "        do_lower_case,\n",
        "        output_prediction_file,\n",
        "        output_nbest_file,\n",
        "        output_null_log_odds_file,\n",
        "        False,\n",
        "        True,\n",
        "        null_score_diff_threshold,\n",
        "        tokenizer,\n",
        "    )\n",
        "\n",
        "    # compute the F1 and EM scores\n",
        "    results = squad_evaluate(examples, predictions)\n",
        "\n",
        "    results.update({\"eval_time\": evalTime, \"prediction_time\": evalTime / len(dataset)})\n",
        "\n",
        "    return results"
      ],
      "metadata": {
        "id": "SY0Xwyfi1hFU"
      },
      "execution_count": 45,
      "outputs": []
    },
    {
      "cell_type": "code",
      "source": [
        "result = evaluate(BERT_MODEL_HF_PATH, dataset, BERT_OUTPUT_DIR)\n",
        "result"
      ],
      "metadata": {
        "colab": {
          "base_uri": "https://localhost:8080/"
        },
        "id": "Fc-6c1B96QTE",
        "outputId": "1fd6d49b-a57b-4f36-e5cd-f75b27842b9c"
      },
      "execution_count": 46,
      "outputs": [
        {
          "output_type": "stream",
          "name": "stderr",
          "text": [
            "Some weights of the model checkpoint at twmkn9/bert-base-uncased-squad2 were not used when initializing BertForQuestionAnswering: ['bert.pooler.dense.weight', 'bert.pooler.dense.bias']\n",
            "- This IS expected if you are initializing BertForQuestionAnswering from the checkpoint of a model trained on another task or with another architecture (e.g. initializing a BertForSequenceClassification model from a BertForPreTraining model).\n",
            "- This IS NOT expected if you are initializing BertForQuestionAnswering from the checkpoint of a model that you expect to be exactly identical (initializing a BertForSequenceClassification model from a BertForSequenceClassification model).\n",
            "Evaluating: 100%|██████████| 1020/1020 [04:58<00:00,  3.42it/s]\n"
          ]
        },
        {
          "output_type": "stream",
          "name": "stdout",
          "text": [
            "Evaluation done in total 298.374268584 seconds (0.02439292581621975 seconds per example)\n"
          ]
        },
        {
          "output_type": "execute_result",
          "data": {
            "text/plain": [
              "OrderedDict([('exact', 72.3658721468879),\n",
              "             ('f1', 75.83107045305708),\n",
              "             ('total', 11873),\n",
              "             ('HasAns_exact', 72.80701754385964),\n",
              "             ('HasAns_f1', 79.74735146578041),\n",
              "             ('HasAns_total', 5928),\n",
              "             ('NoAns_exact', 71.9259882253995),\n",
              "             ('NoAns_f1', 71.9259882253995),\n",
              "             ('NoAns_total', 5945),\n",
              "             ('best_exact', 72.3658721468879),\n",
              "             ('best_exact_thresh', 0.0),\n",
              "             ('best_f1', 75.8310704530571),\n",
              "             ('best_f1_thresh', 0.0),\n",
              "             ('eval_time', 298.374268584),\n",
              "             ('prediction_time', 0.02439292581621975)])"
            ]
          },
          "metadata": {},
          "execution_count": 46
        }
      ]
    },
    {
      "cell_type": "markdown",
      "source": [
        "The first three blocks of the results output are pretty straightforward. EM and F1 scores are reported over\n",
        "\n",
        "\n",
        "*   the full dev set,\n",
        "*   the set of positive examples,\n",
        "*   the set of negative examples.\n",
        "\n",
        "This can provide some insight into whether a model is performing adequately on both answer and no-answer questions.\n",
        "\n"
      ],
      "metadata": {
        "id": "mr4qA7rK6a8W"
      }
    },
    {
      "cell_type": "markdown",
      "source": [
        "As per below results, we see that two sections are zero. They depend on setting a threshold for the model so it knows when to prefer a null answer over an actual answer."
      ],
      "metadata": {
        "id": "uQLqLuelGRV3"
      }
    },
    {
      "cell_type": "markdown",
      "source": [
        "In other words, we should predict a null answer for a given example if that example's score difference is above a certain threshold. What should be that threshold? How should we compute it? They give us a recipe: select the threshold that maximizes F1."
      ],
      "metadata": {
        "id": "Mh9vXQMzGcNZ"
      }
    },
    {
      "cell_type": "markdown",
      "source": [
        "We will leverage the files created by the evaluate function above to retrieve the optimal threshold."
      ],
      "metadata": {
        "id": "J_NdOYRFGtWK"
      }
    },
    {
      "cell_type": "code",
      "source": [
        "# load the predictions we generated earlier\n",
        "filename = BERT_OUTPUT_DIR + '/predictions.json'\n",
        "preds = json.load(open(filename, 'rb'))\n",
        "\n",
        "# load the null score differences we generated earlier\n",
        "filename = BERT_OUTPUT_DIR + '/null_odds.json'\n",
        "null_odds = json.load(open(filename, 'rb'))"
      ],
      "metadata": {
        "id": "hpv-xlDIG0m3"
      },
      "execution_count": 47,
      "outputs": []
    },
    {
      "cell_type": "code",
      "source": [
        "# the default threshold is set to 1.0 -- we'll leave it there for now\n",
        "results_default_thresh = squad_evaluate(examples,\n",
        "                                        preds,\n",
        "                                        no_answer_probs=null_odds,\n",
        "                                        no_answer_probability_threshold=1.0)\n",
        "\n",
        "pprint(results_default_thresh)"
      ],
      "metadata": {
        "id": "8ShYLaenHE4d",
        "colab": {
          "base_uri": "https://localhost:8080/"
        },
        "outputId": "c604ddf2-9567-4e14-e994-5d625b430770"
      },
      "execution_count": 48,
      "outputs": [
        {
          "output_type": "stream",
          "name": "stdout",
          "text": [
            "OrderedDict([('exact', 72.3658721468879),\n",
            "             ('f1', 75.83107045305708),\n",
            "             ('total', 11873),\n",
            "             ('HasAns_exact', 72.80701754385964),\n",
            "             ('HasAns_f1', 79.74735146578041),\n",
            "             ('HasAns_total', 5928),\n",
            "             ('NoAns_exact', 71.9259882253995),\n",
            "             ('NoAns_f1', 71.9259882253995),\n",
            "             ('NoAns_total', 5945),\n",
            "             ('best_exact', 73.66293270445549),\n",
            "             ('best_exact_thresh', -3.76619291305542),\n",
            "             ('best_f1', 76.85604013447075),\n",
            "             ('best_f1_thresh', -3.4150748252868652)])\n"
          ]
        }
      ]
    },
    {
      "cell_type": "markdown",
      "source": [
        "The first three blocks have identical values as in our initial evaluation because they are based on the default threshold (which is currently 1.0). However, the values in the fourth block have been updated by taking into account the null_odds information. When a given example's score_diff is greater than the threshold, the prediction is flipped to a null answer which affects the overall EM and F1 scores."
      ],
      "metadata": {
        "id": "OlHWKJfnHp0z"
      }
    },
    {
      "cell_type": "code",
      "source": [
        "best_f1_thresh = -3.415079116821289\n",
        "results_f1_thresh = squad_evaluate(examples,\n",
        "                                   preds,\n",
        "                                   no_answer_probs=null_odds,\n",
        "                                   no_answer_probability_threshold=best_f1_thresh)\n",
        "\n",
        "pprint(results_f1_thresh)"
      ],
      "metadata": {
        "colab": {
          "base_uri": "https://localhost:8080/"
        },
        "id": "5I6xxZziHoMW",
        "outputId": "aed33fb4-214c-41f5-df65-bead311eccd1"
      },
      "execution_count": 49,
      "outputs": [
        {
          "output_type": "stream",
          "name": "stdout",
          "text": [
            "OrderedDict([('exact', 73.6208203486903),\n",
            "             ('f1', 76.84761766331809),\n",
            "             ('total', 11873),\n",
            "             ('HasAns_exact', 69.31511470985156),\n",
            "             ('HasAns_f1', 75.77796297513085),\n",
            "             ('HasAns_total', 5928),\n",
            "             ('NoAns_exact', 77.91421362489487),\n",
            "             ('NoAns_f1', 77.91421362489487),\n",
            "             ('NoAns_total', 5945),\n",
            "             ('best_exact', 73.66293270445549),\n",
            "             ('best_exact_thresh', -3.76619291305542),\n",
            "             ('best_f1', 76.85604013447075),\n",
            "             ('best_f1_thresh', -3.4150748252868652)])\n"
          ]
        }
      ]
    },
    {
      "cell_type": "markdown",
      "source": [
        "We can see that metrics for NoAns have increased significantly. The downside is that we lose some ground in how well our model correctly predicts HasAns examples. Overall, however, we see a net increase of a couple points in both EM and F1 scores. This demonstrates that computing null scores and properly using a null threshold significantly increases QA performance on the SQuAD2.0 dev set with almost no additional work."
      ],
      "metadata": {
        "id": "PioPMxRRHuzj"
      }
    },
    {
      "cell_type": "markdown",
      "source": [
        "# Putting it all together"
      ],
      "metadata": {
        "id": "2fu5NaO1HxjR"
      }
    },
    {
      "cell_type": "code",
      "source": [
        "def get_qa_inputs(example, tokenizer):\n",
        "    # load the example, convert to inputs, get model outputs\n",
        "    question = example.question_text\n",
        "    context = example.context_text\n",
        "    return tokenizer.encode_plus(question, context, return_tensors='pt')\n",
        "\n",
        "def get_clean_text(tokens, tokenizer):\n",
        "    text = tokenizer.convert_tokens_to_string(\n",
        "        tokenizer.convert_ids_to_tokens(tokens)\n",
        "        )\n",
        "    # Clean whitespace\n",
        "    text = text.strip()\n",
        "    text = \" \".join(text.split())\n",
        "    return text\n",
        "\n",
        "def prediction_probabilities(predictions):\n",
        "\n",
        "    def softmax(x):\n",
        "        \"\"\"Compute softmax values for each sets of scores in x.\"\"\"\n",
        "        e_x = np.exp(x - np.max(x))\n",
        "        return e_x / e_x.sum()\n",
        "\n",
        "    all_scores = [pred.start_logit+pred.end_logit for pred in predictions]\n",
        "    return softmax(np.array(all_scores))"
      ],
      "metadata": {
        "id": "xZMK8k9AHvtu"
      },
      "execution_count": 50,
      "outputs": []
    },
    {
      "cell_type": "code",
      "source": [
        "def preliminary_predictions(start_logits, end_logits, input_ids, nbest):\n",
        "    # convert tensors to lists\n",
        "    start_logits = to_list(start_logits)[0]\n",
        "    end_logits = to_list(end_logits)[0]\n",
        "    tokens = to_list(input_ids)[0]\n",
        "\n",
        "    # sort our start and end logits from largest to smallest, keeping track of the index\n",
        "    start_idx_and_logit = sorted(enumerate(start_logits), key=lambda x: x[1], reverse=True)\n",
        "    end_idx_and_logit = sorted(enumerate(end_logits), key=lambda x: x[1], reverse=True)\n",
        "\n",
        "    start_indexes = [idx for idx, logit in start_idx_and_logit[:nbest]]\n",
        "    end_indexes = [idx for idx, logit in end_idx_and_logit[:nbest]]\n",
        "\n",
        "    # question tokens are between the CLS token (101, at position 0) and first SEP (102) token\n",
        "    question_indexes = [i+1 for i, token in enumerate(tokens[1:tokens.index(102)])]\n",
        "\n",
        "    # keep track of all preliminary predictions\n",
        "    PrelimPrediction = collections.namedtuple(  # pylint: disable=invalid-name\n",
        "        \"PrelimPrediction\", [\"start_index\", \"end_index\", \"start_logit\", \"end_logit\"]\n",
        "    )\n",
        "    prelim_preds = []\n",
        "    for start_index in start_indexes:\n",
        "        for end_index in end_indexes:\n",
        "            # throw out invalid predictions\n",
        "            if start_index in question_indexes:\n",
        "                continue\n",
        "            if end_index in question_indexes:\n",
        "                continue\n",
        "            if end_index < start_index:\n",
        "                continue\n",
        "            prelim_preds.append(\n",
        "                PrelimPrediction(\n",
        "                    start_index = start_index,\n",
        "                    end_index = end_index,\n",
        "                    start_logit = start_logits[start_index],\n",
        "                    end_logit = end_logits[end_index]\n",
        "                )\n",
        "            )\n",
        "    # sort prelim_preds in descending score order\n",
        "    prelim_preds = sorted(prelim_preds, key=lambda x: (x.start_logit + x.end_logit), reverse=True)\n",
        "    return prelim_preds"
      ],
      "metadata": {
        "id": "64ny2Q5NH2Po"
      },
      "execution_count": 51,
      "outputs": []
    },
    {
      "cell_type": "code",
      "source": [
        "def best_predictions(prelim_preds, nbest, tokenizer):\n",
        "    # keep track of all best predictions\n",
        "\n",
        "    # This will be the pool from which answer probabilities are computed\n",
        "    BestPrediction = collections.namedtuple(\n",
        "        \"BestPrediction\", [\"text\", \"start_logit\", \"end_logit\"]\n",
        "    )\n",
        "    nbest_predictions = []\n",
        "    seen_predictions = []\n",
        "    for pred in prelim_preds:\n",
        "        if len(nbest_predictions) >= nbest:\n",
        "            break\n",
        "        if pred.start_index > 0: # non-null answers have start_index > 0\n",
        "\n",
        "            toks = tokens[pred.start_index : pred.end_index+1]\n",
        "            text = get_clean_text(toks, tokenizer)\n",
        "\n",
        "            # if this text has been seen already - skip it\n",
        "            if text in seen_predictions:\n",
        "                continue\n",
        "\n",
        "            # flag text as being seen\n",
        "            seen_predictions.append(text)\n",
        "\n",
        "            # add this text to a pruned list of the top nbest predictions\n",
        "            nbest_predictions.append(\n",
        "                BestPrediction(\n",
        "                    text=text,\n",
        "                    start_logit=pred.start_logit,\n",
        "                    end_logit=pred.end_logit\n",
        "                    )\n",
        "                )\n",
        "\n",
        "    # Add the null prediction\n",
        "    nbest_predictions.append(\n",
        "        BestPrediction(\n",
        "            text=\"\",\n",
        "            start_logit=start_logits[0],\n",
        "            end_logit=end_logits[0]\n",
        "            )\n",
        "        )\n",
        "    return nbest_predictions"
      ],
      "metadata": {
        "id": "MuOrDGAlH4X3"
      },
      "execution_count": 52,
      "outputs": []
    },
    {
      "cell_type": "code",
      "source": [
        "def compute_score_difference(predictions):\n",
        "    \"\"\" Assumes that the null answer is always the last prediction \"\"\"\n",
        "    score_null = predictions[-1].start_logit + predictions[-1].end_logit\n",
        "    score_non_null = predictions[0].start_logit + predictions[0].end_logit\n",
        "    return score_null - score_non_null"
      ],
      "metadata": {
        "id": "xbhu2DkmH59Y"
      },
      "execution_count": 53,
      "outputs": []
    },
    {
      "cell_type": "code",
      "source": [
        "def get_robust_prediction(example, tokenizer, nbest=10, null_threshold=1.0):\n",
        "\n",
        "    inputs = get_qa_inputs(example, tokenizer)\n",
        "    output = model(**inputs)\n",
        "\n",
        "    # get sensible preliminary predictions, sorted by score\n",
        "    prelim_preds = preliminary_predictions(output.start_logits,\n",
        "                                           output.end_logits,\n",
        "                                           inputs['input_ids'],\n",
        "                                           nbest)\n",
        "\n",
        "    # narrow that down to the top nbest predictions\n",
        "    nbest_preds = best_predictions(prelim_preds, nbest, tokenizer)\n",
        "\n",
        "    # compute the probability of each prediction - nice but not necessary\n",
        "    probabilities = prediction_probabilities(nbest_preds)\n",
        "\n",
        "    # compute score difference\n",
        "    score_difference = compute_score_difference(nbest_preds)\n",
        "\n",
        "    # if score difference > threshold, return the null answer\n",
        "    if score_difference > null_threshold:\n",
        "        return \"\", probabilities[-1]\n",
        "    else:\n",
        "        return nbest_preds[0].text, probabilities[0]"
      ],
      "metadata": {
        "id": "2ssdzBAVH7L9"
      },
      "execution_count": 54,
      "outputs": []
    },
    {
      "cell_type": "markdown",
      "source": [
        "We are not able to detect 'No Answer'"
      ],
      "metadata": {
        "id": "qgSENE15H8Wa"
      }
    },
    {
      "cell_type": "code",
      "source": [
        "print(example.question_text)\n",
        "get_robust_prediction(example, tokenizer, nbest=10, null_threshold=best_f1_thresh)"
      ],
      "metadata": {
        "colab": {
          "base_uri": "https://localhost:8080/"
        },
        "id": "O-rIYr5fIBDs",
        "outputId": "9e49eba5-0ecd-4afc-e833-22b052187d58"
      },
      "execution_count": 55,
      "outputs": [
        {
          "output_type": "stream",
          "name": "stdout",
          "text": [
            "What happened 3.7-2 billion years ago?\n"
          ]
        },
        {
          "output_type": "execute_result",
          "data": {
            "text/plain": [
              "('', 0.9975693374241689)"
            ]
          },
          "metadata": {},
          "execution_count": 55
        }
      ]
    },
    {
      "cell_type": "markdown",
      "source": [
        "# Using A/B Testing to make model deployment decisions"
      ],
      "metadata": {
        "id": "rHwYSaaFIE-s"
      }
    },
    {
      "cell_type": "markdown",
      "source": [
        "Now we have all the tools to make decisions on whether a model is better than the other."
      ],
      "metadata": {
        "id": "gKTTyCiXIHYV"
      }
    },
    {
      "cell_type": "markdown",
      "source": [
        "## Home assistant device"
      ],
      "metadata": {
        "id": "PUnBIft2IK1w"
      }
    },
    {
      "cell_type": "markdown",
      "source": [
        "We have been tasked to evaluate whether a new model recently trained is better than our current model in production\n",
        "\n",
        "While talking to our business we are able to enumerate our priorities in order of importance:\n",
        "\n",
        "1) Our users should receive their answer quickly, and the threshold for the isolated prediction of the model is 0.01 seconds 2) Its important to not surface answers when questions are either malformed or don't have enough context to be answered 3) Accuracy is important to the level where uses care about factuality without too much concern with answers having exact words as their ground truth\n",
        "\n",
        "We are looking for the f1 score of \"has answer\" and \"no answer\" separately, so we can weight them according to the requirements\n",
        "\n",
        "Also, we want to measure latency as: time to predict 10000 questions from our user\n",
        "\n",
        "Given this scenario we write the following objective function:"
      ],
      "metadata": {
        "id": "9ocfA2hnIRiM"
      }
    },
    {
      "cell_type": "code",
      "source": [
        "def home_assistant_score(has_answer_f1, no_answer_f1, prediction_time):\n",
        "    return ((0.2 * has_answer_f1 + 0.3 * no_answer_f1) - (0.5 * (10000 * prediction_time)))"
      ],
      "metadata": {
        "id": "BGF9n9p8IGZA"
      },
      "execution_count": 56,
      "outputs": []
    },
    {
      "cell_type": "markdown",
      "source": [
        "We assign very high weight (0.5) to our prediction time, while dividing the remaining between our both F1 scores, giving slightly higher importance to \"No Answer\" scores\n",
        "\n",
        "Lets evaluate now our BERT model given the above Objective function"
      ],
      "metadata": {
        "id": "R8pXHgIGIWQ-"
      }
    },
    {
      "cell_type": "code",
      "source": [
        "result = evaluate(BERT_MODEL_HF_PATH, dataset, BERT_OUTPUT_DIR)\n",
        "result"
      ],
      "metadata": {
        "colab": {
          "base_uri": "https://localhost:8080/"
        },
        "id": "mEu4C1vDIWs8",
        "outputId": "e3109cf1-f400-4af9-af6e-328e96b03d83"
      },
      "execution_count": 57,
      "outputs": [
        {
          "output_type": "stream",
          "name": "stderr",
          "text": [
            "Some weights of the model checkpoint at twmkn9/bert-base-uncased-squad2 were not used when initializing BertForQuestionAnswering: ['bert.pooler.dense.weight', 'bert.pooler.dense.bias']\n",
            "- This IS expected if you are initializing BertForQuestionAnswering from the checkpoint of a model trained on another task or with another architecture (e.g. initializing a BertForSequenceClassification model from a BertForPreTraining model).\n",
            "- This IS NOT expected if you are initializing BertForQuestionAnswering from the checkpoint of a model that you expect to be exactly identical (initializing a BertForSequenceClassification model from a BertForSequenceClassification model).\n",
            "Evaluating: 100%|██████████| 1020/1020 [05:17<00:00,  3.21it/s]\n"
          ]
        },
        {
          "output_type": "stream",
          "name": "stdout",
          "text": [
            "Evaluation done in total 317.52474338 seconds (0.025958530361347286 seconds per example)\n"
          ]
        },
        {
          "output_type": "execute_result",
          "data": {
            "text/plain": [
              "OrderedDict([('exact', 72.3658721468879),\n",
              "             ('f1', 75.83107045305708),\n",
              "             ('total', 11873),\n",
              "             ('HasAns_exact', 72.80701754385964),\n",
              "             ('HasAns_f1', 79.74735146578041),\n",
              "             ('HasAns_total', 5928),\n",
              "             ('NoAns_exact', 71.9259882253995),\n",
              "             ('NoAns_f1', 71.9259882253995),\n",
              "             ('NoAns_total', 5945),\n",
              "             ('best_exact', 72.3658721468879),\n",
              "             ('best_exact_thresh', 0.0),\n",
              "             ('best_f1', 75.8310704530571),\n",
              "             ('best_f1_thresh', 0.0),\n",
              "             ('eval_time', 317.52474338),\n",
              "             ('prediction_time', 0.025958530361347286)])"
            ]
          },
          "metadata": {},
          "execution_count": 57
        }
      ]
    },
    {
      "cell_type": "code",
      "source": [
        "print(f\"Model {BERT_MODEL_TYPE} score is {home_assistant_score(result['HasAns_f1'], result['NoAns_f1'], result['prediction_time'])}\")"
      ],
      "metadata": {
        "colab": {
          "base_uri": "https://localhost:8080/"
        },
        "id": "goFvofXmIbg-",
        "outputId": "becbc5a1-21f9-4928-cd05-a81d1ab265e8"
      },
      "execution_count": 58,
      "outputs": [
        {
          "output_type": "stream",
          "name": "stdout",
          "text": [
            "Model bert score is -92.26538504596049\n"
          ]
        }
      ]
    },
    {
      "cell_type": "markdown",
      "source": [
        "Ok, now we have a number that quantifies our business requirements.\n",
        "\n",
        "One of our data scientists, have found a 'faster' version of BERT, called 'distilled bert' that has 40% less parameters and is 60% faster while preserving 95% of BERT's performance\n",
        "\n",
        "Lets now evaluate this model using our pipeline:"
      ],
      "metadata": {
        "id": "AopBn5z9Ic3l"
      }
    },
    {
      "cell_type": "code",
      "source": [
        "result_distilled = evaluate(model_name_or_path=DISTILBERT_MODEL_HF_PATH, dataset=dataset, output_dir=DISTILBERT_OUTPUT_DIR, model_type=DISTILBERT_MODEL_TYPE)\n",
        "result_distilled"
      ],
      "metadata": {
        "colab": {
          "base_uri": "https://localhost:8080/",
          "height": 472,
          "referenced_widgets": [
            "32379c0ae25b4aec80a1978b2a89d3f5",
            "9c2f05d863cf4e10943aa6386571fd91",
            "e3b11197fca44eb3a9fcabbcb01715e2",
            "6c2c045589d44c0390f6c8e5b52403ff",
            "d10aaeb9a3984f9a8687a48fbabaa25c",
            "7cf65bcf812540768be97314c126b8ae",
            "57f7f66e07f14fb1a983605c7f1e1331",
            "a596b40539c1436887963136bb304054",
            "b3923b1829d948d083673ab7eeb33865",
            "719bfe403f9542e4b6e6df7834ce6f9b",
            "8b2760ec7cc94a9bab3ffa442ac3b0ed",
            "2fadb7618c6043b1a40d5f145a4a987d",
            "d1ddbb1b6bea4cbd9629e5e4229dd128",
            "7c1744b2e7ac4dfdb211dc5a7074c54e",
            "527bb7eb209e4123beb204f8b9d595bb",
            "538becf826254e6abd93831014b84cd9",
            "1ff9b44d093d42de9f82757f4a8be923",
            "b60eae6a9a8c49c98744480488f62a3d",
            "758c5e521b7448a6a6806217364754c1",
            "cf56b4b061bf425db2d8166221b3799a",
            "5a1f39c6de7843d5b87e4d3121c48072",
            "26166e496c154d48bb8caff0841eb8d4",
            "70b5238f1a574daeb2c9e4185d8c2cfd",
            "b49631687d5b4433970f8c783b18b7fa",
            "10231c9d708c4518a23e30eae7d4a2d1",
            "1b703f5a755640f7ba725773283db5d4",
            "3cfb21b1745f47d9b6628400efbdfaf0",
            "8c26db6da17d43d2aaddfedf2c5ab226",
            "c9dc24f12df647778fbd0d10586c1401",
            "00989029d9ea4ab3b7d45450c327e9ec",
            "46a1365bd3484aec900a6ce6f4a3b788",
            "d423aab3b231463490a5b5c8384b8bd2",
            "7a697fdcacdd4c82a30f8ed84f5e0fc7",
            "fca8f927c9c54b87a517e433b1fd75d5",
            "1aef9255bdfa44ec8f3cc09bda8a5f6d",
            "87f00a9297914867bcee5f601a79d650",
            "5c54245742734ec78205e4c37e32030f",
            "3ee91a14bd114fbcb8f2c45ef7eb6c7c",
            "9004fbff476e4044aa855c1a77c3ad56",
            "ded6bb89c40249488c0a33b8538d14f1",
            "3a5370d23f534231b0569838b86783a4",
            "91346bd140e04924bd226335c2869fb1",
            "7fc64248d60e4a0b85dc6a7b5659911e",
            "ec6fd73f566246d9a6c10c37d06be449",
            "6b2b24c0e5b84e86a7253198761209f9",
            "e2a6487d99ec4cb78f164e82654b6070",
            "405c2ec7bdfb43fb9bf3fc8046ce4f39",
            "5157a0d0ceaa434983bf24d7cc5b96ad",
            "4988642daa594fddb8d48151cace491c",
            "0cb2f97514ba4ace8e6c439e3507e326",
            "16d5cded15874d3598f5123108842a33",
            "9c6f1d134e8a4b1bba8fc50e28c5a845",
            "89af8784f0c84795a83819d1881547de",
            "cbdd2b25e58549b585af844f74278a9f",
            "fabb605b1c5d4c40ac50bba821f8c950"
          ]
        },
        "id": "gOFBppXYIepO",
        "outputId": "66201c6a-71c4-4a25-a856-81e77730bf1b"
      },
      "execution_count": 59,
      "outputs": [
        {
          "output_type": "display_data",
          "data": {
            "text/plain": [
              "Downloading (…)okenizer_config.json:   0%|          | 0.00/39.0 [00:00<?, ?B/s]"
            ],
            "application/vnd.jupyter.widget-view+json": {
              "version_major": 2,
              "version_minor": 0,
              "model_id": "32379c0ae25b4aec80a1978b2a89d3f5"
            }
          },
          "metadata": {}
        },
        {
          "output_type": "display_data",
          "data": {
            "text/plain": [
              "Downloading (…)lve/main/config.json:   0%|          | 0.00/478 [00:00<?, ?B/s]"
            ],
            "application/vnd.jupyter.widget-view+json": {
              "version_major": 2,
              "version_minor": 0,
              "model_id": "2fadb7618c6043b1a40d5f145a4a987d"
            }
          },
          "metadata": {}
        },
        {
          "output_type": "display_data",
          "data": {
            "text/plain": [
              "Downloading (…)solve/main/vocab.txt:   0%|          | 0.00/232k [00:00<?, ?B/s]"
            ],
            "application/vnd.jupyter.widget-view+json": {
              "version_major": 2,
              "version_minor": 0,
              "model_id": "70b5238f1a574daeb2c9e4185d8c2cfd"
            }
          },
          "metadata": {}
        },
        {
          "output_type": "display_data",
          "data": {
            "text/plain": [
              "Downloading (…)cial_tokens_map.json:   0%|          | 0.00/112 [00:00<?, ?B/s]"
            ],
            "application/vnd.jupyter.widget-view+json": {
              "version_major": 2,
              "version_minor": 0,
              "model_id": "fca8f927c9c54b87a517e433b1fd75d5"
            }
          },
          "metadata": {}
        },
        {
          "output_type": "display_data",
          "data": {
            "text/plain": [
              "Downloading pytorch_model.bin:   0%|          | 0.00/265M [00:00<?, ?B/s]"
            ],
            "application/vnd.jupyter.widget-view+json": {
              "version_major": 2,
              "version_minor": 0,
              "model_id": "6b2b24c0e5b84e86a7253198761209f9"
            }
          },
          "metadata": {}
        },
        {
          "output_type": "stream",
          "name": "stderr",
          "text": [
            "Evaluating: 100%|██████████| 1020/1020 [02:40<00:00,  6.36it/s]\n"
          ]
        },
        {
          "output_type": "stream",
          "name": "stdout",
          "text": [
            "Evaluation done in total 160.2621404219999 seconds (0.013101875443263564 seconds per example)\n"
          ]
        },
        {
          "output_type": "execute_result",
          "data": {
            "text/plain": [
              "OrderedDict([('exact', 66.25958056093658),\n",
              "             ('f1', 69.66994428499025),\n",
              "             ('total', 11873),\n",
              "             ('HasAns_exact', 68.91025641025641),\n",
              "             ('HasAns_f1', 75.74076391627662),\n",
              "             ('HasAns_total', 5928),\n",
              "             ('NoAns_exact', 63.61648444070648),\n",
              "             ('NoAns_f1', 63.61648444070648),\n",
              "             ('NoAns_total', 5945),\n",
              "             ('best_exact', 66.25958056093658),\n",
              "             ('best_exact_thresh', 0.0),\n",
              "             ('best_f1', 69.66994428499046),\n",
              "             ('best_f1_thresh', 0.0),\n",
              "             ('eval_time', 160.2621404219999),\n",
              "             ('prediction_time', 0.013101875443263564)])"
            ]
          },
          "metadata": {},
          "execution_count": 59
        }
      ]
    },
    {
      "cell_type": "code",
      "source": [
        "print(f\"Model {DISTILBERT_MODEL_TYPE} score is {home_assistant_score(result_distilled['HasAns_f1'], result_distilled['NoAns_f1'], result_distilled['prediction_time'])}\")"
      ],
      "metadata": {
        "colab": {
          "base_uri": "https://localhost:8080/"
        },
        "id": "RwnkdkFjIkHP",
        "outputId": "9c9617b0-63ff-46c8-8212-ff5f13520a67"
      },
      "execution_count": 60,
      "outputs": [
        {
          "output_type": "stream",
          "name": "stdout",
          "text": [
            "Model distilbert score is -31.276279100850545\n"
          ]
        }
      ]
    },
    {
      "cell_type": "markdown",
      "source": [
        "The Distilled Version of BERT achieves exactly what it was described, it produces predictions in almost half of the speed of the traditional BERT with very minimal impacts to performance\n",
        "\n",
        "The recommendation in the above case is to switch BERT model for the DistilledBERT as it improves business metrics by 3x"
      ],
      "metadata": {
        "id": "Lb1p8us5ImCR"
      }
    },
    {
      "cell_type": "markdown",
      "source": [
        "------------------------------------------------------------------------------------------end of notebook------------------------------------------------------------------------------------------"
      ],
      "metadata": {
        "id": "3Oyrl0g-Leoo"
      }
    }
  ]
}